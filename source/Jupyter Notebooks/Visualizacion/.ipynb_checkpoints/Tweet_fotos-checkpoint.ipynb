{
 "cells": [
  {
   "cell_type": "markdown",
   "metadata": {},
   "source": [
    "# Tweet con fotos\n",
    "    Cuenta @proyecto_ozono"
   ]
  },
  {
   "cell_type": "code",
   "execution_count": 11,
   "metadata": {},
   "outputs": [],
   "source": [
    "import tweepy"
   ]
  },
  {
   "cell_type": "code",
   "execution_count": 12,
   "metadata": {},
   "outputs": [],
   "source": [
    "consumer_key='wKfffo48huFe2UV0NuRznxNxU'\n",
    "consumer_secret='fWkyQtSmdpiphNgqCMSxuOtfRO0OSgnTj33wEm6Fw0NFspIkQ7'\n",
    "access_token ='1248321005560516609-IkYET9pdMoVi3m2AWEtW2sSjEn6mpd'\n",
    "access_secret='aCVbfiZR4lPp18CHmQYNgNb0M8IPr3zjGM5kcHPxiaKIu'"
   ]
  },
  {
   "cell_type": "code",
   "execution_count": 69,
   "metadata": {},
   "outputs": [],
   "source": [
    "def tweet(mensaje,fotos = []):\n",
    "    twitter_auth_keys = { \n",
    "        \"consumer_key\"        : \"wKfffo48huFe2UV0NuRznxNxU\",\n",
    "        \"consumer_secret\"     : \"fWkyQtSmdpiphNgqCMSxuOtfRO0OSgnTj33wEm6Fw0NFspIkQ7\",\n",
    "        \"access_token\"        : \"1248321005560516609-IkYET9pdMoVi3m2AWEtW2sSjEn6mpd\",\n",
    "        \"access_token_secret\" : \"aCVbfiZR4lPp18CHmQYNgNb0M8IPr3zjGM5kcHPxiaKIu\"\n",
    "    }\n",
    " \n",
    "    auth = tweepy.OAuthHandler(\n",
    "            twitter_auth_keys['consumer_key'],\n",
    "            twitter_auth_keys['consumer_secret']\n",
    "            )\n",
    "    auth.set_access_token(\n",
    "            twitter_auth_keys['access_token'],\n",
    "            twitter_auth_keys['access_token_secret']\n",
    "            )\n",
    "    api = tweepy.API(auth)\n",
    "    \n",
    "    l_media_ids = []\n",
    "    for i in range(len(fotos)):\n",
    "        response = api.media_upload(fotos[i])\n",
    "        l_media_ids.append(response.media_id)\n",
    "        \n",
    "    status = api.update_status(status=mensaje, media_ids = l_media_ids)\n",
    "    return status"
   ]
  },
  {
   "cell_type": "code",
   "execution_count": 64,
   "metadata": {
    "scrolled": true
   },
   "outputs": [],
   "source": [
    "tweet(mensaje = \"SUBIENDO UN PAR DE FOTOS\",fotos = [\"/home/rulicering/Downloads/calendario-2001.jpg\",\"/home/rulicering/Downloads/Screenshot.png\"])"
   ]
  }
 ],
 "metadata": {
  "kernelspec": {
   "display_name": "Python 3",
   "language": "python",
   "name": "python3"
  },
  "language_info": {
   "codemirror_mode": {
    "name": "ipython",
    "version": 3
   },
   "file_extension": ".py",
   "mimetype": "text/x-python",
   "name": "python",
   "nbconvert_exporter": "python",
   "pygments_lexer": "ipython3",
   "version": "3.6.9"
  }
 },
 "nbformat": 4,
 "nbformat_minor": 4
}
