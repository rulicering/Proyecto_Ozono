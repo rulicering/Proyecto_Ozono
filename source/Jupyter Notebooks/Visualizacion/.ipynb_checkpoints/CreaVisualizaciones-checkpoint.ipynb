{
 "cells": [
  {
   "cell_type": "code",
   "execution_count": 22,
   "metadata": {
    "scrolled": false
   },
   "outputs": [
    {
     "ename": "Error",
     "evalue": "unsupported locale setting",
     "output_type": "error",
     "traceback": [
      "\u001b[0;31m---------------------------------------------------------------------------\u001b[0m",
      "\u001b[0;31mError\u001b[0m                                     Traceback (most recent call last)",
      "\u001b[0;32m<ipython-input-22-b4cc678094a5>\u001b[0m in \u001b[0;36m<module>\u001b[0;34m\u001b[0m\n\u001b[1;32m      1\u001b[0m \u001b[0;32mimport\u001b[0m \u001b[0mlocale\u001b[0m\u001b[0;34m\u001b[0m\u001b[0;34m\u001b[0m\u001b[0m\n\u001b[0;32m----> 2\u001b[0;31m \u001b[0mlocale\u001b[0m\u001b[0;34m.\u001b[0m\u001b[0msetlocale\u001b[0m\u001b[0;34m(\u001b[0m\u001b[0mlocale\u001b[0m\u001b[0;34m.\u001b[0m\u001b[0mLC_TIME\u001b[0m\u001b[0;34m,\u001b[0m\u001b[0;34m\"es_ES\"\u001b[0m\u001b[0;34m)\u001b[0m\u001b[0;34m\u001b[0m\u001b[0;34m\u001b[0m\u001b[0m\n\u001b[0m",
      "\u001b[0;32m/usr/lib/python3.6/locale.py\u001b[0m in \u001b[0;36msetlocale\u001b[0;34m(category, locale)\u001b[0m\n\u001b[1;32m    596\u001b[0m         \u001b[0;31m# convert to string\u001b[0m\u001b[0;34m\u001b[0m\u001b[0;34m\u001b[0m\u001b[0;34m\u001b[0m\u001b[0m\n\u001b[1;32m    597\u001b[0m         \u001b[0mlocale\u001b[0m \u001b[0;34m=\u001b[0m \u001b[0mnormalize\u001b[0m\u001b[0;34m(\u001b[0m\u001b[0m_build_localename\u001b[0m\u001b[0;34m(\u001b[0m\u001b[0mlocale\u001b[0m\u001b[0;34m)\u001b[0m\u001b[0;34m)\u001b[0m\u001b[0;34m\u001b[0m\u001b[0;34m\u001b[0m\u001b[0m\n\u001b[0;32m--> 598\u001b[0;31m     \u001b[0;32mreturn\u001b[0m \u001b[0m_setlocale\u001b[0m\u001b[0;34m(\u001b[0m\u001b[0mcategory\u001b[0m\u001b[0;34m,\u001b[0m \u001b[0mlocale\u001b[0m\u001b[0;34m)\u001b[0m\u001b[0;34m\u001b[0m\u001b[0;34m\u001b[0m\u001b[0m\n\u001b[0m\u001b[1;32m    599\u001b[0m \u001b[0;34m\u001b[0m\u001b[0m\n\u001b[1;32m    600\u001b[0m \u001b[0;32mdef\u001b[0m \u001b[0mresetlocale\u001b[0m\u001b[0;34m(\u001b[0m\u001b[0mcategory\u001b[0m\u001b[0;34m=\u001b[0m\u001b[0mLC_ALL\u001b[0m\u001b[0;34m)\u001b[0m\u001b[0;34m:\u001b[0m\u001b[0;34m\u001b[0m\u001b[0;34m\u001b[0m\u001b[0m\n",
      "\u001b[0;31mError\u001b[0m: unsupported locale setting"
     ]
    }
   ],
   "source": [
    "import locale\n",
    "locale.setlocale(locale.LC_TIME,\"es_ES\")"
   ]
  },
  {
   "cell_type": "code",
   "execution_count": 6,
   "metadata": {},
   "outputs": [],
   "source": [
    "import datetime"
   ]
  },
  {
   "cell_type": "code",
   "execution_count": 17,
   "metadata": {},
   "outputs": [],
   "source": [
    "hoy = datetime.date.today().strftime(\"%d-%B-%Y\")"
   ]
  },
  {
   "cell_type": "code",
   "execution_count": 18,
   "metadata": {
    "scrolled": true
   },
   "outputs": [
    {
     "data": {
      "text/plain": [
       "'16-May-2020'"
      ]
     },
     "execution_count": 18,
     "metadata": {},
     "output_type": "execute_result"
    }
   ],
   "source": [
    "hoy"
   ]
  },
  {
   "cell_type": "code",
   "execution_count": 5,
   "metadata": {},
   "outputs": [
    {
     "name": "stdout",
     "output_type": "stream",
     "text": [
      "size of self.img = (75, 75)\n",
      "center of self.img =  37 37\n"
     ]
    }
   ],
   "source": [
    "import tkinter as tk # Python 3 tkinter modules\n",
    "from tkinter import ttk\n",
    "from PIL import Image, ImageTk \n",
    "#from PIL import Image, ImageTk, ImageGrab  # For Windows & OSx\n",
    "import pyscreenshot as ImageGrab # For Linux\n",
    "import datetime\n",
    "\n",
    "class App(tk.Frame):\n",
    "    def __init__(self, parent):\n",
    "        tk.Frame.__init__(self, parent)\n",
    "        self.parent=parent\n",
    "\n",
    "        file = \"/home/rulicering/Datos_Proyecto_Ozono/Imagenes/Logo.jpeg\"\n",
    "        self.img = Image.open(file)\n",
    "        self.img = self.img.resize((75,75))\n",
    "        #self.img.show() #Check to proof image can be read in and displayed correctly.\n",
    "        self.photo = ImageTk.PhotoImage(self.img)\n",
    "        print('size of self.img =', self.img.size)\n",
    "        centerx= self.img.size[0]//2\n",
    "        centery= self.img.size[1]//2\n",
    "        print ('center of self.img = ', centerx, centery)\n",
    "        \n",
    "        self.sep = ttk.Separator(self, orient = \"horizontal\").grid(row=0,column = 0,\n",
    "                                                                   columnspan =3,sticky = \"nw\",\n",
    "                                                                  ipadx = 150)\n",
    "        self.cv = tk.Canvas(self,height = 75, width = 75, highlightthickness=0)    \n",
    "        self.cv.create_image(centerx, centery, image=self.photo)\n",
    "        self.cv.grid(row=0, column=3, sticky = \"nw\", padx = 10) \n",
    "        \n",
    "        self.label = tk.Label(self, text = \"PROYECTO OZONO - [o3]\",bg = \"white\",\n",
    "                              font=(\"Sawasdee\", 17))\n",
    "        self.label.grid(row = 0, column = 4, sticky = \"nw\", ipady = 15, ipadx = 0)\n",
    "        #self.label.place(x = 150, y = 20)\n",
    "        \n",
    "        \"\"\"\n",
    "        self.snappic=tk.Button(self, text='SNAP', command=self._snapCanvas)\n",
    "        self.snappic.grid(row=1, column=1, sticky='nsew')\n",
    "\n",
    "        self.savepic=tk.Button(self, text='SAVE', command=self._save)\n",
    "        self.savepic.grid(row=1, column=2, sticky='nsew')\n",
    "\n",
    "        self.snapsave=tk.Button(self, text='SNAP & SAVE', command=self._snapsaveCanvas)\n",
    "        self.snapsave.grid(row=2, column=1, columnspan=2, sticky='nsew')\n",
    "        \"\"\"\n",
    "\n",
    "    def _snapCanvas(self):\n",
    "        print('\\n def _snapCanvas(self):')\n",
    "        canvas = self._canvas() # Get Window Coordinates of Canvas\n",
    "        self.grabcanvas = ImageGrab.grab(bbox=canvas)\n",
    "        self.grabcanvas.show()\n",
    "\n",
    "    def _save(self):\n",
    "        self.grabcanvas.save(\"out.jpg\")\n",
    "        print('Screenshoot of tkinter.Canvas saved in \"out.jpg\"')\n",
    "\n",
    "    def _snapsaveCanvas(self):\n",
    "        print('\\n def _snapsaveCanvas(self):')\n",
    "        canvas = self._canvas()  # Get Window Coordinates of Canvas\n",
    "        self.grabcanvas = ImageGrab.grab(bbox=canvas).save(\"out_snapsave.jpg\")\n",
    "        print('Screencshot tkinter canvas and saved as \"out_snapsave.jpg w/o displaying screenshoot.\"')\n",
    "\n",
    "    def _canvas(self):\n",
    "        print('  def _canvas(self):')\n",
    "        print('self.cv.winfo_rootx() = ', self.cv.winfo_rootx())\n",
    "        print('self.cv.winfo_rooty() = ', self.cv.winfo_rooty())\n",
    "        print('self.cv.winfo_x() =', self.cv.winfo_x())\n",
    "        print('self.cv.winfo_y() =', self.cv.winfo_y())\n",
    "        print('self.cv.winfo_width() =', self.cv.winfo_width())\n",
    "        print('self.cv.winfo_height() =', self.cv.winfo_height())\n",
    "        x=self.cv.winfo_rootx()+self.cv.winfo_x()\n",
    "        y=self.cv.winfo_rooty()+self.cv.winfo_y()\n",
    "        x1=x+self.cv.winfo_width()\n",
    "        y1=y+self.cv.winfo_height()\n",
    "        #box=(x,y,x1,y1)\n",
    "        box = (0,0,100,100)\n",
    "        print('box = ', box)\n",
    "        return box\n",
    "\n",
    "\n",
    "if __name__ == '__main__':\n",
    "    root = tk.Tk()\n",
    "    root.title('Proyecto Ozono - [o3]')\n",
    "    root.geometry('1024x512')\n",
    "    root.configure(background = 'white')\n",
    "    app = App(root)\n",
    "    app.grid(row=0, column=0, sticky='nsew')\n",
    "    \n",
    "    \"\"\"\n",
    "    root.rowconfigure(0, weight=1)\n",
    "    root.columnconfigure(0, weight=1)\n",
    "\n",
    "    app.rowconfigure(0, weight=1)\n",
    "    app.rowconfigure(1, weight=1)\n",
    "    app.columnconfigure(0, weight=1)\n",
    "    app.columnconfigure(1, weight=1)\n",
    "    app.columnconfigure(2, weight=1)\n",
    "    \"\"\"\n",
    "    app.configure(background='white')\n",
    "    app.mainloop()"
   ]
  },
  {
   "cell_type": "code",
   "execution_count": null,
   "metadata": {},
   "outputs": [],
   "source": []
  }
 ],
 "metadata": {
  "kernelspec": {
   "display_name": "Python 3",
   "language": "python",
   "name": "python3"
  },
  "language_info": {
   "codemirror_mode": {
    "name": "ipython",
    "version": 3
   },
   "file_extension": ".py",
   "mimetype": "text/x-python",
   "name": "python",
   "nbconvert_exporter": "python",
   "pygments_lexer": "ipython3",
   "version": "3.6.9"
  }
 },
 "nbformat": 4,
 "nbformat_minor": 4
}
