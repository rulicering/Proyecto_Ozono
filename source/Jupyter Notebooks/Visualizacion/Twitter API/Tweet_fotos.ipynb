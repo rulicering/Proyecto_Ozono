{
 "cells": [
  {
   "cell_type": "markdown",
   "metadata": {},
   "source": [
    "# Tweet con fotos\n",
    "    Cuenta @proyecto_ozono"
   ]
  },
  {
   "cell_type": "code",
   "execution_count": 27,
   "metadata": {},
   "outputs": [],
   "source": [
    "import tweepy\n",
    "import json"
   ]
  },
  {
   "cell_type": "code",
   "execution_count": 28,
   "metadata": {},
   "outputs": [],
   "source": [
    "f = open(\"/home/rulicering/Datos_Proyecto_Ozono/Credenciales/Credenciales.json\")\n",
    "credenciales = json.load(f)"
   ]
  },
  {
   "cell_type": "code",
   "execution_count": 33,
   "metadata": {},
   "outputs": [],
   "source": [
    "twitter_auth_keys = { \n",
    "    \"consumer_key\"        : credenciales[\"twitter\"][\"consumer_key\"],\n",
    "    \"consumer_secret\"     : credenciales[\"twitter\"][\"consumer_secret\"],\n",
    "    \"access_token\"        : credenciales[\"twitter\"][\"access_token\"],\n",
    "    \"access_token_secret\" : credenciales[\"twitter\"][\"access_token_secret\"]\n",
    "}"
   ]
  },
  {
   "cell_type": "code",
   "execution_count": 34,
   "metadata": {},
   "outputs": [],
   "source": [
    "def tweet(mensaje,fotos = []):\n",
    "    auth = tweepy.OAuthHandler(\n",
    "            twitter_auth_keys['consumer_key'],\n",
    "            twitter_auth_keys['consumer_secret']\n",
    "            )\n",
    "    auth.set_access_token(\n",
    "            twitter_auth_keys['access_token'],\n",
    "            twitter_auth_keys['access_token_secret']\n",
    "            )\n",
    "    api = tweepy.API(auth)\n",
    "    \n",
    "    l_media_ids = []\n",
    "    for i in range(len(fotos)):\n",
    "        response = api.media_upload(fotos[i])\n",
    "        l_media_ids.append(response.media_id)\n",
    "        \n",
    "    status = api.update_status(status=mensaje, media_ids = l_media_ids)\n",
    "    return status"
   ]
  },
  {
   "cell_type": "code",
   "execution_count": 35,
   "metadata": {
    "scrolled": true
   },
   "outputs": [
    {
     "data": {
      "text/plain": [
      ]
     },
     "execution_count": 35,
     "metadata": {},
     "output_type": "execute_result"
    }
   ],
   "source": [
    "tweet(mensaje = \"SUBIENDO UN PAR DE FOTOS\",fotos = [\"/home/rulicering/Downloads/calendario-2001.jpg\",\"/home/rulicering/Downloads/Screenshot.png\"])"
   ]
  }
 ],
 "metadata": {
  "kernelspec": {
   "display_name": "Python 3",
   "language": "python",
   "name": "python3"
  },
  "language_info": {
   "codemirror_mode": {
    "name": "ipython",
    "version": 3
   },
   "file_extension": ".py",
   "mimetype": "text/x-python",
   "name": "python",
   "nbconvert_exporter": "python",
   "pygments_lexer": "ipython3",
   "version": "3.6.9"
  }
 },
 "nbformat": 4,
 "nbformat_minor": 4
}
