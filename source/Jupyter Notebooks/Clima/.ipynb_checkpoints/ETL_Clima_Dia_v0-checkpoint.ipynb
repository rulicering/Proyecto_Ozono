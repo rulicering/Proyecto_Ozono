{
 "cells": [
  {
   "cell_type": "markdown",
   "metadata": {},
   "source": [
    "# [o3] - Proyecto Ozono - ETL_Clima_Dia_v0"
   ]
  },
  {
   "cell_type": "markdown",
   "metadata": {},
   "source": [
    "# [INFO]\n",
    "    \n",
    "       SOLO AEMET PROPORCIONA DATOS ACTUALES DE CLIMA \n",
    "       \n",
    "       !! CON 3 HORAS DE RETRASO POR LO QUE LA CARGA DE DATOS DIARIOS SE REALIZA EL DIA SIGUIENTE A LAS 3 AM"
   ]
  },
  {
   "cell_type": "markdown",
   "metadata": {},
   "source": [
    "    0. Inicialización\n",
    "    1. Datos\n",
    "        1.0 Carga fichero Estacione HOY\n",
    "        1.1 Lista magnitudes \n",
    "        1.2 ----------------------- AEMET -----------------------\n",
    "            1.2.0 Codegen + API\n",
    "            1.2.1 [FUNCION] -  Formateo datos\n",
    "            1.2.2 [FUNCIONES] - Request datos\n",
    "            1.2.3  _______ HOY _______\n",
    "                1.2.3.0 Estaciones \n",
    "                1.2.3.1 Obtenemos los datos\n",
    "            1.2.4 Columnas -> ANO,MES,DIA,FECHA\n",
    "            1.2.5 Columnas -> avg(Temp)\n",
    "            1.2.6 Rename & Colcar\n",
    "            1.2.7  Filtrar datos de hoy\n",
    "            1.2.8 Select\n",
    "            1.2.9 Tipos\n",
    "            1.2.10 ESTACION -> CODIGO_CORTO\n",
    "            1.2.11 Valores diarios\n",
    "                1.2.11.0 AVERAGE DIA (Presion,temperatura,Velocidad-Direccion del viento)+SUMA(Precipitaciones)\n",
    "            1.2.12 \"None\" a Nulo\n",
    "    2. Export\n",
    "            \n",
    "            "
   ]
  },
  {
   "cell_type": "markdown",
   "metadata": {},
   "source": [
    "# [0] - Inicialización"
   ]
  },
  {
   "cell_type": "code",
   "execution_count": 1,
   "metadata": {},
   "outputs": [],
   "source": [
    "from __future__ import print_function\n",
    "import swagger_client\n",
    "from swagger_client.rest import ApiException\n",
    "from pprint import pprint\n",
    "import datetime\n",
    "import findspark\n",
    "findspark.init('/home/rulicering/BigData/spark-2.4.5-bin-hadoop2.7')\n",
    "from pyspark.sql import SparkSession\n",
    "from pyspark.sql import functions as F\n",
    "import pandas as pd\n",
    "pd.options.mode.chained_assignment = None\n",
    "import requests\n",
    "import numpy as np\n",
    "import re as reg\n",
    "import json\n",
    "from pyspark.sql.types import StructField,StringType,IntegerType,StructType,FloatType\n",
    "import os"
   ]
  },
  {
   "cell_type": "code",
   "execution_count": 2,
   "metadata": {},
   "outputs": [],
   "source": [
    "spark = SparkSession.builder.appName('clima_hoy').getOrCreate()\n",
    "spark.sparkContext.setLogLevel('ERROR')"
   ]
  },
  {
   "cell_type": "markdown",
   "metadata": {},
   "source": [
    "# [1] -  Datos"
   ]
  },
  {
   "cell_type": "code",
   "execution_count": 3,
   "metadata": {},
   "outputs": [],
   "source": [
    "f = open(\"/home/rulicering/Datos_Proyecto_Ozono/Credenciales/Credenciales.json\")\n",
    "credenciales = json.load(f)\n",
    "AEMET_API_KEY = credenciales[\"aemet\"][\"api_key\"]"
   ]
  },
  {
   "cell_type": "markdown",
   "metadata": {},
   "source": [
    "## [1.0] - Carga fichero Estaciones\n",
    "    Se ejecuta a las 2 AM del día siguiente, 1 dia de diferencia."
   ]
  },
  {
   "cell_type": "code",
   "execution_count": 4,
   "metadata": {},
   "outputs": [],
   "source": [
    "ayer = (datetime.date.today() - datetime.timedelta(days=1)).strftime(\"%Y-%m-%d\")"
   ]
  },
  {
   "cell_type": "code",
   "execution_count": 5,
   "metadata": {},
   "outputs": [],
   "source": [
    "df_estaciones = spark.read.csv(\"/home/rulicering/Datos_Proyecto_Ozono/Procesado/Estaciones/Estaciones-\" + ayer +\".csv\",inferSchema= True, header= True)\n",
    "#Fuerzo que se ejecute para que luego al filtrar no tenga que volver a leer el csv\n",
    "df_estaciones = spark.createDataFrame(df_estaciones.toPandas())"
   ]
  },
  {
   "cell_type": "markdown",
   "metadata": {},
   "source": [
    "## [1.1] - Lista magnitudes"
   ]
  },
  {
   "cell_type": "code",
   "execution_count": 6,
   "metadata": {},
   "outputs": [],
   "source": [
    "regex = reg.compile(\"E_AEMET_HOY\")\n",
    "c_aemet_hoy = [elem for elem in list(filter(regex.search,df_estaciones.columns))]\n",
    "c_magnitudes_aemet_hoy = [elem[-2:] for elem in list(filter(regex.search,df_estaciones.columns))]\n",
    "#c_magnitudes_aemet_hoy"
   ]
  },
  {
   "cell_type": "markdown",
   "metadata": {},
   "source": [
    "## [1.2]  ----------------------- AEMET -----------------------"
   ]
  },
  {
   "cell_type": "markdown",
   "metadata": {},
   "source": [
    "    81 - VELOCIDAD VIENTO\n",
    "    82 - DIR. DE VIENTO\n",
    "    83 - TEMPERATURA \n",
    "    87 - PRESION BARIOMETRICA\n",
    "    89 - PRECIPITACIÓN    "
   ]
  },
  {
   "cell_type": "markdown",
   "metadata": {},
   "source": [
    "### [1.2.0] - Codegen + API"
   ]
  },
  {
   "cell_type": "code",
   "execution_count": 7,
   "metadata": {},
   "outputs": [],
   "source": [
    "configuration = swagger_client.Configuration()\n",
    "configuration.api_key['api_key'] = AEMET_API_KEY"
   ]
  },
  {
   "cell_type": "code",
   "execution_count": 8,
   "metadata": {},
   "outputs": [],
   "source": [
    "#api_instance = swagger_client.AvisosCapApi(swagger_client.ApiClient(configuration))\n",
    "api_observacion = swagger_client.ObservacionConvencionalApi(swagger_client.ApiClient(configuration))"
   ]
  },
  {
   "cell_type": "markdown",
   "metadata": {},
   "source": [
    "### [1.2.1] - [FUNCION] -  Formateo datos"
   ]
  },
  {
   "cell_type": "code",
   "execution_count": 9,
   "metadata": {},
   "outputs": [],
   "source": [
    "def data_to_sparkdf(data):\n",
    "    #Encoding \"ISO-8859\"\n",
    "    data_v = data.decode(encoding ='ISO-8859-15')\n",
    "    data_v0 = data_v\n",
    "\n",
    "    # Clean the data\n",
    "    # Step 0 \n",
    "    for i in range(20):\n",
    "        if(data_v0[i]=='{'):\n",
    "            data_v0 = data_v0[i:]\n",
    "    for i in range(20):\n",
    "        if(data_v0[-i]=='}'):\n",
    "            data_v0 = data_v0[:-i+1]\n",
    "            \n",
    "    # Step 1     \n",
    "    data_v1 = data_v0\n",
    "    data_v1 = data_v1.replace(\"\\n\", \"\")\n",
    "    \n",
    "    # Step 2\n",
    "    data_v2 = data_v1.replace(\"},\",\"}};\")\n",
    "    \n",
    "    # Step 3\n",
    "    patron =['\\s\\s','\\s\"','\"\\s','\\s{']\n",
    "    replace = [' ','\"','\"','{']\n",
    "    \n",
    "    data_v3 = data_v2\n",
    "    for i in range(len(patron)):\n",
    "        data_v3 = reg.sub(patron[i],replace[i],data_v3)\n",
    "\n",
    "    # Step 4\n",
    "    data_v4 = data_v3.replace(\",\",\";\")\n",
    " \n",
    "    #Step 5 \n",
    "    data_v5 = data_v4.replace(\"\\\"\", \"\")\n",
    "    \n",
    "    # Step 6\n",
    "    data_cleaned = data_v5.split(\"};\")\n",
    "\n",
    "\n",
    "    # String to List of dictionaries\n",
    "    diccionarios = []\n",
    "    for fila in data_cleaned:\n",
    "        #print(fila)\n",
    "        keys = []\n",
    "        values = []\n",
    "        for pareja in fila[1:-1].split(';'):\n",
    "            #print(\"Pareja= \",pareja)\n",
    "            elems =pareja.split(':')\n",
    "            #print(\"Elementos= \",elems)\n",
    "            keys.append(elems[0])\n",
    "            values.append(elems[1])\n",
    "        diccionarios.append(dict(zip(keys,values)))\n",
    "        \n",
    "    # Schema for the new DF\n",
    "    data_schema = [StructField('idema',StringType(), False), #Tercer argumento = nullable\n",
    "                   StructField('lon', StringType(), True),\n",
    "                   StructField('fint', StringType(), True),\n",
    "                   StructField('prec', StringType(), True),\n",
    "                   StructField('alt', StringType(), True),\n",
    "                   StructField('vmax', StringType(), True),\n",
    "                   StructField('vv', StringType(), True),\n",
    "                   StructField('dv',StringType(), True), \n",
    "                   StructField('lat', StringType(), True),\n",
    "                   StructField('dmax', StringType(), True),\n",
    "                   StructField('ubi', StringType(), True),\n",
    "                   StructField('pres', StringType(), True),\n",
    "                   StructField('hr',StringType(), True), \n",
    "                   StructField('ts', StringType(), True),\n",
    "                   StructField('pres_nmar', StringType(), True),\n",
    "                   StructField('tamin', StringType(), True),\n",
    "                   StructField('ta', StringType(), True),\n",
    "                   StructField('tamax', StringType(), True),\n",
    "                   StructField('tpr', StringType(), True),\n",
    "                   StructField('vis', StringType(), True),\n",
    "                   StructField('stddv', StringType(), True),\n",
    "                   StructField('inso', StringType(), True),\n",
    "                   StructField('rviento', StringType(), True),\n",
    "                  ]\n",
    "    # Create and return the new DF\n",
    "    return spark.createDataFrame(diccionarios,schema = StructType(data_schema))"
   ]
  },
  {
   "cell_type": "markdown",
   "metadata": {},
   "source": [
    "### [1.2.2]  [FUNCIONES] - Request datos"
   ]
  },
  {
   "cell_type": "code",
   "execution_count": 10,
   "metadata": {},
   "outputs": [],
   "source": [
    "def req_hoy_to_df(codigo):\n",
    "    print(\"CODIGO: \", codigo)\n",
    "    try:\n",
    "        api_response = api_observacion.datos_de_observacin__tiempo_actual_1(codigo)\n",
    "        pprint(api_response)\n",
    "    except ApiException as e:\n",
    "        pprint(api_response)\n",
    "        print(\"Exception: %s\\n\" % e)\n",
    "    r = requests.get(api_response.datos)\n",
    "    data = r.content\n",
    "    df_aemet = data_to_sparkdf(data)\n",
    "    print(\"OK\")\n",
    "    \n",
    "    return df_aemet.select('idema','fint','prec','pres','tamax','tamin','dv','vv')\n",
    "    \n",
    "    # Las estaciones del ayunt no tienen datos de insolacion (sol)\n",
    "    #return df_aemet.select('fecha','indicativo','dir','prec','presMax','presMin','sol','tmax','tmin','velmedia')"
   ]
  },
  {
   "cell_type": "code",
   "execution_count": 11,
   "metadata": {},
   "outputs": [],
   "source": [
    "def datos_aemet_hoy(codigos_estaciones):\n",
    "    lista_df =[]\n",
    "    for codigo in codigos_estaciones:\n",
    "        lista_df.append(req_hoy_to_df(codigo))\n",
    "    #Unimos\n",
    "    df = lista_df[0]\n",
    "    for i in range(1,len(lista_df)):\n",
    "        df = df.union(lista_df[i])\n",
    "    return df"
   ]
  },
  {
   "cell_type": "markdown",
   "metadata": {},
   "source": [
    "### [1.2.3]  _______ HOY _______"
   ]
  },
  {
   "cell_type": "markdown",
   "metadata": {},
   "source": [
    "#### [1.2.3.0] - Estaciones "
   ]
  },
  {
   "cell_type": "code",
   "execution_count": 12,
   "metadata": {
    "scrolled": false
   },
   "outputs": [],
   "source": [
    "df_estaciones_aemet_hoy = df_estaciones.filter(df_estaciones[\"U_AEMET_HOY\"])"
   ]
  },
  {
   "cell_type": "code",
   "execution_count": 13,
   "metadata": {},
   "outputs": [],
   "source": [
    "cod_estaciones_aemet_hoy = [elem[0] for elem in df_estaciones_aemet_hoy.select(\"CODIGO_CORTO\").collect()]"
   ]
  },
  {
   "cell_type": "code",
   "execution_count": 14,
   "metadata": {
    "scrolled": true
   },
   "outputs": [
    {
     "data": {
      "text/plain": [
       "['3129', '3194U', '3195']"
      ]
     },
     "execution_count": 14,
     "metadata": {},
     "output_type": "execute_result"
    }
   ],
   "source": [
    "cod_estaciones_aemet_hoy"
   ]
  },
  {
   "cell_type": "markdown",
   "metadata": {},
   "source": [
    "#### [1.2.3.1] -  Obtenemos los datos"
   ]
  },
  {
   "cell_type": "code",
   "execution_count": 15,
   "metadata": {
    "scrolled": true
   },
   "outputs": [
    {
     "name": "stdout",
     "output_type": "stream",
     "text": [
      "CODIGO:  3129\n",
      "{'datos': 'https://opendata.aemet.es/opendata/sh/36db8406',\n",
      " 'descripcion': 'exito',\n",
      " 'estado': 200,\n",
      " 'metadatos': 'https://opendata.aemet.es/opendata/sh/55c2971b'}\n",
      "OK\n",
      "CODIGO:  3194U\n",
      "{'datos': 'https://opendata.aemet.es/opendata/sh/305227b6',\n",
      " 'descripcion': 'exito',\n",
      " 'estado': 200,\n",
      " 'metadatos': 'https://opendata.aemet.es/opendata/sh/55c2971b'}\n",
      "OK\n",
      "CODIGO:  3195\n",
      "{'datos': 'https://opendata.aemet.es/opendata/sh/d592c85c',\n",
      " 'descripcion': 'exito',\n",
      " 'estado': 200,\n",
      " 'metadatos': 'https://opendata.aemet.es/opendata/sh/55c2971b'}\n",
      "OK\n"
     ]
    }
   ],
   "source": [
    "df_aemet_hoy = datos_aemet_hoy(cod_estaciones_aemet_hoy)"
   ]
  },
  {
   "cell_type": "code",
   "execution_count": 16,
   "metadata": {},
   "outputs": [],
   "source": [
    "df_aemet = df_aemet_hoy"
   ]
  },
  {
   "cell_type": "markdown",
   "metadata": {},
   "source": [
    "### [1.2.4] -Columnas -> ANO,MES,DIA,FECHA"
   ]
  },
  {
   "cell_type": "code",
   "execution_count": 17,
   "metadata": {},
   "outputs": [],
   "source": [
    "df_aemet = df_aemet.withColumn(\"ANO\",df_aemet[\"fint\"][0:4])\n",
    "df_aemet = df_aemet.withColumn(\"MES\",df_aemet[\"fint\"][6:2])\n",
    "df_aemet = df_aemet.withColumn(\"DIA\",df_aemet[\"fint\"][9:2])\n",
    "df_aemet = df_aemet.withColumn(\"HORA\",df_aemet[\"fint\"][12:2])\n",
    "df_aemet = df_aemet.withColumn(\"FECHA\",F.concat(df_aemet[\"fint\"][0:4],df_aemet[\"fint\"][6:2],df_aemet[\"fint\"][9:2]))"
   ]
  },
  {
   "cell_type": "markdown",
   "metadata": {},
   "source": [
    "### [1.2.5] - Columna -> avg(Temp)"
   ]
  },
  {
   "cell_type": "code",
   "execution_count": 18,
   "metadata": {},
   "outputs": [],
   "source": [
    "pd_aemet = df_aemet.toPandas()"
   ]
  },
  {
   "cell_type": "code",
   "execution_count": 19,
   "metadata": {
    "scrolled": true
   },
   "outputs": [],
   "source": [
    "#Cambias comas por puntos\n",
    "pd_aemet[\"tamax\"]  =  [reg.sub(',','.',str(x)) for x in pd_aemet[\"tamax\"]]\n",
    "pd_aemet[\"tamin\"]  =  [reg.sub(',','.',str(x)) for x in pd_aemet[\"tamin\"]]"
   ]
  },
  {
   "cell_type": "code",
   "execution_count": 20,
   "metadata": {},
   "outputs": [],
   "source": [
    "def media(vals):\n",
    "    validos = 0\n",
    "    nulos = 0\n",
    "    media = 0\n",
    "    for i in range(len(vals)):\n",
    "        if(vals[i] != 'None')or(vals[i] is None):\n",
    "            validos += 1\n",
    "            media += float(vals[i])\n",
    "        else:\n",
    "            nulos +=1\n",
    "    if(nulos == len(vals)):\n",
    "        return None\n",
    "    else :\n",
    "        return media/validos"
   ]
  },
  {
   "cell_type": "code",
   "execution_count": 21,
   "metadata": {
    "scrolled": true
   },
   "outputs": [],
   "source": [
    "pd_aemet[\"temp\"] = [media([pmax,pmin])for pmax,pmin in zip(pd_aemet[\"tamax\"].values, pd_aemet[\"tamin\"].values)]"
   ]
  },
  {
   "cell_type": "markdown",
   "metadata": {},
   "source": [
    "### [1.2.6]- Rename & Colocar"
   ]
  },
  {
   "cell_type": "code",
   "execution_count": 22,
   "metadata": {},
   "outputs": [],
   "source": [
    "pd_aemet =pd_aemet.rename(columns={\"idema\":\"CODIGO_CORTO\",\n",
    "                                   \"vv\":\"81\",                         \n",
    "                                   \"dv\":\"82\",\n",
    "                                   \"temp\":\"83\",\n",
    "                                   \"pres\":\"87\",\n",
    "                                   \"prec\":\"89\",\n",
    "                             })"
   ]
  },
  {
   "cell_type": "code",
   "execution_count": 23,
   "metadata": {},
   "outputs": [
    {
     "data": {
      "text/html": [
       "<div>\n",
       "<style scoped>\n",
       "    .dataframe tbody tr th:only-of-type {\n",
       "        vertical-align: middle;\n",
       "    }\n",
       "\n",
       "    .dataframe tbody tr th {\n",
       "        vertical-align: top;\n",
       "    }\n",
       "\n",
       "    .dataframe thead th {\n",
       "        text-align: right;\n",
       "    }\n",
       "</style>\n",
       "<table border=\"1\" class=\"dataframe\">\n",
       "  <thead>\n",
       "    <tr style=\"text-align: right;\">\n",
       "      <th></th>\n",
       "      <th>CODIGO_CORTO</th>\n",
       "      <th>fint</th>\n",
       "      <th>89</th>\n",
       "      <th>87</th>\n",
       "      <th>tamax</th>\n",
       "      <th>tamin</th>\n",
       "      <th>82</th>\n",
       "      <th>81</th>\n",
       "      <th>ANO</th>\n",
       "      <th>MES</th>\n",
       "      <th>DIA</th>\n",
       "      <th>HORA</th>\n",
       "      <th>FECHA</th>\n",
       "      <th>83</th>\n",
       "    </tr>\n",
       "  </thead>\n",
       "  <tbody>\n",
       "    <tr>\n",
       "      <th>0</th>\n",
       "      <td>3129</td>\n",
       "      <td>2020-05-24T12</td>\n",
       "      <td>0.0</td>\n",
       "      <td>957.3</td>\n",
       "      <td>28.2</td>\n",
       "      <td>26.9</td>\n",
       "      <td>70.0</td>\n",
       "      <td>1.6</td>\n",
       "      <td>2020</td>\n",
       "      <td>05</td>\n",
       "      <td>24</td>\n",
       "      <td>12</td>\n",
       "      <td>20200524</td>\n",
       "      <td>27.55</td>\n",
       "    </tr>\n",
       "    <tr>\n",
       "      <th>1</th>\n",
       "      <td>3129</td>\n",
       "      <td>2020-05-24T13</td>\n",
       "      <td>0.0</td>\n",
       "      <td>956.8</td>\n",
       "      <td>30.0</td>\n",
       "      <td>28.2</td>\n",
       "      <td>160.0</td>\n",
       "      <td>1.7</td>\n",
       "      <td>2020</td>\n",
       "      <td>05</td>\n",
       "      <td>24</td>\n",
       "      <td>13</td>\n",
       "      <td>20200524</td>\n",
       "      <td>29.10</td>\n",
       "    </tr>\n",
       "    <tr>\n",
       "      <th>2</th>\n",
       "      <td>3129</td>\n",
       "      <td>2020-05-24T14</td>\n",
       "      <td>0.0</td>\n",
       "      <td>956.1</td>\n",
       "      <td>30.7</td>\n",
       "      <td>29.6</td>\n",
       "      <td>300.0</td>\n",
       "      <td>2.6</td>\n",
       "      <td>2020</td>\n",
       "      <td>05</td>\n",
       "      <td>24</td>\n",
       "      <td>14</td>\n",
       "      <td>20200524</td>\n",
       "      <td>30.15</td>\n",
       "    </tr>\n",
       "    <tr>\n",
       "      <th>3</th>\n",
       "      <td>3129</td>\n",
       "      <td>2020-05-24T15</td>\n",
       "      <td>0.0</td>\n",
       "      <td>955.4</td>\n",
       "      <td>31.5</td>\n",
       "      <td>30.3</td>\n",
       "      <td>210.0</td>\n",
       "      <td>2.5</td>\n",
       "      <td>2020</td>\n",
       "      <td>05</td>\n",
       "      <td>24</td>\n",
       "      <td>15</td>\n",
       "      <td>20200524</td>\n",
       "      <td>30.90</td>\n",
       "    </tr>\n",
       "    <tr>\n",
       "      <th>4</th>\n",
       "      <td>3129</td>\n",
       "      <td>2020-05-24T16</td>\n",
       "      <td>0.0</td>\n",
       "      <td>955.1</td>\n",
       "      <td>31.3</td>\n",
       "      <td>30.3</td>\n",
       "      <td>230.0</td>\n",
       "      <td>1.5</td>\n",
       "      <td>2020</td>\n",
       "      <td>05</td>\n",
       "      <td>24</td>\n",
       "      <td>16</td>\n",
       "      <td>20200524</td>\n",
       "      <td>30.80</td>\n",
       "    </tr>\n",
       "    <tr>\n",
       "      <th>...</th>\n",
       "      <td>...</td>\n",
       "      <td>...</td>\n",
       "      <td>...</td>\n",
       "      <td>...</td>\n",
       "      <td>...</td>\n",
       "      <td>...</td>\n",
       "      <td>...</td>\n",
       "      <td>...</td>\n",
       "      <td>...</td>\n",
       "      <td>...</td>\n",
       "      <td>...</td>\n",
       "      <td>...</td>\n",
       "      <td>...</td>\n",
       "      <td>...</td>\n",
       "    </tr>\n",
       "    <tr>\n",
       "      <th>67</th>\n",
       "      <td>3195</td>\n",
       "      <td>2020-05-25T07</td>\n",
       "      <td>0.0</td>\n",
       "      <td>946.3</td>\n",
       "      <td>19.8</td>\n",
       "      <td>18.7</td>\n",
       "      <td>123.0</td>\n",
       "      <td>1.1</td>\n",
       "      <td>2020</td>\n",
       "      <td>05</td>\n",
       "      <td>25</td>\n",
       "      <td>07</td>\n",
       "      <td>20200525</td>\n",
       "      <td>19.25</td>\n",
       "    </tr>\n",
       "    <tr>\n",
       "      <th>68</th>\n",
       "      <td>3195</td>\n",
       "      <td>2020-05-25T08</td>\n",
       "      <td>0.0</td>\n",
       "      <td>946.3</td>\n",
       "      <td>21.7</td>\n",
       "      <td>19.7</td>\n",
       "      <td>130.0</td>\n",
       "      <td>1.8</td>\n",
       "      <td>2020</td>\n",
       "      <td>05</td>\n",
       "      <td>25</td>\n",
       "      <td>08</td>\n",
       "      <td>20200525</td>\n",
       "      <td>20.70</td>\n",
       "    </tr>\n",
       "    <tr>\n",
       "      <th>69</th>\n",
       "      <td>3195</td>\n",
       "      <td>2020-05-25T09</td>\n",
       "      <td>0.0</td>\n",
       "      <td>946.2</td>\n",
       "      <td>23.5</td>\n",
       "      <td>21.7</td>\n",
       "      <td>149.0</td>\n",
       "      <td>1.8</td>\n",
       "      <td>2020</td>\n",
       "      <td>05</td>\n",
       "      <td>25</td>\n",
       "      <td>09</td>\n",
       "      <td>20200525</td>\n",
       "      <td>22.60</td>\n",
       "    </tr>\n",
       "    <tr>\n",
       "      <th>70</th>\n",
       "      <td>3195</td>\n",
       "      <td>2020-05-25T10</td>\n",
       "      <td>0.0</td>\n",
       "      <td>946.1</td>\n",
       "      <td>25.6</td>\n",
       "      <td>23.5</td>\n",
       "      <td>134.0</td>\n",
       "      <td>1.2</td>\n",
       "      <td>2020</td>\n",
       "      <td>05</td>\n",
       "      <td>25</td>\n",
       "      <td>10</td>\n",
       "      <td>20200525</td>\n",
       "      <td>24.55</td>\n",
       "    </tr>\n",
       "    <tr>\n",
       "      <th>71</th>\n",
       "      <td>3195</td>\n",
       "      <td>2020-05-25T11</td>\n",
       "      <td>0.0</td>\n",
       "      <td>946.1</td>\n",
       "      <td>27.4</td>\n",
       "      <td>25.4</td>\n",
       "      <td>119.0</td>\n",
       "      <td>1.9</td>\n",
       "      <td>2020</td>\n",
       "      <td>05</td>\n",
       "      <td>25</td>\n",
       "      <td>11</td>\n",
       "      <td>20200525</td>\n",
       "      <td>26.40</td>\n",
       "    </tr>\n",
       "  </tbody>\n",
       "</table>\n",
       "<p>72 rows × 14 columns</p>\n",
       "</div>"
      ],
      "text/plain": [
       "   CODIGO_CORTO           fint    89      87  tamax  tamin      82    81  \\\n",
       "0          3129  2020-05-24T12   0.0   957.3   28.2   26.9    70.0   1.6   \n",
       "1          3129  2020-05-24T13   0.0   956.8   30.0   28.2   160.0   1.7   \n",
       "2          3129  2020-05-24T14   0.0   956.1   30.7   29.6   300.0   2.6   \n",
       "3          3129  2020-05-24T15   0.0   955.4   31.5   30.3   210.0   2.5   \n",
       "4          3129  2020-05-24T16   0.0   955.1   31.3   30.3   230.0   1.5   \n",
       "..          ...            ...   ...     ...    ...    ...     ...   ...   \n",
       "67         3195  2020-05-25T07   0.0   946.3   19.8   18.7   123.0   1.1   \n",
       "68         3195  2020-05-25T08   0.0   946.3   21.7   19.7   130.0   1.8   \n",
       "69         3195  2020-05-25T09   0.0   946.2   23.5   21.7   149.0   1.8   \n",
       "70         3195  2020-05-25T10   0.0   946.1   25.6   23.5   134.0   1.2   \n",
       "71         3195  2020-05-25T11   0.0   946.1   27.4   25.4   119.0   1.9   \n",
       "\n",
       "     ANO MES DIA HORA     FECHA     83  \n",
       "0   2020  05  24   12  20200524  27.55  \n",
       "1   2020  05  24   13  20200524  29.10  \n",
       "2   2020  05  24   14  20200524  30.15  \n",
       "3   2020  05  24   15  20200524  30.90  \n",
       "4   2020  05  24   16  20200524  30.80  \n",
       "..   ...  ..  ..  ...       ...    ...  \n",
       "67  2020  05  25   07  20200525  19.25  \n",
       "68  2020  05  25   08  20200525  20.70  \n",
       "69  2020  05  25   09  20200525  22.60  \n",
       "70  2020  05  25   10  20200525  24.55  \n",
       "71  2020  05  25   11  20200525  26.40  \n",
       "\n",
       "[72 rows x 14 columns]"
      ]
     },
     "execution_count": 23,
     "metadata": {},
     "output_type": "execute_result"
    }
   ],
   "source": [
    "pd_aemet"
   ]
  },
  {
   "cell_type": "markdown",
   "metadata": {},
   "source": [
    "### [1.2.7] - FIltrar datos de ayer ( Se ejecuta a las 2 AM del dia siguiente)"
   ]
  },
  {
   "cell_type": "code",
   "execution_count": 24,
   "metadata": {},
   "outputs": [],
   "source": [
    "ayer = '%02d' % (datetime.date.today()+datetime.timedelta(days=-1)).day"
   ]
  },
  {
   "cell_type": "code",
   "execution_count": 25,
   "metadata": {},
   "outputs": [],
   "source": [
    "pd_aemet = pd_aemet[pd_aemet[\"DIA\"]== ayer]"
   ]
  },
  {
   "cell_type": "code",
   "execution_count": 26,
   "metadata": {},
   "outputs": [],
   "source": [
    "#pd_aemet"
   ]
  },
  {
   "cell_type": "markdown",
   "metadata": {},
   "source": [
    "### [1.2.8] - Select"
   ]
  },
  {
   "cell_type": "code",
   "execution_count": 27,
   "metadata": {},
   "outputs": [],
   "source": [
    "columnas = [\"CODIGO_CORTO\",\"ANO\",\"MES\",\"DIA\",\"HORA\",\"FECHA\"]\n",
    "for elem in c_magnitudes_aemet_hoy:\n",
    "    columnas.append(elem) "
   ]
  },
  {
   "cell_type": "code",
   "execution_count": 28,
   "metadata": {
    "scrolled": false
   },
   "outputs": [],
   "source": [
    "pd_aemet = pd_aemet[columnas]"
   ]
  },
  {
   "cell_type": "markdown",
   "metadata": {},
   "source": [
    "### [1.2.9] - Tipos"
   ]
  },
  {
   "cell_type": "code",
   "execution_count": 29,
   "metadata": {
    "scrolled": false
   },
   "outputs": [],
   "source": [
    "for elem in c_magnitudes_aemet_hoy:\n",
    "    pd_aemet[elem]= pd_aemet[elem].astype(float)"
   ]
  },
  {
   "cell_type": "markdown",
   "metadata": {},
   "source": [
    "### [1.2.11] - Valores Diarios"
   ]
  },
  {
   "cell_type": "markdown",
   "metadata": {},
   "source": [
    "####  [1.2.11.0] - AVERAGE DIA - (Presion,Temperatura,Velocidad del viento y Direccion del viento) + SUMA (Precipitaciones)"
   ]
  },
  {
   "cell_type": "code",
   "execution_count": 30,
   "metadata": {},
   "outputs": [],
   "source": [
    "pd_aemet_media = pd_aemet.groupby(by=[\"CODIGO_CORTO\",\"ANO\",\"MES\",\"DIA\",\"FECHA\"]).agg({'81':'mean',\n",
    "                                                                         '82':'mean',\n",
    "                                                                         '83':'mean',\n",
    "                                                                         '87':'mean',\n",
    "                                                                         '89':'sum'})"
   ]
  },
  {
   "cell_type": "markdown",
   "metadata": {},
   "source": [
    "### [1.2.12] - \"None\" a Nulo"
   ]
  },
  {
   "cell_type": "code",
   "execution_count": 31,
   "metadata": {
    "scrolled": true
   },
   "outputs": [],
   "source": [
    "pd_aemet_media = pd_aemet_media.replace(('None',None),np.nan)"
   ]
  },
  {
   "cell_type": "code",
   "execution_count": 32,
   "metadata": {},
   "outputs": [],
   "source": [
    "pd_final = pd_aemet_media"
   ]
  },
  {
   "cell_type": "markdown",
   "metadata": {},
   "source": [
    "# [2] -Export"
   ]
  },
  {
   "cell_type": "code",
   "execution_count": 41,
   "metadata": {},
   "outputs": [],
   "source": [
    "#Los datos de ayer se cargan a las 3 am de hoy. 1 dia de diferencia\n",
    "nuevo = (datetime.date.today() - datetime.timedelta(days=1)).strftime(\"%Y-%m-%d\")\n",
    "anterior = (datetime.date.today() - datetime.timedelta(days=2)).strftime(\"%Y-%m-%d\")"
   ]
  },
  {
   "cell_type": "code",
   "execution_count": 42,
   "metadata": {},
   "outputs": [],
   "source": [
    "#BackUp\n",
    "pd_final.to_csv(\"/home/rulicering/Datos_Proyecto_Ozono/Procesado/Clima/BackUp/Clima-\"+ nuevo + \".csv\")"
   ]
  },
  {
   "cell_type": "code",
   "execution_count": 43,
   "metadata": {},
   "outputs": [
    {
     "name": "stdout",
     "output_type": "stream",
     "text": [
      "[INFO] - Clima- 2020-05-21 .csv --- Created successfully\n"
     ]
    }
   ],
   "source": [
    "pd_final.to_csv(\"/home/rulicering/Datos_Proyecto_Ozono/Procesado/Clima/Clima-\"+ nuevo + \".csv\")\n",
    "print(\"[INFO] - Clima-\"+ nuevo +\".csv --- Created successfully\")"
   ]
  },
  {
   "cell_type": "code",
   "execution_count": 45,
   "metadata": {},
   "outputs": [
    {
     "name": "stdout",
     "output_type": "stream",
     "text": [
      "[ERROR] - Clima- 20 .csv --- Could not been removed\n"
     ]
    }
   ],
   "source": [
    "#Borrar la de ayer\n",
    "try:\n",
    "    os.remove(\"/home/rulicering/Datos_Proyecto_Ozono/Procesado/Clima/Clima-\"+ anterior + \".csv\")\n",
    "    print(\"[INFO] - Clima-\" +  anterior + \".csv --- Removed successfully\")\n",
    "except:\n",
    "    print(\"[ERROR] - Clima-\" +  anterior + \".csv --- Could not been removed\")"
   ]
  }
 ],
 "metadata": {
  "kernelspec": {
   "display_name": "Python 3",
   "language": "python",
   "name": "python3"
  },
  "language_info": {
   "codemirror_mode": {
    "name": "ipython",
    "version": 3
   },
   "file_extension": ".py",
   "mimetype": "text/x-python",
   "name": "python",
   "nbconvert_exporter": "python",
   "pygments_lexer": "ipython3",
   "version": "3.6.9"
  }
 },
 "nbformat": 4,
 "nbformat_minor": 4
}
