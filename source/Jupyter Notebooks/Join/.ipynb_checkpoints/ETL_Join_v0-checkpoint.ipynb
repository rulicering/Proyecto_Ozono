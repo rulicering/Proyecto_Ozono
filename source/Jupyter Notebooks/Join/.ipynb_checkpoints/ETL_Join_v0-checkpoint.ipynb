{
 "cells": [
  {
   "cell_type": "markdown",
   "metadata": {},
   "source": [
    "# [o3]- Proyecto Ozono - ETL_Join - v0"
   ]
  },
  {
   "cell_type": "markdown",
   "metadata": {},
   "source": [
    "    1. Cargar:\n",
    "        1.1 Estaciones\n",
    "        1.2 Contaminacion\n",
    "        1.3 Clima\n",
    "        1.4 Calendario\n",
    "    2. Unir :\n",
    "        2.1 Contaminación con Clima USANDO info de Estaciones (CORE)\n",
    "            2.1.1 Darle grupo de estaciones a los datos de contaminacion \n",
    "            2.1.2 Join datos de clima con los de estaciones\n",
    "        2.2 Añadir calendario al resultado final"
   ]
  },
  {
   "cell_type": "code",
   "execution_count": 111,
   "metadata": {},
   "outputs": [],
   "source": [
    "import findspark\n",
    "findspark.init('/home/rulicering/BigData/spark-2.4.5-bin-hadoop2.7')\n",
    "from pyspark.sql import SparkSession\n",
    "from pyspark.sql import functions as F\n",
    "import pandas as pd\n",
    "from pyspark.sql.types import StructField,StringType,IntegerType,StructType,FloatType\n",
    "import re as reg\n",
    "import numpy as np"
   ]
  },
  {
   "cell_type": "code",
   "execution_count": 2,
   "metadata": {},
   "outputs": [],
   "source": [
    "spark = SparkSession.builder.appName('contaminacion').getOrCreate()"
   ]
  },
  {
   "cell_type": "code",
   "execution_count": 117,
   "metadata": {
    "scrolled": true
   },
   "outputs": [],
   "source": [
    "df_aire = spark.read.csv('/home/rulicering/Datos_Proyecto_Ozono/Procesado/Contaminacion/Contaminacion_diaria_2014-NOW.csv',inferSchema= True,header=True)\n",
    "df_clima = spark.read.csv('/home/rulicering/Datos_Proyecto_Ozono/Procesado/Clima/Clima_diario_2014-NOW.csv',inferSchema= True,header=True)\n",
    "df_estaciones = spark.read.csv('/home/rulicering/Datos_Proyecto_Ozono/Procesado/Estaciones/Estaciones.csv',inferSchema= True,header=True)\n",
    "df_calendario = spark.read.csv('/home/rulicering/Datos_Proyecto_Ozono/Procesado/Calendario/Calendario_2013-2020.csv',inferSchema= True,header=True)"
   ]
  },
  {
   "cell_type": "code",
   "execution_count": 271,
   "metadata": {
    "scrolled": false
   },
   "outputs": [],
   "source": [
    "pd_aire = df_aire.drop(\"_c0\").toPandas()\n",
    "pd_clima = df_clima.drop(\"_c0\").toPandas()\n",
    "pd_estaciones = df_estaciones.drop(\"_c0\").toPandas()\n",
    "pd_calendario = df_calendario.drop(\"_c0\").toPandas()"
   ]
  },
  {
   "cell_type": "markdown",
   "metadata": {},
   "source": [
    "## Tipos\n",
    "    \n",
    "    CODIGO_CORTO -> STRING/OBJECT\n",
    "    ANO -> INTEGER\n",
    "    MES -> INTEGER\n",
    "    DIA -> INTEGER\n",
    "    FECHA -> INTEGER\n",
    "    MEDICIONES -> DOUBLE"
   ]
  },
  {
   "cell_type": "markdown",
   "metadata": {},
   "source": [
    "### Estaciones"
   ]
  },
  {
   "cell_type": "code",
   "execution_count": 119,
   "metadata": {},
   "outputs": [],
   "source": [
    "pd_estaciones = pd_estaciones.replace(('None',None),np.nan)"
   ]
  },
  {
   "cell_type": "code",
   "execution_count": 138,
   "metadata": {},
   "outputs": [
    {
     "data": {
      "text/plain": [
       "['COD_CLIMA_14']"
      ]
     },
     "execution_count": 138,
     "metadata": {},
     "output_type": "execute_result"
    }
   ],
   "source": [
    "#2014\n",
    "regex = reg.compile(\"COD_CLIMA\")\n",
    "c_grupo_14 = [elem for elem in list(filter(regex.search,df_estaciones.columns))]\n",
    "c_grupo_14"
   ]
  },
  {
   "cell_type": "code",
   "execution_count": 139,
   "metadata": {
    "scrolled": true
   },
   "outputs": [
    {
     "data": {
      "text/plain": [
       "['E_81', 'E_82', 'E_83', 'E_87', 'E_89']"
      ]
     },
     "execution_count": 139,
     "metadata": {},
     "output_type": "execute_result"
    }
   ],
   "source": [
    "#2019\n",
    "regex = reg.compile(\"E_\\d\\d\")\n",
    "c_estacionxmagnitud_19 = [elem for elem in list(filter(regex.search,df_estaciones.columns))]\n",
    "c_estacionxmagnitud_19"
   ]
  },
  {
   "cell_type": "code",
   "execution_count": 135,
   "metadata": {},
   "outputs": [],
   "source": [
    "for columna in c_estacionxmagnitud_19:\n",
    "    pd_estaciones[columna] = pd_estaciones[columna].astype(str)"
   ]
  },
  {
   "cell_type": "code",
   "execution_count": 136,
   "metadata": {},
   "outputs": [],
   "source": [
    "#pd_estaciones.dtypes"
   ]
  },
  {
   "cell_type": "markdown",
   "metadata": {},
   "source": [
    "### Aire"
   ]
  },
  {
   "cell_type": "code",
   "execution_count": 122,
   "metadata": {},
   "outputs": [],
   "source": [
    "pd_aire = pd_aire.replace(('None',None),np.nan)"
   ]
  },
  {
   "cell_type": "code",
   "execution_count": 123,
   "metadata": {},
   "outputs": [],
   "source": [
    "pd_aire[\"CODIGO_CORTO\"] = pd_aire[\"CODIGO_CORTO\"].astype(str)"
   ]
  },
  {
   "cell_type": "code",
   "execution_count": 168,
   "metadata": {},
   "outputs": [],
   "source": [
    "pd_aire = pd_aire.sort_values(by=\"FECHA\")"
   ]
  },
  {
   "cell_type": "code",
   "execution_count": 124,
   "metadata": {
    "scrolled": false
   },
   "outputs": [],
   "source": [
    "#pd_aire.dtypes"
   ]
  },
  {
   "cell_type": "markdown",
   "metadata": {},
   "source": [
    "### Clima"
   ]
  },
  {
   "cell_type": "code",
   "execution_count": 131,
   "metadata": {},
   "outputs": [],
   "source": [
    "pd_clima = pd_clima.replace(('None',None),np.nan)"
   ]
  },
  {
   "cell_type": "code",
   "execution_count": 125,
   "metadata": {
    "scrolled": false
   },
   "outputs": [],
   "source": [
    "columnas_valoresmagnitudes = list(pd_clima.columns)[5:]"
   ]
  },
  {
   "cell_type": "code",
   "execution_count": 127,
   "metadata": {},
   "outputs": [],
   "source": [
    "for columna in columnas_valoresmagnitudes:\n",
    "    #Comas por puntos\n",
    "    pd_clima[columna]  =  [reg.sub(',','.',str(x)) for x in pd_clima[columna]]\n",
    "    # String to float\n",
    "    pd_clima[columna] = pd_clima[columna].astype(float)"
   ]
  },
  {
   "cell_type": "code",
   "execution_count": 169,
   "metadata": {},
   "outputs": [],
   "source": [
    "pd_clima = pd_clima.sort_values(by=\"FECHA\")"
   ]
  },
  {
   "cell_type": "code",
   "execution_count": 129,
   "metadata": {
    "scrolled": false
   },
   "outputs": [],
   "source": [
    "#pd_clima.dtypes"
   ]
  },
  {
   "cell_type": "markdown",
   "metadata": {},
   "source": [
    "### Calendario"
   ]
  },
  {
   "cell_type": "code",
   "execution_count": 132,
   "metadata": {},
   "outputs": [],
   "source": [
    "pd_calendario = pd_calendario.replace(('None',None),np.nan)"
   ]
  },
  {
   "cell_type": "markdown",
   "metadata": {},
   "source": [
    "## Darle grupo a estaciones de contaminacion (AIRE)\n",
    "\n",
    "    2014-2018 -> COD_CLIMA_14\n",
    "    \n",
    "    2019-NOW -> 81,82,83,87,89"
   ]
  },
  {
   "cell_type": "code",
   "execution_count": 141,
   "metadata": {},
   "outputs": [],
   "source": [
    "#Sacamos estaciones de aire y codigos de estaciones de clima asociadas\n",
    "pd_estaciones_aire = pd_estaciones[pd_estaciones[\"MIDE_AIRE\"]>0]"
   ]
  },
  {
   "cell_type": "code",
   "execution_count": 142,
   "metadata": {},
   "outputs": [],
   "source": [
    "#Nos quedamos con las columnas que queremos\n",
    "c_agrupamiento = [\"CODIGO_CORTO\"] + c_grupo_14 + c_estacionxmagnitud_19\n",
    "pd_estaciones_aire = pd_estaciones_aire[c_agrupamiento]"
   ]
  },
  {
   "cell_type": "code",
   "execution_count": 143,
   "metadata": {},
   "outputs": [],
   "source": [
    "#Unimos ambos datasets\n",
    "pd_aire = pd_aire.merge(pd_estaciones_aire, on =[\"CODIGO_CORTO\"])"
   ]
  },
  {
   "cell_type": "markdown",
   "metadata": {},
   "source": [
    "## UNIR AIRE + CLIMA"
   ]
  },
  {
   "cell_type": "code",
   "execution_count": 232,
   "metadata": {},
   "outputs": [],
   "source": [
    "#Datos 14-18\n",
    "pd_datos_14_18 = pd_aire[pd_aire[\"FECHA\"]<20190101]"
   ]
  },
  {
   "cell_type": "code",
   "execution_count": 233,
   "metadata": {},
   "outputs": [],
   "source": [
    "#Datos 19-NOW\n",
    "pd_datos_19_NOW = pd_aire[pd_aire[\"FECHA\"]>=20190101]"
   ]
  },
  {
   "cell_type": "markdown",
   "metadata": {},
   "source": [
    "### MERGE DE MAGNITUD 1 A 1"
   ]
  },
  {
   "cell_type": "code",
   "execution_count": 237,
   "metadata": {},
   "outputs": [],
   "source": [
    "columnas = list(pd_clima.columns) \n",
    "c_info = columnas[:5]\n",
    "c_magnitudes = columnas[5:]"
   ]
  },
  {
   "cell_type": "code",
   "execution_count": 238,
   "metadata": {
    "scrolled": true
   },
   "outputs": [],
   "source": [
    "for magnitud in c_magnitudes:\n",
    "    cols = c_info.copy()\n",
    "    cols.append(magnitud)\n",
    "    \n",
    "    pd_clima_magnitud = pd_clima[cols]\n",
    "\n",
    "    #2014-2018\n",
    "    pd_clima_magnitud_14_18 = pd_clima_magnitud.rename(columns={\"CODIGO_CORTO\":c_grupo_14[0]})\n",
    "    pd_datos_14_18 = pd_datos_14_18.merge(pd_clima_magnitud_14_18,on = [\"ANO\", \"MES\", \"DIA\",\"FECHA\",c_grupo_14[0]])\n",
    "    \n",
    "    #2019-NOW\n",
    "    pd_clima_magnitud_19_NOW = pd_clima_magnitud.rename(columns={\"CODIGO_CORTO\":\"E_%s\"%magnitud})\n",
    "    pd_datos_19_NOW = pd_datos_19_NOW.merge(pd_clima_magnitud_19_NOW,on = [\"ANO\", \"MES\", \"DIA\",\"FECHA\",\"E_%s\"%magnitud])"
   ]
  },
  {
   "cell_type": "markdown",
   "metadata": {},
   "source": [
    "### UNIMOS PARTES"
   ]
  },
  {
   "cell_type": "code",
   "execution_count": 242,
   "metadata": {
    "scrolled": true
   },
   "outputs": [],
   "source": [
    "#pd_datos_14_18.dtypes"
   ]
  },
  {
   "cell_type": "code",
   "execution_count": 243,
   "metadata": {},
   "outputs": [],
   "source": [
    "#pd_datos_19_NOW.dtypes"
   ]
  },
  {
   "cell_type": "code",
   "execution_count": 252,
   "metadata": {
    "scrolled": false
   },
   "outputs": [],
   "source": [
    "pd_datos = pd.concat([pd_datos_14_18,pd_datos_19_NOW])"
   ]
  },
  {
   "cell_type": "markdown",
   "metadata": {},
   "source": [
    "# INCLUIR CALENDARIO"
   ]
  },
  {
   "cell_type": "code",
   "execution_count": 273,
   "metadata": {
    "scrolled": false
   },
   "outputs": [],
   "source": [
    "pd_datos_y_calendario = pd_datos.merge(pd_calendario, on = \"FECHA\")"
   ]
  },
  {
   "cell_type": "code",
   "execution_count": 275,
   "metadata": {},
   "outputs": [],
   "source": [
    "#pd_datos_y_calendario.dtypes"
   ]
  },
  {
   "cell_type": "markdown",
   "metadata": {},
   "source": [
    "# FORMATO + EXPORTAR"
   ]
  },
  {
   "cell_type": "code",
   "execution_count": 276,
   "metadata": {},
   "outputs": [],
   "source": [
    "a_borrar = c_grupo_14 + c_estacionxmagnitud_19"
   ]
  },
  {
   "cell_type": "code",
   "execution_count": 277,
   "metadata": {
    "scrolled": false
   },
   "outputs": [],
   "source": [
    "pd_final = pd_datos_y_calendario.drop(columns = a_borrar)"
   ]
  },
  {
   "cell_type": "code",
   "execution_count": 278,
   "metadata": {},
   "outputs": [],
   "source": [
    "pd_final.to_csv(\"/home/rulicering/Datos_Proyecto_Ozono/Procesado/Dato_Final/Datos_2014-NOW.csv\")"
   ]
  },
  {
   "cell_type": "markdown",
   "metadata": {},
   "source": [
    "# CHECKEO"
   ]
  },
  {
   "cell_type": "code",
   "execution_count": 262,
   "metadata": {},
   "outputs": [],
   "source": [
    "#pd_chequeo = pd_datos[['CODIGO_CORTO', 'FECHA','COD_CLIMA_14','E_81', 'E_82', 'E_83', 'E_87', 'E_89', '81', '82', '83', '87', '89']]"
   ]
  },
  {
   "cell_type": "code",
   "execution_count": 261,
   "metadata": {},
   "outputs": [],
   "source": [
    "#2014-2018\n",
    "#pd_chequeo[(pd_datos[\"FECHA\"]==20140101)].sort_values(by=\"COD_CLIMA_14\")\n",
    "#pd_clima[pd_clima[\"FECHA\"]==20140101]\n",
    "\n",
    "#2019-NOW\n",
    "#pd_chequeo[(pd_datos[\"FECHA\"]==20190101)]\n",
    "#pd_clima[pd_clima[\"FECHA\"]==20190101]"
   ]
  }
 ],
 "metadata": {
  "kernelspec": {
   "display_name": "Python 3",
   "language": "python",
   "name": "python3"
  },
  "language_info": {
   "codemirror_mode": {
    "name": "ipython",
    "version": 3
   },
   "file_extension": ".py",
   "mimetype": "text/x-python",
   "name": "python",
   "nbconvert_exporter": "python",
   "pygments_lexer": "ipython3",
   "version": "3.6.9"
  }
 },
 "nbformat": 4,
 "nbformat_minor": 4
}
