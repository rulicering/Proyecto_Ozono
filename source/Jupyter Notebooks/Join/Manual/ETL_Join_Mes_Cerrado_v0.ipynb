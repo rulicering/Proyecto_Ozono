{
 "cells": [
  {
   "cell_type": "markdown",
   "metadata": {},
   "source": [
    "# [o3]- Proyecto Ozono - ETL_Join_Mes_Cerrado - v0"
   ]
  },
  {
   "cell_type": "markdown",
   "metadata": {},
   "source": [
    "    0. Inicialización \n",
    "    1. Datos\n",
    "        1.0 Carga de ficheros (Aire, Clima, Estaciones y Calendario)\n",
    "        1.1 Paso a Pandas\n",
    "        1.2 Tipos\n",
    "            1.2.0 Estaciones\n",
    "            1.2.1 Aire\n",
    "            1.2.2 Clima\n",
    "            1.2.3 Calendario\n",
    "        1.3 Darle grupo a estaciones de aire        \n",
    "    2. Unir AIRE + CLIMA\n",
    "        2.0 Separamos datos contaminacion (2014-18 | 2019-NOW)\n",
    "        2.1 MERGE (ESTACION AIRE, DIA) + (DATOS CLIMA )\n",
    "        2.2 Unimos partes generadas por el MERGE       \n",
    "    3. Incluir CALENDARIO   \n",
    "    4. Formato  \n",
    "    5. Actualizar Dato final\n",
    "    6. Exportar"
   ]
  },
  {
   "cell_type": "markdown",
   "metadata": {},
   "source": [
    "# [0] - Inicialización"
   ]
  },
  {
   "cell_type": "code",
   "execution_count": 1,
   "metadata": {},
   "outputs": [],
   "source": [
    "import findspark\n",
    "findspark.init('/home/rulicering/BigData/spark-2.4.5-bin-hadoop2.7')\n",
    "from pyspark.sql import SparkSession\n",
    "from pyspark.sql import functions as F\n",
    "import pandas as pd\n",
    "from pyspark.sql.types import StructField,StringType,IntegerType,StructType,FloatType\n",
    "import re as reg\n",
    "import numpy as np\n",
    "import datetime"
   ]
  },
  {
   "cell_type": "code",
   "execution_count": 2,
   "metadata": {},
   "outputs": [],
   "source": [
    "spark = SparkSession.builder.appName('join_mes_cerrado').getOrCreate()"
   ]
  },
  {
   "cell_type": "markdown",
   "metadata": {},
   "source": [
    "# [1] Datos"
   ]
  },
  {
   "cell_type": "code",
   "execution_count": 106,
   "metadata": {},
   "outputs": [],
   "source": [
    "ultimo_dia_mes_cerrado = datetime.date.today().replace(day=1) - datetime.timedelta(days=1)\n",
    "primer_dia_mes_cerrado = ultimo_dia_mes_cerrado.replace(day=1)\n",
    "mes_cerrado = ultimo_dia_mes_cerrado.year *100 + ultimo_dia_mes_cerrado.month "
   ]
  },
  {
   "cell_type": "markdown",
   "metadata": {},
   "source": [
    "## [1.0] - Carga de ficheros (Aire, Clima, Estaciones y Calendario)"
   ]
  },
  {
   "cell_type": "code",
   "execution_count": 4,
   "metadata": {
    "scrolled": true
   },
   "outputs": [],
   "source": [
    "df_aire = spark.read.csv('/home/rulicering/Datos_Proyecto_Ozono/Procesado/Contaminacion/Contaminacion_mes_cerrado.csv',inferSchema= True,header=True)\n",
    "df_clima = spark.read.csv('/home/rulicering/Datos_Proyecto_Ozono/Procesado/Clima/Clima_mes_cerrado.csv',inferSchema= True,header=True)\n",
    "df_estaciones = spark.read.csv('/home/rulicering/Datos_Proyecto_Ozono/Procesado/Estaciones/Estaciones-' + str(mes_cerrado)+'.csv',inferSchema= True,header=True)\n",
    "df_calendario = spark.read.csv('/home/rulicering/Datos_Proyecto_Ozono/Procesado/Calendario/Calendario_2001-2020.csv',inferSchema= True,header=True)"
   ]
  },
  {
   "cell_type": "markdown",
   "metadata": {},
   "source": [
    "## [1.1] - Paso a Pandas"
   ]
  },
  {
   "cell_type": "code",
   "execution_count": 30,
   "metadata": {
    "scrolled": false
   },
   "outputs": [],
   "source": [
    "pd_aire = df_aire.drop(\"_c0\").toPandas()\n",
    "pd_clima = df_clima.drop(\"_c0\").toPandas()\n",
    "pd_estaciones = df_estaciones.drop(\"_c0\").toPandas()\n",
    "pd_calendario = df_calendario.drop(\"_c0\").toPandas()"
   ]
  },
  {
   "cell_type": "markdown",
   "metadata": {},
   "source": [
    "## [1.2] - Tipos\n",
    "    \n",
    "    CODIGO_CORTO -> STRING/OBJECT\n",
    "    ANO -> INTEGER\n",
    "    MES -> INTEGER\n",
    "    DIA -> INTEGER\n",
    "    FECHA -> INTEGER\n",
    "    MEDICIONES -> DOUBLE"
   ]
  },
  {
   "cell_type": "markdown",
   "metadata": {},
   "source": [
    "### [1.2.0] -  Estaciones"
   ]
  },
  {
   "cell_type": "code",
   "execution_count": 31,
   "metadata": {},
   "outputs": [],
   "source": [
    "#None to NULO\n",
    "pd_estaciones = pd_estaciones.replace(('None',None),np.nan)"
   ]
  },
  {
   "cell_type": "code",
   "execution_count": 32,
   "metadata": {
    "scrolled": true
   },
   "outputs": [
    {
     "data": {
      "text/plain": [
       "['E_81', 'E_82', 'E_83', 'E_87', 'E_89']"
      ]
     },
     "execution_count": 32,
     "metadata": {},
     "output_type": "execute_result"
    }
   ],
   "source": [
    "#Columnas estaciones medicion - 2019\n",
    "regex = reg.compile(\"E_\\d\\d\")\n",
    "c_estacionxmagnitud_19 = [elem for elem in list(filter(regex.search,df_estaciones.columns))]\n",
    "c_estacionxmagnitud_19"
   ]
  },
  {
   "cell_type": "code",
   "execution_count": 33,
   "metadata": {},
   "outputs": [],
   "source": [
    "#Columnas estaciones medicion a string\n",
    "for columna in c_estacionxmagnitud_19:\n",
    "    pd_estaciones[columna] = pd_estaciones[columna].astype(str)"
   ]
  },
  {
   "cell_type": "code",
   "execution_count": 34,
   "metadata": {},
   "outputs": [],
   "source": [
    "#pd_estaciones.dtypes"
   ]
  },
  {
   "cell_type": "markdown",
   "metadata": {},
   "source": [
    "###  [1.2.1] - Aire"
   ]
  },
  {
   "cell_type": "code",
   "execution_count": 35,
   "metadata": {
    "scrolled": true
   },
   "outputs": [],
   "source": [
    "#None to NULO\n",
    "pd_aire = pd_aire.replace(('None',None),np.nan)"
   ]
  },
  {
   "cell_type": "code",
   "execution_count": 36,
   "metadata": {},
   "outputs": [],
   "source": [
    "#CODIGOS CORTOS A Strig\n",
    "pd_aire[\"CODIGO_CORTO\"] = pd_aire[\"CODIGO_CORTO\"].astype(str)"
   ]
  },
  {
   "cell_type": "code",
   "execution_count": 37,
   "metadata": {},
   "outputs": [],
   "source": [
    "pd_aire = pd_aire.sort_values(by=\"FECHA\")"
   ]
  },
  {
   "cell_type": "code",
   "execution_count": 38,
   "metadata": {
    "scrolled": false
   },
   "outputs": [],
   "source": [
    "#pd_aire.dtypes"
   ]
  },
  {
   "cell_type": "markdown",
   "metadata": {},
   "source": [
    "### [1.2.2] - Clima"
   ]
  },
  {
   "cell_type": "code",
   "execution_count": 39,
   "metadata": {},
   "outputs": [],
   "source": [
    "#None to NULO\n",
    "pd_clima = pd_clima.replace(('None',None),np.nan)"
   ]
  },
  {
   "cell_type": "code",
   "execution_count": 40,
   "metadata": {
    "scrolled": false
   },
   "outputs": [],
   "source": [
    "#Listar las columnas que miden magnitudes\n",
    "columnas_valoresmagnitudes = list(pd_clima.columns)[5:]"
   ]
  },
  {
   "cell_type": "code",
   "execution_count": 41,
   "metadata": {},
   "outputs": [],
   "source": [
    "#Columnas magnitudes a float\n",
    "for columna in columnas_valoresmagnitudes:\n",
    "    #Comas por puntos\n",
    "    pd_clima[columna]  =  [reg.sub(',','.',str(x)) for x in pd_clima[columna]]\n",
    "    # String to float\n",
    "    pd_clima[columna] = pd_clima[columna].astype(float)"
   ]
  },
  {
   "cell_type": "code",
   "execution_count": 42,
   "metadata": {},
   "outputs": [],
   "source": [
    "pd_clima = pd_clima.sort_values(by=\"FECHA\")"
   ]
  },
  {
   "cell_type": "code",
   "execution_count": 43,
   "metadata": {
    "scrolled": false
   },
   "outputs": [],
   "source": [
    "#pd_clima.dtypes"
   ]
  },
  {
   "cell_type": "markdown",
   "metadata": {},
   "source": [
    "### [1.2.3] - Calendario"
   ]
  },
  {
   "cell_type": "code",
   "execution_count": 44,
   "metadata": {},
   "outputs": [],
   "source": [
    "pd_calendario = pd_calendario.replace(('None',None),np.nan)"
   ]
  },
  {
   "cell_type": "markdown",
   "metadata": {},
   "source": [
    "## [1.3] - Darle grupo a estaciones de AIRE\n",
    "\n",
    "    2014-2018 -> E_AEMET\n",
    "    \n",
    "    2019-NOW -> 81,82,83,87,89"
   ]
  },
  {
   "cell_type": "code",
   "execution_count": 45,
   "metadata": {},
   "outputs": [],
   "source": [
    "#Sacamos estaciones de aire y codigos de estaciones de clima asociadas\n",
    "pd_estaciones_aire = pd_estaciones[pd_estaciones[\"MIDE_AIRE\"]>0]"
   ]
  },
  {
   "cell_type": "code",
   "execution_count": 46,
   "metadata": {
    "scrolled": true
   },
   "outputs": [],
   "source": [
    "#Nos quedamos con las columnas que queremos\n",
    "c_agrupamiento = [\"CODIGO_CORTO\"] + c_estacionxmagnitud_19\n",
    "pd_estaciones_aire = pd_estaciones_aire[c_agrupamiento]"
   ]
  },
  {
   "cell_type": "code",
   "execution_count": 47,
   "metadata": {},
   "outputs": [],
   "source": [
    "#Unimos ambos datasets\n",
    "pd_aire = pd_aire.merge(pd_estaciones_aire, on =[\"CODIGO_CORTO\"])"
   ]
  },
  {
   "cell_type": "code",
   "execution_count": 48,
   "metadata": {},
   "outputs": [],
   "source": [
    "#pd_aire"
   ]
  },
  {
   "cell_type": "markdown",
   "metadata": {},
   "source": [
    "# [2] -  UNIR AIRE + CLIMA"
   ]
  },
  {
   "cell_type": "code",
   "execution_count": 52,
   "metadata": {},
   "outputs": [],
   "source": [
    "pd_datos = pd_aire"
   ]
  },
  {
   "cell_type": "markdown",
   "metadata": {},
   "source": [
    "## [2.1] - MERGE (ESTACION AIRE, DIA) + (DATOS CLIMA )"
   ]
  },
  {
   "cell_type": "code",
   "execution_count": 50,
   "metadata": {},
   "outputs": [],
   "source": [
    "# Separamos columnas de info (comunes) y las columnas de datos\n",
    "columnas = list(pd_clima.columns) \n",
    "c_info = columnas[:5]\n",
    "c_magnitudes = columnas[5:]"
   ]
  },
  {
   "cell_type": "code",
   "execution_count": 53,
   "metadata": {
    "scrolled": true
   },
   "outputs": [],
   "source": [
    "#Asociamos cada columna de datos de clima (magnitud) a la estación de aire correspondiente.  \n",
    "for magnitud in c_magnitudes:\n",
    "    cols = c_info.copy()\n",
    "    cols.append(magnitud)\n",
    "    \n",
    "    pd_clima_magnitud = pd_clima[cols]\n",
    "\n",
    "    #MES_CERRADO\n",
    "    pd_clima_magnitud_mes_cerrado = pd_clima_magnitud.rename(columns={\"CODIGO_CORTO\":\"E_%s\"%magnitud})\n",
    "    pd_datos = pd_datos.merge(pd_clima_magnitud_mes_cerrado,on = [\"ANO\", \"MES\", \"DIA\",\"FECHA\",\"E_%s\"%magnitud])"
   ]
  },
  {
   "cell_type": "code",
   "execution_count": 55,
   "metadata": {},
   "outputs": [],
   "source": [
    "#pd_datos"
   ]
  },
  {
   "cell_type": "markdown",
   "metadata": {},
   "source": [
    "# [3] - Incluir CALENDARIO"
   ]
  },
  {
   "cell_type": "code",
   "execution_count": 56,
   "metadata": {
    "scrolled": false
   },
   "outputs": [],
   "source": [
    "pd_datos_y_calendario = pd_datos.merge(pd_calendario, on = \"FECHA\")"
   ]
  },
  {
   "cell_type": "markdown",
   "metadata": {},
   "source": [
    "# [4] - FORMATO"
   ]
  },
  {
   "cell_type": "code",
   "execution_count": 57,
   "metadata": {},
   "outputs": [],
   "source": [
    "#Borramos las columnas utilizadas para relacionar estaciones de aire y clima\n",
    "a_borrar = c_estacionxmagnitud_19"
   ]
  },
  {
   "cell_type": "code",
   "execution_count": 58,
   "metadata": {
    "scrolled": false
   },
   "outputs": [],
   "source": [
    "pd_final = pd_datos_y_calendario.drop(columns = a_borrar)"
   ]
  },
  {
   "cell_type": "code",
   "execution_count": 59,
   "metadata": {},
   "outputs": [],
   "source": [
    "cols = pd_final.columns.tolist()"
   ]
  },
  {
   "cell_type": "code",
   "execution_count": 60,
   "metadata": {},
   "outputs": [],
   "source": [
    "cols = cols[0:5]+ cols[-3:]+ cols [5:-3]"
   ]
  },
  {
   "cell_type": "code",
   "execution_count": 61,
   "metadata": {},
   "outputs": [],
   "source": [
    "pd_final = pd_final[cols]"
   ]
  },
  {
   "cell_type": "code",
   "execution_count": 123,
   "metadata": {},
   "outputs": [],
   "source": [
    "pd_mes_cerrado = pd_final"
   ]
  },
  {
   "cell_type": "markdown",
   "metadata": {},
   "source": [
    "# [5] - ACTUALIZAR DATOS FINALES"
   ]
  },
  {
   "cell_type": "code",
   "execution_count": 118,
   "metadata": {},
   "outputs": [],
   "source": [
    "datos_finales = pd.read_csv(\"/home/rulicering/Datos_Proyecto_Ozono/Procesado/Dato_Final/Datos.csv\")"
   ]
  },
  {
   "cell_type": "code",
   "execution_count": 119,
   "metadata": {
    "scrolled": true
   },
   "outputs": [],
   "source": [
    "#Quitamos la primera columna, innecesaria\n",
    "datos_finales = datos_finales[datos_finales.columns.tolist()[1:]]"
   ]
  },
  {
   "cell_type": "code",
   "execution_count": 120,
   "metadata": {},
   "outputs": [],
   "source": [
    "ini = primer_dia_mes_cerrado.strftime(\"%Y%m%d\")\n",
    "fin = ultimo_dia_mes_cerrado.strftime(\"%Y%m%d\")"
   ]
  },
  {
   "cell_type": "code",
   "execution_count": 121,
   "metadata": {},
   "outputs": [],
   "source": [
    "datos_finales_sin_mes_cerrado = datos_finales[(datos_finales[\"FECHA\"] < int(ini)) | (datos_finales[\"FECHA\"] > int(fin))]"
   ]
  },
  {
   "cell_type": "code",
   "execution_count": 126,
   "metadata": {
    "scrolled": true
   },
   "outputs": [],
   "source": [
    "datos_finales= pd.concat([datos_finales_sin_mes_cerrado,pd_mes_cerrado])"
   ]
  },
  {
   "cell_type": "code",
   "execution_count": 131,
   "metadata": {},
   "outputs": [],
   "source": [
    "datos_finales = datos_finales.sort_values(by=([\"FECHA\",\"CODIGO_CORTO\"]))"
   ]
  },
  {
   "cell_type": "markdown",
   "metadata": {},
   "source": [
    "# [6] - EXPORTAR"
   ]
  },
  {
   "cell_type": "code",
   "execution_count": 37,
   "metadata": {},
   "outputs": [],
   "source": [
    "#Versiones\n",
    "hoy = datetime.date.today().strftime(\"%Y-%m-%d\")\n",
    "datos_finales.to_csv(\"/home/rulicering/Datos_Proyecto_Ozono/Procesado/Dato_Final/BackUp/Join/Datos-[ACT]-mes_cerrado-\" + hoy + \".csv\")"
   ]
  },
  {
   "cell_type": "code",
   "execution_count": 38,
   "metadata": {},
   "outputs": [],
   "source": [
    "datos_finales.to_csv(\"/home/rulicering/Datos_Proyecto_Ozono/Procesado/Dato_Final/Datos-.csv\")"
   ]
  },
  {
   "cell_type": "markdown",
   "metadata": {},
   "source": [
    "# [EXTRA] - CHECKEO"
   ]
  },
  {
   "cell_type": "code",
   "execution_count": 40,
   "metadata": {},
   "outputs": [],
   "source": [
    "#pd_chequeo = pd_datos[['CODIGO_CORTO', 'FECHA','E_AEMET','E_81', 'E_82', 'E_83', 'E_87', 'E_89', '81', '82', '83', '87', '89']]"
   ]
  },
  {
   "cell_type": "code",
   "execution_count": 41,
   "metadata": {},
   "outputs": [],
   "source": [
    "#2014-2018\n",
    "#pd_chequeo[(pd_datos[\"FECHA\"]==20140101)].sort_values(by=\"E_AEMET\")\n",
    "#pd_clima[pd_clima[\"FECHA\"]==20140101]\n",
    "\n",
    "#2019-NOW\n",
    "#pd_chequeo[(pd_datos[\"FECHA\"]==20190101)]\n",
    "#pd_clima[pd_clima[\"FECHA\"]==20190101]"
   ]
  }
 ],
 "metadata": {
  "kernelspec": {
   "display_name": "Python 3",
   "language": "python",
   "name": "python3"
  },
  "language_info": {
   "codemirror_mode": {
    "name": "ipython",
    "version": 3
   },
   "file_extension": ".py",
   "mimetype": "text/x-python",
   "name": "python",
   "nbconvert_exporter": "python",
   "pygments_lexer": "ipython3",
   "version": "3.6.9"
  }
 },
 "nbformat": 4,
 "nbformat_minor": 4
}
