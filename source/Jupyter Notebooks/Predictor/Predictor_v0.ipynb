{
 "cells": [
  {
   "cell_type": "markdown",
   "metadata": {},
   "source": [
    "# [o3]- Proyecto Ozono - Predictor_v0"
   ]
  },
  {
   "cell_type": "markdown",
   "metadata": {},
   "source": [
    "# [0] - Inicialización"
   ]
  },
  {
   "cell_type": "code",
   "execution_count": 4,
   "metadata": {},
   "outputs": [],
   "source": [
    "import findspark\n",
    "findspark.init('/home/rulicering/BigData/spark-2.4.5-bin-hadoop2.7')\n",
    "from pyspark.sql import SparkSession\n",
    "from pyspark.sql import functions as F\n",
    "from pyspark.sql.window import Window\n",
    "import pandas as pd\n",
    "from pyspark.sql.types import StructField,StringType,IntegerType,StructType,FloatType\n",
    "import re as reg\n",
    "import numpy as np\n",
    "import datetime"
   ]
  },
  {
   "cell_type": "code",
   "execution_count": 5,
   "metadata": {},
   "outputs": [],
   "source": [
    "spark = SparkSession.builder.appName('predictor').getOrCreate()"
   ]
  },
  {
   "cell_type": "markdown",
   "metadata": {},
   "source": [
    "# [1] Datos"
   ]
  },
  {
   "cell_type": "markdown",
   "metadata": {},
   "source": [
    "## [1.0] - Carga de ficheros (Datos, Predicción clima,  Calendario)"
   ]
  },
  {
   "cell_type": "code",
   "execution_count": 6,
   "metadata": {
    "scrolled": true
   },
   "outputs": [],
   "source": [
    "df_datos = spark.read.csv('/home/rulicering/Datos_Proyecto_Ozono/Procesado/Dato_Final/Datos.csv',inferSchema= True,header=True)\n",
    "df_clima_prediccion = spark.read.csv('/home/rulicering/Datos_Proyecto_Ozono/Procesado/Clima/Clima_Prediccion-hoy.csv',inferSchema= True,header=True)\n",
    "df_calendario = spark.read.csv('/home/rulicering/Datos_Proyecto_Ozono/Procesado/Calendario/Calendario_2013-2020.csv',inferSchema= True,header=True)"
   ]
  },
  {
   "cell_type": "code",
   "execution_count": 7,
   "metadata": {},
   "outputs": [],
   "source": [
    "df_datos = df_datos.drop(\"_c0\")\n",
    "df_clima_prediccion = df_clima_prediccion.drop(\"_c0\")\n",
    "df_calendario = df_calendario.drop(\"_c0\")"
   ]
  },
  {
   "cell_type": "code",
   "execution_count": 8,
   "metadata": {},
   "outputs": [],
   "source": [
    "magnitudes= df_datos.columns[8:]\n",
    "magnitudes_clima = df_datos.columns[-5:]\n",
    "magnitudes_aire = df_datos.columns[8:-5]"
   ]
  },
  {
   "cell_type": "code",
   "execution_count": 9,
   "metadata": {},
   "outputs": [],
   "source": [
    "dic_clima = { \"VIENTO\":\"81\",\n",
    "                 \"DIRECCION\": \"82\",\n",
    "                 \"TEMPERATURA\": \"83\",\n",
    "                 \"PRESION\": \"87\",\n",
    "                 \"LLUVIA\":\"89\"\n",
    "}"
   ]
  },
  {
   "cell_type": "markdown",
   "metadata": {},
   "source": [
    "## [1.1] - Datos para prediccion - Prediccion clima + Calendario + Estaciones"
   ]
  },
  {
   "cell_type": "code",
   "execution_count": 10,
   "metadata": {
    "scrolled": true
   },
   "outputs": [],
   "source": [
    "ayer = (datetime.date.today() + datetime.timedelta(days = -1)).strftime(\"%Y%m%d\")\n",
    "hoy = datetime.date.today().strftime(\"%Y%m%d\")"
   ]
  },
  {
   "cell_type": "code",
   "execution_count": 11,
   "metadata": {},
   "outputs": [],
   "source": [
    "df_estaciones_aire = df_datos.filter(df_datos[\"FECHA\"]== ayer).select(\"CODIGO_CORTO\")"
   ]
  },
  {
   "cell_type": "code",
   "execution_count": 12,
   "metadata": {},
   "outputs": [],
   "source": [
    "cod_estaciones_aire = [elem[0] for elem in df_estaciones_aire.collect()]"
   ]
  },
  {
   "cell_type": "code",
   "execution_count": 13,
   "metadata": {},
   "outputs": [],
   "source": [
    "cod_estaciones_aire.sort()"
   ]
  },
  {
   "cell_type": "code",
   "execution_count": 14,
   "metadata": {},
   "outputs": [],
   "source": [
    "df_hoy = df_calendario.filter(df_calendario[\"FECHA\"]== hoy)"
   ]
  },
  {
   "cell_type": "code",
   "execution_count": 15,
   "metadata": {},
   "outputs": [],
   "source": [
    "#Calendario + Prediccion clima\n",
    "df_clima_hoy = df_hoy.join(df_clima_prediccion,on= \"FECHA\")"
   ]
  },
  {
   "cell_type": "code",
   "execution_count": 16,
   "metadata": {
    "scrolled": true
   },
   "outputs": [],
   "source": [
    "#Estaciones cross datos clima y calendario\n",
    "df_datos_hoy = df_estaciones_aire.crossJoin(df_clima_hoy)"
   ]
  },
  {
   "cell_type": "code",
   "execution_count": 17,
   "metadata": {},
   "outputs": [],
   "source": [
    "cols = df_datos_hoy.columns\n",
    "cols = cols[0:1] + cols[5:8]+ cols[1:5]+ cols[8:]"
   ]
  },
  {
   "cell_type": "code",
   "execution_count": 18,
   "metadata": {},
   "outputs": [],
   "source": [
    "df_datos_hoy = df_datos_hoy.select(cols)"
   ]
  },
  {
   "cell_type": "markdown",
   "metadata": {},
   "source": [
    "### [1.1.0] - Probabilidad lluvia -> Prediccion lluvia m/l2\n",
    "    Si la probabilidad es > 50%:\n",
    "        se hace la media por estacion del historial de precipitaciones\n",
    "        cogiendo datos de +-10 días al dia de hoy de cada año anterior"
   ]
  },
  {
   "cell_type": "code",
   "execution_count": 41,
   "metadata": {},
   "outputs": [],
   "source": [
    "def probabilidad_a_lluvia_y_presion_ayer(df_datos,df_datos_hoy):\n",
    "    mes_dia_min = (datetime.date.today() +  datetime.timedelta(days = -10)).strftime(\"%m%d\")\n",
    "    mes_dia_max = (datetime.date.today() +  datetime.timedelta(days = 10)).strftime(\"%m%d\")\n",
    "    df_historial = df_datos.filter((df_datos[\"FECHA\"]%1000 >= mes_dia_min) & (df_datos[\"FECHA\"]%1000 <= mes_dia_max))\n",
    "    df_datos_hoy = df_datos_hoy.drop('%' + dic_clima[\"LLUVIA\"])\n",
    "    l_df = []\n",
    "    for estacion in cod_estaciones_aire:\n",
    "        df_datos_hoy_estacion = df_datos_hoy.filter(df_datos_hoy[\"CODIGO_CORTO\"]==estacion)\n",
    "        aux = df_historial.filter(df_historial[\"CODIGO_CORTO\"]== estacion).select(\"FECHA\",dic_clima[\"PRESION\"],dic_clima[\"LLUVIA\"]).na.drop()\n",
    "        #Precipitacions\n",
    "        prob_lluvia_hoy = df_clima_prediccion.select(\"%\" +dic_clima[\"LLUVIA\"]).collect()[0][0]\n",
    "        prec = 0\n",
    "        if(float(prob_lluvia_hoy) > 50):\n",
    "            try:\n",
    "                prec = aux.select(dic_clima[\"LLUVIA\"]).groupBy().mean().collect()[0][0]\n",
    "            except:\n",
    "                print(\"[WARN]: No hay lluvias historicas en ese rango de fechas\")\n",
    "        df_datos_hoy_estacion = df_datos_hoy_estacion.withColumn(dic_clima[\"LLUVIA\"],F.lit(prec))\n",
    "            \n",
    "        #Presion\n",
    "        ayer = (datetime.date.today() + datetime.timedelta(days= -1)).strftime(\"%Y%m%d\")\n",
    "        presion_ayer = aux.filter(aux[\"FECHA\"]==ayer).select(dic_clima[\"PRESION\"]).collect()[0][0]\n",
    "        df_datos_hoy_estacion = df_datos_hoy_estacion.withColumn(dic_clima[\"PRESION\"],F.lit(presion_ayer))\n",
    "        \n",
    "        l_df.append(df_datos_hoy_estacion)\n",
    "        \n",
    "    df_datos_hoy = l_df[0]\n",
    "    for i in range(1,len(l_df)):\n",
    "        df_datos_hoy = df_datos_hoy.union(l_df[i])\n",
    "    return df_datos_hoy"
   ]
  },
  {
   "cell_type": "code",
   "execution_count": 24,
   "metadata": {
    "scrolled": false
   },
   "outputs": [],
   "source": [
    "df_datos_hoy = probabilidad_a_lluvia_y_presion_ayer(df_datos,df_datos_hoy)\n"
   ]
  },
  {
   "cell_type": "markdown",
   "metadata": {},
   "source": [
    "## [1.2] - Union Datos + Datos hoy"
   ]
  },
  {
   "cell_type": "code",
   "execution_count": 270,
   "metadata": {
    "scrolled": true
   },
   "outputs": [],
   "source": [
    "#df_datos_y_hoy= df_datos.union(df_datos_hoy)"
   ]
  },
  {
   "cell_type": "code",
   "execution_count": null,
   "metadata": {},
   "outputs": [],
   "source": []
  },
  {
   "cell_type": "markdown",
   "metadata": {},
   "source": [
    "## [1.1] - Dar cada fila de datos + datos clima y contaminacion ayer"
   ]
  },
  {
   "cell_type": "code",
   "execution_count": 40,
   "metadata": {
    "scrolled": false
   },
   "outputs": [],
   "source": []
  },
  {
   "cell_type": "code",
   "execution_count": 39,
   "metadata": {},
   "outputs": [],
   "source": [
    "ventana = Window.partitionBy(\"CODIGO_CORTO\").orderBy(\"FECHA\")"
   ]
  },
  {
   "cell_type": "code",
   "execution_count": 42,
   "metadata": {},
   "outputs": [],
   "source": [
    "for magnitud in magnitudes:\n",
    "    df_datos = df_datos.withColumn(\"A_%s\"%magnitud, F.lag(magnitud,1,None).over(ventana))"
   ]
  },
  {
   "cell_type": "code",
   "execution_count": 43,
   "metadata": {},
   "outputs": [
    {
     "data": {
      "text/plain": [
       "['CODIGO_CORTO',\n",
       " 'ANO',\n",
       " 'MES',\n",
       " 'DIA',\n",
       " 'FECHA',\n",
       " 'DIASEMANA',\n",
       " 'TIPODIA',\n",
       " 'CONFINAMIENTO',\n",
       " '1',\n",
       " '6',\n",
       " '7',\n",
       " '8',\n",
       " '9',\n",
       " '10',\n",
       " '12',\n",
       " '14',\n",
       " '20',\n",
       " '30',\n",
       " '35',\n",
       " '42',\n",
       " '43',\n",
       " '44',\n",
       " '81',\n",
       " '82',\n",
       " '83',\n",
       " '87',\n",
       " '89',\n",
       " 'A_1',\n",
       " 'A_6',\n",
       " 'A_7',\n",
       " 'A_8',\n",
       " 'A_9',\n",
       " 'A_10',\n",
       " 'A_12',\n",
       " 'A_14',\n",
       " 'A_20',\n",
       " 'A_30',\n",
       " 'A_35',\n",
       " 'A_42',\n",
       " 'A_43',\n",
       " 'A_44',\n",
       " 'A_81',\n",
       " 'A_82',\n",
       " 'A_83',\n",
       " 'A_87',\n",
       " 'A_89']"
      ]
     },
     "execution_count": 43,
     "metadata": {},
     "output_type": "execute_result"
    }
   ],
   "source": [
    "df_datos.columns"
   ]
  },
  {
   "cell_type": "code",
   "execution_count": 24,
   "metadata": {
    "scrolled": true
   },
   "outputs": [
    {
     "name": "stdout",
     "output_type": "stream",
     "text": [
      "+------------+----+---+---+--------+----+----+----+----+----+----+-----+----+----+----+----+----+----+----+---+----+------------------+------+---+---------+-------+-------------+----+\n",
      "|CODIGO_CORTO| ANO|MES|DIA|   FECHA|   1|   6|   7|   8|   9|  10|   12|  14|  20|  30|  35|  42|  43|  44| 81|  82|                83|    87| 89|DIASEMANA|TIPODIA|CONFINAMIENTO|A_81|\n",
      "+------------+----+---+---+--------+----+----+----+----+----+----+-----+----+----+----+----+----+----+----+---+----+------------------+------+---+---------+-------+-------------+----+\n",
      "|          27|2014|  1|  1|20140101|null|null| 4.0|27.0|null|null| 32.0|34.0|null|null|null|1.37|1.18|0.19|3.6|22.0|              8.45| 950.0|5.5|        3|      0|            0|null|\n",
      "|          27|2014|  1|  2|20140102|null|null| 5.0|29.0|null|null| 37.0|37.0|null|null|null|1.37| 1.2|0.17|5.8|20.0|              11.0|947.35|5.4|        4|      1|            0| 3.6|\n",
      "|          27|2014|  1|  3|20140103|null|null| 7.0|30.0|null|null| 42.0|39.0|null|null|null|1.34|1.18|0.16|4.7|23.0|             12.05|950.65|7.7|        5|      1|            0| 5.8|\n",
      "|          27|2014|  1|  4|20140104|null|null| 1.0|13.0|null|null| 15.0|61.0|null|null|null|1.32|1.17|0.16|9.4|22.0|7.4499999999999975|947.05|5.8|        6|      0|            0| 4.7|\n",
      "|          27|2014|  1|  5|20140105|null|null| 4.0|30.0|null|null| 37.0|43.0|null|null|null|1.41|1.22|0.19|4.4|21.0|              6.35|953.95|0.5|        7|      0|            0| 9.4|\n",
      "|          27|2014|  1|  6|20140106|null|null| 7.0|36.0|null|null| 47.0|32.0|null|null|null|1.59|1.38| 0.2|3.1|22.0|              9.15|952.75|0.0|        1|      0|            0| 4.4|\n",
      "|          27|2014|  1|  7|20140107|null|null|11.0|36.0|null|null| 53.0|25.0|null|null|null|1.42|1.23|0.19|2.2|23.0|              10.7|953.25|0.0|        2|      1|            0| 3.1|\n",
      "|          27|2014|  1|  8|20140108|null|null|44.0|49.0|null|null|117.0|13.0|null|null|null|1.44|1.24| 0.2|1.4|35.0|              9.25| 954.3|0.0|        3|      2|            0| 2.2|\n",
      "|          27|2014|  1|  9|20140109|null|null|47.0|57.0|null|null|130.0|11.0|null|null|null|1.45|1.24|0.21|1.7|99.0|              8.55| 952.8|0.0|        4|      2|            0| 1.4|\n",
      "|          27|2014|  1| 10|20140110|null|null|73.0|61.0|null|null|172.0|11.0|null|null|null|1.49|1.25|0.24|2.2|99.0|               8.3| 948.6|0.0|        5|      2|            0| 1.7|\n",
      "|          27|2014|  1| 11|20140111|null|null|65.0|54.0|null|null|153.0|13.0|null|null|null|1.61|1.34|0.27|1.7|23.0|              8.85| 951.1|0.0|        6|      0|            0| 2.2|\n",
      "|          27|2014|  1| 12|20140112|null|null|41.0|44.0|null|null|108.0| 8.0|null|null|null|1.63| 1.4|0.24|1.1|99.0|              5.25| 955.6|4.8|        7|      0|            0| 1.7|\n",
      "|          27|2014|  1| 13|20140113|null|null|19.0|39.0|null|null| 68.0|32.0|null|null|null| 1.5| 1.3|0.21|2.8|26.0|               8.7|952.45|0.0|        1|      2|            0| 1.1|\n",
      "|          27|2014|  1| 14|20140114|null|null| 5.0|24.0|null|null| 33.0|45.0|null|null|null|1.32|1.16|0.17|7.8|23.0|              9.55| 947.9|0.0|        2|      2|            0| 2.8|\n",
      "|          27|2014|  1| 15|20140115|null|null|32.0|46.0|null|null| 95.0|21.0|null|null|null|1.69|1.44|0.25|2.5|22.0|               8.0| 947.0|4.0|        3|      2|            0| 7.8|\n",
      "|          27|2014|  1| 16|20140116|null|null| 6.0|33.0|null|null| 42.0|39.0|null|null|null|1.37|1.19|0.18|5.0|21.0|              7.85| 942.6|0.0|        4|      2|            0| 2.5|\n",
      "|          27|2014|  1| 17|20140117|null|null| 5.0|29.0|null|null| 36.0|41.0|null|null|null|1.42|1.23|0.19|4.2|99.0|               6.2| 936.5|7.4|        5|      2|            0| 5.0|\n",
      "|          27|2014|  1| 18|20140118|null|null| 5.0|30.0|null|null| 38.0|42.0|null|null|null|1.35|1.16|0.19|3.1|21.0|              7.65|929.45|2.7|        6|      0|            0| 4.2|\n",
      "|          27|2014|  1| 19|20140119|null|null| 4.0|25.0|null|null| 31.0|42.0|null|null|null|1.47|1.26|0.21|1.9|28.0|               6.1| 935.1|3.9|        7|      0|            0| 3.1|\n",
      "|          27|2014|  1| 20|20140120|null|null|10.0|30.0|null|null| 46.0|51.0|null|null|null|1.35|1.17|0.19|5.6|25.0|              6.25|946.85|0.0|        1|      2|            0| 1.9|\n",
      "+------------+----+---+---+--------+----+----+----+----+----+----+-----+----+----+----+----+----+----+----+---+----+------------------+------+---+---------+-------+-------------+----+\n",
      "only showing top 20 rows\n",
      "\n"
     ]
    }
   ],
   "source": [
    "df_datos.withColumn(\"A_81\",F.lag(\"81\",1,None).over(ventana)).show()"
   ]
  },
  {
   "cell_type": "code",
   "execution_count": 91,
   "metadata": {},
   "outputs": [],
   "source": [
    "#https://stackoverflow.com/questions/45011320/how-to-get-data-of-previous-row-in-apache-spark"
   ]
  },
  {
   "cell_type": "code",
   "execution_count": 55,
   "metadata": {
    "scrolled": true
   },
   "outputs": [
    {
     "data": {
      "text/plain": [
       "['CODIGO_CORTO',\n",
       " 'ANO',\n",
       " 'MES',\n",
       " 'DIA',\n",
       " 'FECHA',\n",
       " '1',\n",
       " '6',\n",
       " '7',\n",
       " '8',\n",
       " '9',\n",
       " '10',\n",
       " '12',\n",
       " '14',\n",
       " '20',\n",
       " '30',\n",
       " '35',\n",
       " '42',\n",
       " '43',\n",
       " '44',\n",
       " '81',\n",
       " '82',\n",
       " '83',\n",
       " '87',\n",
       " '89',\n",
       " 'DIASEMANA',\n",
       " 'TIPODIA',\n",
       " 'CONFINAMIENTO']"
      ]
     },
     "execution_count": 55,
     "metadata": {},
     "output_type": "execute_result"
    }
   ],
   "source": [
    "df_datos.columns"
   ]
  },
  {
   "cell_type": "markdown",
   "metadata": {},
   "source": [
    "## [1.1] - Estaciones aire + prediccion clima + calendario"
   ]
  },
  {
   "cell_type": "code",
   "execution_count": 46,
   "metadata": {},
   "outputs": [],
   "source": [
    "magnitudes_clima = df_clima_prediccion.columns[4:]"
   ]
  },
  {
   "cell_type": "code",
   "execution_count": 47,
   "metadata": {},
   "outputs": [],
   "source": [
    "ayer = (datetime.date.today() - datetime.timedelta(days=-2)).strftime(\"%Y%m%d\")"
   ]
  },
  {
   "cell_type": "code",
   "execution_count": 52,
   "metadata": {},
   "outputs": [],
   "source": [
    "df_datos_ayer = df_datos.filter(df_datos[\"FECHA\"]==20200101)"
   ]
  },
  {
   "cell_type": "code",
   "execution_count": 54,
   "metadata": {
    "scrolled": true
   },
   "outputs": [],
   "source": [
    "df_datos_ayer = df_datos_ayer.drop(\"ANO\",\"MES\",\"DIA\",\"FECHA\",\"DIASEMANA\",\"TIPO_DIA\",\"CONFINAMIENTO\")"
   ]
  },
  {
   "cell_type": "code",
   "execution_count": null,
   "metadata": {},
   "outputs": [],
   "source": [
    "df_prediccion"
   ]
  },
  {
   "cell_type": "code",
   "execution_count": null,
   "metadata": {},
   "outputs": [],
   "source": [
    "for magnitud in magnitudes_clima:\n",
    "    df_datos_ayer = df_datos_ayer.withColumn()"
   ]
  },
  {
   "cell_type": "markdown",
   "metadata": {},
   "source": [
    "## [1.1] - Paso a Pandas"
   ]
  },
  {
   "cell_type": "code",
   "execution_count": 4,
   "metadata": {
    "scrolled": false
   },
   "outputs": [],
   "source": [
    "pd_aire = df_aire.drop(\"_c0\").toPandas()\n",
    "pd_clima = df_clima.drop(\"_c0\").toPandas()\n",
    "pd_estaciones = df_estaciones.drop(\"_c0\").toPandas()\n",
    "pd_calendario = df_calendario.drop(\"_c0\").toPandas()"
   ]
  },
  {
   "cell_type": "markdown",
   "metadata": {},
   "source": [
    "## [1.2] - Tipos\n",
    "    \n",
    "    CODIGO_CORTO -> STRING/OBJECT\n",
    "    ANO -> INTEGER\n",
    "    MES -> INTEGER\n",
    "    DIA -> INTEGER\n",
    "    FECHA -> INTEGER\n",
    "    MEDICIONES -> DOUBLE"
   ]
  },
  {
   "cell_type": "markdown",
   "metadata": {},
   "source": [
    "### [1.2.0] -  Estaciones"
   ]
  },
  {
   "cell_type": "code",
   "execution_count": 5,
   "metadata": {},
   "outputs": [],
   "source": [
    "#None to NULO\n",
    "pd_estaciones = pd_estaciones.replace(('None',None),np.nan)"
   ]
  },
  {
   "cell_type": "code",
   "execution_count": 6,
   "metadata": {},
   "outputs": [
    {
     "data": {
      "text/plain": [
       "['E_AEMET']"
      ]
     },
     "execution_count": 6,
     "metadata": {},
     "output_type": "execute_result"
    }
   ],
   "source": [
    "#Columnas estaciones medicion - 2014\n",
    "regex = reg.compile(\"E_AEMET\")\n",
    "c_grupo_14 = [elem for elem in list(filter(regex.search,df_estaciones.columns))]\n",
    "c_grupo_14"
   ]
  },
  {
   "cell_type": "code",
   "execution_count": 139,
   "metadata": {
    "scrolled": true
   },
   "outputs": [
    {
     "data": {
      "text/plain": [
       "['E_81', 'E_82', 'E_83', 'E_87', 'E_89']"
      ]
     },
     "execution_count": 139,
     "metadata": {},
     "output_type": "execute_result"
    }
   ],
   "source": [
    "#Columnas estaciones medicion - 2019\n",
    "regex = reg.compile(\"E_\\d\\d\")\n",
    "c_estacionxmagnitud_19 = [elem for elem in list(filter(regex.search,df_estaciones.columns))]\n",
    "c_estacionxmagnitud_19"
   ]
  },
  {
   "cell_type": "code",
   "execution_count": 135,
   "metadata": {},
   "outputs": [],
   "source": [
    "#Columnas estaciones medicion a string\n",
    "for columna in c_estacionxmagnitud_19:\n",
    "    pd_estaciones[columna] = pd_estaciones[columna].astype(str)"
   ]
  },
  {
   "cell_type": "code",
   "execution_count": 136,
   "metadata": {},
   "outputs": [],
   "source": [
    "#pd_estaciones.dtypes"
   ]
  },
  {
   "cell_type": "markdown",
   "metadata": {},
   "source": [
    "###  [1.2.1] - Aire"
   ]
  },
  {
   "cell_type": "code",
   "execution_count": null,
   "metadata": {
    "scrolled": true
   },
   "outputs": [],
   "source": [
    "#None to NULO\n",
    "pd_aire = pd_aire.replace(('None',None),np.nan)"
   ]
  },
  {
   "cell_type": "code",
   "execution_count": 123,
   "metadata": {},
   "outputs": [],
   "source": [
    "#CODIGOS CORTOS A Strig\n",
    "pd_aire[\"CODIGO_CORTO\"] = pd_aire[\"CODIGO_CORTO\"].astype(str)"
   ]
  },
  {
   "cell_type": "code",
   "execution_count": 168,
   "metadata": {},
   "outputs": [],
   "source": [
    "pd_aire = pd_aire.sort_values(by=\"FECHA\")"
   ]
  },
  {
   "cell_type": "code",
   "execution_count": 124,
   "metadata": {
    "scrolled": false
   },
   "outputs": [],
   "source": [
    "#pd_aire.dtypes"
   ]
  },
  {
   "cell_type": "markdown",
   "metadata": {},
   "source": [
    "### [1.2.2] - Clima"
   ]
  },
  {
   "cell_type": "code",
   "execution_count": 131,
   "metadata": {},
   "outputs": [],
   "source": [
    "#None to NULO\n",
    "pd_clima = pd_clima.replace(('None',None),np.nan)"
   ]
  },
  {
   "cell_type": "code",
   "execution_count": 125,
   "metadata": {
    "scrolled": false
   },
   "outputs": [],
   "source": [
    "#Listar las columnas que miden magnitudes\n",
    "columnas_valoresmagnitudes = list(pd_clima.columns)[5:]"
   ]
  },
  {
   "cell_type": "code",
   "execution_count": 127,
   "metadata": {},
   "outputs": [],
   "source": [
    "#Columnas magnitudes a float\n",
    "for columna in columnas_valoresmagnitudes:\n",
    "    #Comas por puntos\n",
    "    pd_clima[columna]  =  [reg.sub(',','.',str(x)) for x in pd_clima[columna]]\n",
    "    # String to float\n",
    "    pd_clima[columna] = pd_clima[columna].astype(float)"
   ]
  },
  {
   "cell_type": "code",
   "execution_count": 169,
   "metadata": {},
   "outputs": [],
   "source": [
    "pd_clima = pd_clima.sort_values(by=\"FECHA\")"
   ]
  },
  {
   "cell_type": "code",
   "execution_count": 129,
   "metadata": {
    "scrolled": false
   },
   "outputs": [],
   "source": [
    "#pd_clima.dtypes"
   ]
  },
  {
   "cell_type": "markdown",
   "metadata": {},
   "source": [
    "### [1.2.3] - Calendario"
   ]
  },
  {
   "cell_type": "code",
   "execution_count": 132,
   "metadata": {},
   "outputs": [],
   "source": [
    "pd_calendario = pd_calendario.replace(('None',None),np.nan)"
   ]
  },
  {
   "cell_type": "markdown",
   "metadata": {},
   "source": [
    "## [1.3] - Darle grupo a estaciones de AIRE\n",
    "\n",
    "    2014-2018 -> E_AEMET\n",
    "    \n",
    "    2019-NOW -> 81,82,83,87,89"
   ]
  },
  {
   "cell_type": "code",
   "execution_count": 141,
   "metadata": {},
   "outputs": [],
   "source": [
    "#Sacamos estaciones de aire y codigos de estaciones de clima asociadas\n",
    "pd_estaciones_aire = pd_estaciones[pd_estaciones[\"MIDE_AIRE\"]>0]"
   ]
  },
  {
   "cell_type": "code",
   "execution_count": 142,
   "metadata": {},
   "outputs": [],
   "source": [
    "#Nos quedamos con las columnas que queremos\n",
    "c_agrupamiento = [\"CODIGO_CORTO\"] + c_grupo_14 + c_estacionxmagnitud_19\n",
    "pd_estaciones_aire = pd_estaciones_aire[c_agrupamiento]"
   ]
  },
  {
   "cell_type": "code",
   "execution_count": 143,
   "metadata": {},
   "outputs": [],
   "source": [
    "#Unimos ambos datasets\n",
    "pd_aire = pd_aire.merge(pd_estaciones_aire, on =[\"CODIGO_CORTO\"])"
   ]
  },
  {
   "cell_type": "markdown",
   "metadata": {},
   "source": [
    "# [2] -  UNIR AIRE + CLIMA"
   ]
  },
  {
   "cell_type": "markdown",
   "metadata": {},
   "source": [
    "## [2.0] - Separamos datos contaminacion (2014-18 | 2019-NOW)"
   ]
  },
  {
   "cell_type": "code",
   "execution_count": 232,
   "metadata": {},
   "outputs": [],
   "source": [
    "#Datos 14-18\n",
    "pd_datos_14_18 = pd_aire[pd_aire[\"FECHA\"]<20190101]"
   ]
  },
  {
   "cell_type": "code",
   "execution_count": 233,
   "metadata": {},
   "outputs": [],
   "source": [
    "#Datos 19-NOW\n",
    "pd_datos_19_NOW = pd_aire[pd_aire[\"FECHA\"]>=20190101]"
   ]
  },
  {
   "cell_type": "markdown",
   "metadata": {},
   "source": [
    "## [2.1] - MERGE (ESTACION AIRE, DIA) + (DATOS CLIMA )"
   ]
  },
  {
   "cell_type": "code",
   "execution_count": 237,
   "metadata": {},
   "outputs": [],
   "source": [
    "# Separamos columnas de info (comunes) y las columnas de datos\n",
    "columnas = list(pd_clima.columns) \n",
    "c_info = columnas[:5]\n",
    "c_magnitudes = columnas[5:]"
   ]
  },
  {
   "cell_type": "code",
   "execution_count": 238,
   "metadata": {
    "scrolled": true
   },
   "outputs": [],
   "source": [
    "#Asociamos cada columna de datos de clima (magnitud) a la estación de aire correspondiente.  \n",
    "for magnitud in c_magnitudes:\n",
    "    cols = c_info.copy()\n",
    "    cols.append(magnitud)\n",
    "    \n",
    "    pd_clima_magnitud = pd_clima[cols]\n",
    "\n",
    "    #2014-2018\n",
    "    pd_clima_magnitud_14_18 = pd_clima_magnitud.rename(columns={\"CODIGO_CORTO\":c_grupo_14[0]})\n",
    "    pd_datos_14_18 = pd_datos_14_18.merge(pd_clima_magnitud_14_18,on = [\"ANO\", \"MES\", \"DIA\",\"FECHA\",c_grupo_14[0]])\n",
    "    \n",
    "    #2019-NOW\n",
    "    pd_clima_magnitud_19_NOW = pd_clima_magnitud.rename(columns={\"CODIGO_CORTO\":\"E_%s\"%magnitud})\n",
    "    pd_datos_19_NOW = pd_datos_19_NOW.merge(pd_clima_magnitud_19_NOW,on = [\"ANO\", \"MES\", \"DIA\",\"FECHA\",\"E_%s\"%magnitud])"
   ]
  },
  {
   "cell_type": "markdown",
   "metadata": {},
   "source": [
    "## [2.2] - Unimos partes generadas por el MERGE"
   ]
  },
  {
   "cell_type": "code",
   "execution_count": 242,
   "metadata": {
    "scrolled": true
   },
   "outputs": [],
   "source": [
    "#pd_datos_14_18.dtypes"
   ]
  },
  {
   "cell_type": "code",
   "execution_count": 243,
   "metadata": {},
   "outputs": [],
   "source": [
    "#pd_datos_19_NOW.dtypes"
   ]
  },
  {
   "cell_type": "code",
   "execution_count": 252,
   "metadata": {
    "scrolled": false
   },
   "outputs": [],
   "source": [
    "pd_datos = pd.concat([pd_datos_14_18,pd_datos_19_NOW])"
   ]
  },
  {
   "cell_type": "markdown",
   "metadata": {},
   "source": [
    "# [3] - Incluir CALENDARIO"
   ]
  },
  {
   "cell_type": "code",
   "execution_count": 273,
   "metadata": {
    "scrolled": false
   },
   "outputs": [],
   "source": [
    "pd_datos_y_calendario = pd_datos.merge(pd_calendario, on = \"FECHA\")"
   ]
  },
  {
   "cell_type": "code",
   "execution_count": 275,
   "metadata": {},
   "outputs": [],
   "source": [
    "#pd_datos_y_calendario.dtypes"
   ]
  },
  {
   "cell_type": "markdown",
   "metadata": {},
   "source": [
    "# [4] - FORMATO"
   ]
  },
  {
   "cell_type": "code",
   "execution_count": 276,
   "metadata": {},
   "outputs": [],
   "source": [
    "#Borramos las columnas utilizadas para relacionar estaciones de aire y clima\n",
    "a_borrar = c_grupo_14 + c_estacionxmagnitud_19"
   ]
  },
  {
   "cell_type": "code",
   "execution_count": 277,
   "metadata": {
    "scrolled": false
   },
   "outputs": [],
   "source": [
    "pd_final = pd_datos_y_calendario.drop(columns = a_borrar)"
   ]
  },
  {
   "cell_type": "markdown",
   "metadata": {},
   "source": [
    "# [5] - EXPORTAR"
   ]
  },
  {
   "cell_type": "code",
   "execution_count": null,
   "metadata": {},
   "outputs": [],
   "source": [
    "#Versiones\n",
    "hoy = datetime.date.today().strftime(\"%Y-%m-%d\")\n",
    "pd_final.to_csv(\"/home/rulicering/Datos_Proyecto_Ozono/Procesado/Dato_Final/Datos_2014-NOW-\" + hoy + \".csv\")"
   ]
  },
  {
   "cell_type": "code",
   "execution_count": 278,
   "metadata": {},
   "outputs": [],
   "source": [
    "pd_final.to_csv(\"/home/rulicering/Datos_Proyecto_Ozono/Procesado/Dato_Final/Datos_2014-NOW.csv\")"
   ]
  },
  {
   "cell_type": "markdown",
   "metadata": {},
   "source": [
    "# [EXTRA] - CHECKEO"
   ]
  },
  {
   "cell_type": "code",
   "execution_count": 262,
   "metadata": {},
   "outputs": [],
   "source": [
    "#pd_chequeo = pd_datos[['CODIGO_CORTO', 'FECHA','E_AEMET','E_81', 'E_82', 'E_83', 'E_87', 'E_89', '81', '82', '83', '87', '89']]"
   ]
  },
  {
   "cell_type": "code",
   "execution_count": 261,
   "metadata": {},
   "outputs": [],
   "source": [
    "#2014-2018\n",
    "#pd_chequeo[(pd_datos[\"FECHA\"]==20140101)].sort_values(by=\"E_AEMET\")\n",
    "#pd_clima[pd_clima[\"FECHA\"]==20140101]\n",
    "\n",
    "#2019-NOW\n",
    "#pd_chequeo[(pd_datos[\"FECHA\"]==20190101)]\n",
    "#pd_clima[pd_clima[\"FECHA\"]==20190101]"
   ]
  }
 ],
 "metadata": {
  "kernelspec": {
   "display_name": "Python 3",
   "language": "python",
   "name": "python3"
  },
  "language_info": {
   "codemirror_mode": {
    "name": "ipython",
    "version": 3
   },
   "file_extension": ".py",
   "mimetype": "text/x-python",
   "name": "python",
   "nbconvert_exporter": "python",
   "pygments_lexer": "ipython3",
   "version": "3.6.9"
  }
 },
 "nbformat": 4,
 "nbformat_minor": 4
}
