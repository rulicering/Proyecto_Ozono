{
 "cells": [
  {
   "cell_type": "markdown",
   "metadata": {},
   "source": [
    "# [o3]- Proyecto Ozono - Predictor_v0"
   ]
  },
  {
   "cell_type": "markdown",
   "metadata": {},
   "source": [
    "# [0] - Inicialización"
   ]
  },
  {
   "cell_type": "code",
   "execution_count": 1,
   "metadata": {},
   "outputs": [],
   "source": [
    "import findspark\n",
    "findspark.init('/home/rulicering/BigData/spark-2.4.5-bin-hadoop2.7')\n",
    "from pyspark.sql import SparkSession\n",
    "from pyspark.sql import functions as F\n",
    "from pyspark.sql.window import Window\n",
    "import pandas as pd\n",
    "from pyspark.sql.types import StructField,StringType,IntegerType,StructType,FloatType\n",
    "import re as reg\n",
    "import numpy as np\n",
    "import datetime\n",
    "\n",
    "#MlLib\n",
    "#from pyspark.ml.regression import LinearRegression\n",
    "from pyspark.ml import Pipeline\n",
    "from pyspark.ml.regression import GBTRegressor\n",
    "from pyspark.ml.feature import VectorIndexer\n",
    "from pyspark.ml.evaluation import RegressionEvaluator\n",
    "\n",
    "#Aux\n",
    "from pyspark.ml.linalg import Vectors\n",
    "from pyspark.ml.feature import VectorAssembler"
   ]
  },
  {
   "cell_type": "code",
   "execution_count": 2,
   "metadata": {},
   "outputs": [],
   "source": [
    "spark = SparkSession.builder.appName('predictor').getOrCreate()\n",
    "spark.sparkContext.setLogLevel('ERROR')"
   ]
  },
  {
   "cell_type": "markdown",
   "metadata": {},
   "source": [
    "# [1] Datos"
   ]
  },
  {
   "cell_type": "markdown",
   "metadata": {},
   "source": [
    "## [1.0] - Carga de ficheros (Datos, Predicción clima,  Calendario)\n",
    "    Se ejecuta el predictor a las 2 am del dia siguiente"
   ]
  },
  {
   "cell_type": "code",
   "execution_count": 3,
   "metadata": {},
   "outputs": [],
   "source": [
    "ayer = (datetime.date.today() + datetime.timedelta(days = -1)).strftime(\"%Y-%m-%d\")\n",
    "hoy = datetime.date.today().strftime(\"%Y-%m-%d\")"
   ]
  },
  {
   "cell_type": "code",
   "execution_count": 4,
   "metadata": {
    "scrolled": true
   },
   "outputs": [],
   "source": [
    "df_datos = spark.read.csv('/home/rulicering/Datos_Proyecto_Ozono/Procesado/Dato_Final/Datos.csv',inferSchema= True,header=True)\n",
    "df_clima_prediccion = spark.read.csv(\"/home/rulicering/Datos_Proyecto_Ozono/Procesado/Clima/Clima_Prediccion-\"+ hoy + \".csv\",inferSchema= True,header=True)\n",
    "df_calendario = spark.read.csv('/home/rulicering/Datos_Proyecto_Ozono/Procesado/Calendario/Calendario_2001-2020.csv',inferSchema= True,header=True)"
   ]
  },
  {
   "cell_type": "code",
   "execution_count": 5,
   "metadata": {},
   "outputs": [],
   "source": [
    "df_datos = df_datos.drop(\"_c0\")\n",
    "df_clima_prediccion = df_clima_prediccion.drop(\"_c0\")\n",
    "df_calendario = df_calendario.drop(\"_c0\")"
   ]
  },
  {
   "cell_type": "code",
   "execution_count": 6,
   "metadata": {},
   "outputs": [],
   "source": [
    "magnitudes= df_datos.columns[8:]\n",
    "magnitudes_clima = df_datos.columns[-5:]\n",
    "magnitudes_aire = df_datos.columns[8:-5]"
   ]
  },
  {
   "cell_type": "code",
   "execution_count": 7,
   "metadata": {},
   "outputs": [],
   "source": [
    "dic_clima = { \"VIENTO\":\"81\",\n",
    "                 \"DIRECCION\": \"82\",\n",
    "                 \"TEMPERATURA\": \"83\",\n",
    "                 \"PRESION\": \"87\",\n",
    "                 \"LLUVIA\":\"89\"\n",
    "}"
   ]
  },
  {
   "cell_type": "markdown",
   "metadata": {},
   "source": [
    "## [1.1] - Datos para prediccion - Prediccion clima + Calendario + Estaciones"
   ]
  },
  {
   "cell_type": "code",
   "execution_count": 8,
   "metadata": {},
   "outputs": [],
   "source": [
    "ayer = (datetime.date.today() + datetime.timedelta(days = -1)).strftime(\"%Y%m%d\")\n",
    "hoy = datetime.date.today().strftime(\"%Y%m%d\")"
   ]
  },
  {
   "cell_type": "code",
   "execution_count": 9,
   "metadata": {},
   "outputs": [],
   "source": [
    "df_estaciones_aire = df_datos.filter(df_datos[\"FECHA\"]== ayer).select(\"CODIGO_CORTO\")"
   ]
  },
  {
   "cell_type": "code",
   "execution_count": 10,
   "metadata": {},
   "outputs": [],
   "source": [
    "cod_estaciones_aire = [elem[0] for elem in df_estaciones_aire.collect()]"
   ]
  },
  {
   "cell_type": "code",
   "execution_count": 11,
   "metadata": {},
   "outputs": [],
   "source": [
    "cod_estaciones_aire.sort()"
   ]
  },
  {
   "cell_type": "code",
   "execution_count": 12,
   "metadata": {},
   "outputs": [],
   "source": [
    "df_hoy = df_calendario.filter(df_calendario[\"FECHA\"]== hoy)"
   ]
  },
  {
   "cell_type": "code",
   "execution_count": 13,
   "metadata": {},
   "outputs": [],
   "source": [
    "#Calendario + Magnitudes aire a null\n",
    "for magnitud in magnitudes_aire:\n",
    "    df_hoy = df_hoy.withColumn(magnitud,F.lit(None))"
   ]
  },
  {
   "cell_type": "code",
   "execution_count": 14,
   "metadata": {},
   "outputs": [],
   "source": [
    "#Calendario + Prediccion clima\n",
    "df_clima_hoy = df_hoy.join(df_clima_prediccion,on= \"FECHA\")"
   ]
  },
  {
   "cell_type": "code",
   "execution_count": 15,
   "metadata": {
    "scrolled": true
   },
   "outputs": [],
   "source": [
    "#Estaciones cross datos clima y calendario\n",
    "df_datos_hoy = df_estaciones_aire.crossJoin(df_clima_hoy)"
   ]
  },
  {
   "cell_type": "code",
   "execution_count": 16,
   "metadata": {},
   "outputs": [],
   "source": [
    "cols = df_datos_hoy.columns\n",
    "cols = cols[0:1] + cols[19:22]+ cols[1:5]+ cols[5:19] + cols[22:]"
   ]
  },
  {
   "cell_type": "code",
   "execution_count": 17,
   "metadata": {},
   "outputs": [],
   "source": [
    "df_datos_hoy = df_datos_hoy.select(cols)"
   ]
  },
  {
   "cell_type": "markdown",
   "metadata": {},
   "source": [
    "### [1.1.0] - Probabilidad lluvia -> Prediccion lluvia m/l2 + Presion dia anterior\n",
    "    Si la probabilidad es > 50%:\n",
    "        se hace la media por estacion del historial de precipitaciones\n",
    "        cogiendo datos de +-10 días al dia de hoy de cada año anterior"
   ]
  },
  {
   "cell_type": "code",
   "execution_count": 18,
   "metadata": {},
   "outputs": [],
   "source": [
    "def probabilidad_a_lluvia_presion_ayer_aire_a_null(df_datos,df_datos_hoy):\n",
    "    mes_dia_min = (datetime.date.today() +  datetime.timedelta(days = -10)).strftime(\"%m%d\")\n",
    "    mes_dia_max = (datetime.date.today() +  datetime.timedelta(days = 10)).strftime(\"%m%d\")\n",
    "    df_historial = df_datos.filter((df_datos[\"FECHA\"]%1000 >= mes_dia_min) & (df_datos[\"FECHA\"]%1000 <= mes_dia_max))\n",
    "    df_datos_hoy = df_datos_hoy.drop('%' + dic_clima[\"LLUVIA\"])\n",
    "    l_df = []\n",
    "    for estacion in cod_estaciones_aire:\n",
    "        df_datos_hoy_estacion = df_datos_hoy.filter(df_datos_hoy[\"CODIGO_CORTO\"]==estacion)\n",
    "        aux = df_historial.filter(df_historial[\"CODIGO_CORTO\"]== estacion).select(\"FECHA\",dic_clima[\"PRESION\"],dic_clima[\"LLUVIA\"]).na.drop()\n",
    "        #Precipitacions\n",
    "        prob_lluvia_hoy = df_clima_prediccion.select(\"%\" +dic_clima[\"LLUVIA\"]).collect()[0][0]\n",
    "        prec = 0\n",
    "        if(float(prob_lluvia_hoy) > 50):\n",
    "            try:\n",
    "                prec = aux.filter(aux[dic_clima[\"LLUVIA\"]] >0).select(dic_clima[\"LLUVIA\"]).groupBy().mean().collect()[0][0]\n",
    "            except:\n",
    "                print(\"[WARN]: No hay lluvias historicas en ese rango de fechas\")\n",
    "        df_datos_hoy_estacion = df_datos_hoy_estacion.withColumn(dic_clima[\"LLUVIA\"],F.lit(prec))\n",
    "            \n",
    "        #Presion\n",
    "        ayer = (datetime.date.today() + datetime.timedelta(days= -1)).strftime(\"%Y%m%d\")\n",
    "        presion_ayer = aux.filter(aux[\"FECHA\"]==ayer).select(dic_clima[\"PRESION\"]).collect()[0][0]\n",
    "        df_datos_hoy_estacion = df_datos_hoy_estacion.withColumn(dic_clima[\"PRESION\"],F.lit(presion_ayer))\n",
    "\n",
    "        l_df.append(df_datos_hoy_estacion)\n",
    "        \n",
    "    df_datos_hoy = l_df[0]\n",
    "    for i in range(1,len(l_df)):\n",
    "        df_datos_hoy = df_datos_hoy.union(l_df[i])\n",
    "    return df_datos_hoy"
   ]
  },
  {
   "cell_type": "code",
   "execution_count": 19,
   "metadata": {
    "scrolled": true
   },
   "outputs": [],
   "source": [
    "df_datos_hoy = probabilidad_a_lluvia_presion_ayer_aire_a_null(df_datos,df_datos_hoy)"
   ]
  },
  {
   "cell_type": "markdown",
   "metadata": {},
   "source": [
    "## [1.2] - Union Datos + Datos hoy"
   ]
  },
  {
   "cell_type": "code",
   "execution_count": 20,
   "metadata": {
    "scrolled": true
   },
   "outputs": [],
   "source": [
    "df_datos= df_datos.union(df_datos_hoy)"
   ]
  },
  {
   "cell_type": "markdown",
   "metadata": {},
   "source": [
    "## [1.3] - Dar cada fila de datos +  contaminacion ayer"
   ]
  },
  {
   "cell_type": "code",
   "execution_count": 21,
   "metadata": {},
   "outputs": [],
   "source": [
    "ventana = Window.partitionBy(\"CODIGO_CORTO\").orderBy(\"FECHA\")"
   ]
  },
  {
   "cell_type": "code",
   "execution_count": 22,
   "metadata": {},
   "outputs": [],
   "source": [
    "for magnitud in magnitudes_aire:\n",
    "    df_datos = df_datos.withColumn(\"A_%s\"%magnitud, F.lag(magnitud,1,None).over(ventana))"
   ]
  },
  {
   "cell_type": "markdown",
   "metadata": {},
   "source": [
    "## [1.4] - Tipos\n",
    "    \n",
    "    CODIGO_CORTO -> INTEGER\n",
    "    ANO -> INTEGER\n",
    "    MES -> INTEGER\n",
    "    DIA -> INTEGER\n",
    "    FECHA -> INTEGER\n",
    "    DIASEMANA -> INTEGER\n",
    "    TIPODIA -> INTEGER\n",
    "    CONFINAMIENTO -> INTEGER\n",
    "    MEDICIONES -> DOUBLE"
   ]
  },
  {
   "cell_type": "markdown",
   "metadata": {},
   "source": [
    "# [2] - PREDICCIONES\n",
    "    \n",
    "    Se hace 1 a 1 para cada magnitud de contaminación\n",
    "    "
   ]
  },
  {
   "cell_type": "code",
   "execution_count": 23,
   "metadata": {},
   "outputs": [],
   "source": [
    "cols_comunes = df_datos.columns[0:8] + magnitudes_clima"
   ]
  },
  {
   "cell_type": "markdown",
   "metadata": {},
   "source": [
    "## [2.1] - GBT"
   ]
  },
  {
   "cell_type": "code",
   "execution_count": 24,
   "metadata": {
    "scrolled": true
   },
   "outputs": [
    {
     "name": "stdout",
     "output_type": "stream",
     "text": [
      "==================== 1 ====================\n",
      "+------------+------------------+--------------------+\n",
      "|CODIGO_CORTO|               P_1|                 F_1|\n",
      "+------------+------------------+--------------------+\n",
      "|          40|4.8703098231914215|[40.0,2020.0,5.0,...|\n",
      "|          57| 6.765132652777576|[57.0,2020.0,5.0,...|\n",
      "|          17| 8.637713830298447|[17.0,2020.0,5.0,...|\n",
      "|          35|  4.85415252513568|[35.0,2020.0,5.0,...|\n",
      "|           4| 3.738079545282313|[4.0,2020.0,5.0,2...|\n",
      "|           8| 7.742169657289294|[8.0,2020.0,5.0,2...|\n",
      "|          38|3.7000217826145874|[38.0,2020.0,5.0,...|\n",
      "|          24| 4.797830391385541|[24.0,2020.0,5.0,...|\n",
      "|          18| 6.605883601214146|[18.0,2020.0,5.0,...|\n",
      "|          36|  4.85415252513568|[36.0,2020.0,5.0,...|\n",
      "+------------+------------------+--------------------+\n",
      "\n",
      "==================== 10 ====================\n",
      "+------------+------------------+--------------------+\n",
      "|CODIGO_CORTO|              P_10|                F_10|\n",
      "+------------+------------------+--------------------+\n",
      "|          47|13.060961076817868|[47.0,2020.0,5.0,...|\n",
      "|          57|20.070242051276587|[57.0,2020.0,5.0,...|\n",
      "|          48|20.841203456843832|[48.0,2020.0,5.0,...|\n",
      "|          55|28.836334887600984|[55.0,2020.0,5.0,...|\n",
      "|           8|24.542665178226894|[8.0,2020.0,5.0,2...|\n",
      "|          50|20.572660060752465|[50.0,2020.0,5.0,...|\n",
      "|          38|20.841203456843832|[38.0,2020.0,5.0,...|\n",
      "|          24|20.025718375944898|[24.0,2020.0,5.0,...|\n",
      "|          60|20.338785447367954|[60.0,2020.0,5.0,...|\n",
      "|          56|20.070242051276587|[56.0,2020.0,5.0,...|\n",
      "|          18|15.115161540448343|[18.0,2020.0,5.0,...|\n",
      "|          36|20.841203456843832|[36.0,2020.0,5.0,...|\n",
      "+------------+------------------+--------------------+\n",
      "\n",
      "==================== 12 ====================\n",
      "+------------+------------------+--------------------+\n",
      "|CODIGO_CORTO|              P_12|                F_12|\n",
      "+------------+------------------+--------------------+\n",
      "|          27| 37.33998469034717|[27.0,2020.0,5.0,...|\n",
      "|          47| 29.13030707975103|[47.0,2020.0,5.0,...|\n",
      "|          16|14.985960617083625|[16.0,2020.0,5.0,...|\n",
      "|          40| 29.13030707975103|[40.0,2020.0,5.0,...|\n",
      "|          57|12.186279260932244|[57.0,2020.0,5.0,...|\n",
      "|          54| 47.78549022289567|[54.0,2020.0,5.0,...|\n",
      "|          48|15.383724356096234|[48.0,2020.0,5.0,...|\n",
      "|          17| 62.11657333470137|[17.0,2020.0,5.0,...|\n",
      "|          35| 29.13030707975103|[35.0,2020.0,5.0,...|\n",
      "|           4| 52.48860352453928|[4.0,2020.0,5.0,2...|\n",
      "|          55| 37.77338875421572|[55.0,2020.0,5.0,...|\n",
      "|          59| 17.34021423993219|[59.0,2020.0,5.0,...|\n",
      "|           8| 31.75381809461638|[8.0,2020.0,5.0,2...|\n",
      "|          39| 29.13030707975103|[39.0,2020.0,5.0,...|\n",
      "|          49|15.383724356096234|[49.0,2020.0,5.0,...|\n",
      "|          50| 29.13030707975103|[50.0,2020.0,5.0,...|\n",
      "|          38| 29.13030707975103|[38.0,2020.0,5.0,...|\n",
      "|          24|14.306706594879117|[24.0,2020.0,5.0,...|\n",
      "|          60|11.934994751834816|[60.0,2020.0,5.0,...|\n",
      "|          56| 47.51024064843803|[56.0,2020.0,5.0,...|\n",
      "+------------+------------------+--------------------+\n",
      "only showing top 20 rows\n",
      "\n",
      "==================== 14 ====================\n",
      "+------------+-----------------+--------------------+\n",
      "|CODIGO_CORTO|             P_14|                F_14|\n",
      "+------------+-----------------+--------------------+\n",
      "|          27| 77.2497215879164|[27.0,2020.0,5.0,...|\n",
      "|          16|73.65815232495389|[16.0,2020.0,5.0,...|\n",
      "|          54| 76.2923444053609|[54.0,2020.0,5.0,...|\n",
      "|          17|62.98760479942329|[17.0,2020.0,5.0,...|\n",
      "|          35|67.95463539346436|[35.0,2020.0,5.0,...|\n",
      "|          59|76.04321513636512|[59.0,2020.0,5.0,...|\n",
      "|           8|68.43188355143728|[8.0,2020.0,5.0,2...|\n",
      "|          39|68.03348232745417|[39.0,2020.0,5.0,...|\n",
      "|          49| 76.2923444053609|[49.0,2020.0,5.0,...|\n",
      "|          24|  73.312997748493|[24.0,2020.0,5.0,...|\n",
      "|          60|84.08724806591516|[60.0,2020.0,5.0,...|\n",
      "|          56|72.92233258134951|[56.0,2020.0,5.0,...|\n",
      "|          58|74.12483739290334|[58.0,2020.0,5.0,...|\n",
      "|          18|72.85022057721129|[18.0,2020.0,5.0,...|\n",
      "+------------+-----------------+--------------------+\n",
      "\n",
      "==================== 20 ====================\n",
      "+------------+------------------+--------------------+\n",
      "|CODIGO_CORTO|              P_20|                F_20|\n",
      "+------------+------------------+--------------------+\n",
      "|          55|1.6145355641981416|[55.0,2020.0,5.0,...|\n",
      "|           8| 3.530265150589296|[8.0,2020.0,5.0,2...|\n",
      "|          38|   1.4461689584315|[38.0,2020.0,5.0,...|\n",
      "|          24|1.1339361513657873|[24.0,2020.0,5.0,...|\n",
      "|          11|1.1178807309429926|[11.0,2020.0,5.0,...|\n",
      "|          18|1.1339361513657873|[18.0,2020.0,5.0,...|\n",
      "+------------+------------------+--------------------+\n",
      "\n",
      "==================== 30 ====================\n",
      "+------------+-------------------+--------------------+\n",
      "|CODIGO_CORTO|               P_30|                F_30|\n",
      "+------------+-------------------+--------------------+\n",
      "|          55|0.19258099150687963|[55.0,2020.0,5.0,...|\n",
      "|           8|0.37588422224245616|[8.0,2020.0,5.0,2...|\n",
      "|          38|0.26158717801137676|[38.0,2020.0,5.0,...|\n",
      "|          24|0.11413066951864305|[24.0,2020.0,5.0,...|\n",
      "|          11|0.13843700092697472|[11.0,2020.0,5.0,...|\n",
      "|          18|0.11413066951864305|[18.0,2020.0,5.0,...|\n",
      "+------------+-------------------+--------------------+\n",
      "\n",
      "==================== 35 ====================\n",
      "+------------+-------------------+--------------------+\n",
      "|CODIGO_CORTO|               P_35|                F_35|\n",
      "+------------+-------------------+--------------------+\n",
      "|          55|0.27115706808014756|[55.0,2020.0,5.0,...|\n",
      "|           8|  1.421901530654988|[8.0,2020.0,5.0,2...|\n",
      "|          38| 12.541766707338681|[38.0,2020.0,5.0,...|\n",
      "|          24|0.11286259451523037|[24.0,2020.0,5.0,...|\n",
      "|          11|0.12282054729387662|[11.0,2020.0,5.0,...|\n",
      "|          18|0.11286259451523037|[18.0,2020.0,5.0,...|\n",
      "+------------+-------------------+--------------------+\n",
      "\n",
      "==================== 42 ====================\n",
      "+------------+------------------+--------------------+\n",
      "|CODIGO_CORTO|              P_42|                F_42|\n",
      "+------------+------------------+--------------------+\n",
      "|          55|1.1953635091001804|[55.0,2020.0,5.0,...|\n",
      "|           8|1.4046486132371334|[8.0,2020.0,5.0,2...|\n",
      "|          24| 1.233626058163636|[24.0,2020.0,5.0,...|\n",
      "+------------+------------------+--------------------+\n",
      "\n",
      "==================== 43 ====================\n",
      "+------------+------------------+--------------------+\n",
      "|CODIGO_CORTO|              P_43|                F_43|\n",
      "+------------+------------------+--------------------+\n",
      "|          55|0.7467402221030136|[55.0,2020.0,5.0,...|\n",
      "|           8|1.2945454916410104|[8.0,2020.0,5.0,2...|\n",
      "|          24| 1.091398222374251|[24.0,2020.0,5.0,...|\n",
      "+------------+------------------+--------------------+\n",
      "\n",
      "==================== 44 ====================\n",
      "+------------+-------------------+--------------------+\n",
      "|CODIGO_CORTO|               P_44|                F_44|\n",
      "+------------+-------------------+--------------------+\n",
      "|          55|0.40242707929180277|[55.0,2020.0,5.0,...|\n",
      "|           8|0.15264413870518265|[8.0,2020.0,5.0,2...|\n",
      "|          24|0.12102872081559253|[24.0,2020.0,5.0,...|\n",
      "+------------+-------------------+--------------------+\n",
      "\n",
      "==================== 6 ====================\n",
      "+------------+-------------------+--------------------+\n",
      "|CODIGO_CORTO|                P_6|                 F_6|\n",
      "+------------+-------------------+--------------------+\n",
      "|          16| 0.1945790846238967|[16.0,2020.0,5.0,...|\n",
      "|          57|0.19605072205844742|[57.0,2020.0,5.0,...|\n",
      "|          35|0.12745193095737278|[35.0,2020.0,5.0,...|\n",
      "|           4|0.13428644862391015|[4.0,2020.0,5.0,2...|\n",
      "|           8|0.21479328092286268|[8.0,2020.0,5.0,2...|\n",
      "|          39|0.19626182793412322|[39.0,2020.0,5.0,...|\n",
      "|          24|0.11751499264446406|[24.0,2020.0,5.0,...|\n",
      "|          56|0.19626182793412322|[56.0,2020.0,5.0,...|\n",
      "|          18|0.34006372818656555|[18.0,2020.0,5.0,...|\n",
      "|          36|0.12388727572084407|[36.0,2020.0,5.0,...|\n",
      "+------------+-------------------+--------------------+\n",
      "\n",
      "==================== 7 ====================\n",
      "+------------+------------------+--------------------+\n",
      "|CODIGO_CORTO|               P_7|                 F_7|\n",
      "+------------+------------------+--------------------+\n",
      "|          27| 7.472339408251681|[27.0,2020.0,5.0,...|\n",
      "|          47| 5.701819278846736|[47.0,2020.0,5.0,...|\n",
      "|          16|1.3727579379374233|[16.0,2020.0,5.0,...|\n",
      "|          40| 1.456518807175331|[40.0,2020.0,5.0,...|\n",
      "|          57| 1.456518807175331|[57.0,2020.0,5.0,...|\n",
      "|          54| 5.701819278846736|[54.0,2020.0,5.0,...|\n",
      "|          48|1.0818414917329058|[48.0,2020.0,5.0,...|\n",
      "|          17|17.674246443489935|[17.0,2020.0,5.0,...|\n",
      "|          35|0.9911270293720802|[35.0,2020.0,5.0,...|\n",
      "|           4|12.969920166725318|[4.0,2020.0,5.0,2...|\n",
      "|          55| 2.761647158777023|[55.0,2020.0,5.0,...|\n",
      "|          59|0.4016621186972155|[59.0,2020.0,5.0,...|\n",
      "|           8|2.7949046057726203|[8.0,2020.0,5.0,2...|\n",
      "|          39| 5.701819278846736|[39.0,2020.0,5.0,...|\n",
      "|          49|1.0818414917329058|[49.0,2020.0,5.0,...|\n",
      "|          50| 5.701819278846736|[50.0,2020.0,5.0,...|\n",
      "|          38| 5.701819278846736|[38.0,2020.0,5.0,...|\n",
      "|          24| 1.456518807175331|[24.0,2020.0,5.0,...|\n",
      "|          60| 5.567371698934792|[60.0,2020.0,5.0,...|\n",
      "|          56|13.666361981427123|[56.0,2020.0,5.0,...|\n",
      "+------------+------------------+--------------------+\n",
      "only showing top 20 rows\n",
      "\n",
      "==================== 8 ====================\n"
     ]
    },
    {
     "name": "stdout",
     "output_type": "stream",
     "text": [
      "+------------+------------------+--------------------+\n",
      "|CODIGO_CORTO|               P_8|                 F_8|\n",
      "+------------+------------------+--------------------+\n",
      "|          27|25.496060655420255|[27.0,2020.0,5.0,...|\n",
      "|          47|22.064097943230745|[47.0,2020.0,5.0,...|\n",
      "|          16| 20.74687491039172|[16.0,2020.0,5.0,...|\n",
      "|          40|22.064097943230745|[40.0,2020.0,5.0,...|\n",
      "|          57|13.817720794144426|[57.0,2020.0,5.0,...|\n",
      "|          54|27.919845128821052|[54.0,2020.0,5.0,...|\n",
      "|          48|21.571929584602085|[48.0,2020.0,5.0,...|\n",
      "|          17|27.206517742993157|[17.0,2020.0,5.0,...|\n",
      "|          35|23.121331897489995|[35.0,2020.0,5.0,...|\n",
      "|           4| 27.86940514698945|[4.0,2020.0,5.0,2...|\n",
      "|          55| 23.59155619415189|[55.0,2020.0,5.0,...|\n",
      "|          59|10.314890137886747|[59.0,2020.0,5.0,...|\n",
      "|           8|31.033059408926754|[8.0,2020.0,5.0,2...|\n",
      "|          39|27.919845128821052|[39.0,2020.0,5.0,...|\n",
      "|          49|13.500646829111773|[49.0,2020.0,5.0,...|\n",
      "|          50|22.064097943230745|[50.0,2020.0,5.0,...|\n",
      "|          38|23.121331897489995|[38.0,2020.0,5.0,...|\n",
      "|          24|12.349381089842787|[24.0,2020.0,5.0,...|\n",
      "|          60| 20.70479950000315|[60.0,2020.0,5.0,...|\n",
      "|          56| 29.25342186968448|[56.0,2020.0,5.0,...|\n",
      "+------------+------------------+--------------------+\n",
      "only showing top 20 rows\n",
      "\n",
      "==================== 9 ====================\n",
      "+------------+------------------+--------------------+\n",
      "|CODIGO_CORTO|               P_9|                 F_9|\n",
      "+------------+------------------+--------------------+\n",
      "|          47|3.9829362008220794|[47.0,2020.0,5.0,...|\n",
      "|          48|  8.86105803903496|[48.0,2020.0,5.0,...|\n",
      "|           8|  8.86812059602117|[8.0,2020.0,5.0,2...|\n",
      "|          50| 5.495940143509725|[50.0,2020.0,5.0,...|\n",
      "|          38| 8.772968518693206|[38.0,2020.0,5.0,...|\n",
      "|          24|  8.48390312311983|[24.0,2020.0,5.0,...|\n",
      "|          56| 8.613584155830372|[56.0,2020.0,5.0,...|\n",
      "+------------+------------------+--------------------+\n",
      "\n"
     ]
    }
   ],
   "source": [
    "l_predicciones = []\n",
    "for magnitud in magnitudes_aire:\n",
    "    print(\"=\"*20, magnitud, \"=\"*20)\n",
    "    cols_comunes = df_datos.columns[0:8] + magnitudes_clima\n",
    "    cols_features = cols_comunes + [\"A_%s\"%magnitud]\n",
    "\n",
    "    #Limpiamos las filas con el dato para esa magnitud a Null\n",
    "    cols_y_magnitud = cols_features + [magnitud]\n",
    "    df_datos_magnitud_calculados = df_datos.filter(df_datos[\"FECHA\"] <hoy).select(cols_y_magnitud).na.drop()\n",
    "    df_datos_magnitud_hoy = df_datos.filter(df_datos[\"FECHA\"] == hoy).select(cols_y_magnitud).na.drop(subset = \"A_%s\"%magnitud)\n",
    "    #df_datos_magnitud = df_datos_magnitud_calculados.union(df_datos_magnitud_hoy)\n",
    "    \n",
    "    #Assembles to create features column\n",
    "    assembler = VectorAssembler(inputCols = cols_features, outputCol = \"F_%s\" % magnitud)\n",
    "    data_assembled = assembler.transform(df_datos_magnitud_calculados)\n",
    "    data_to_predict_assembled = assembler.transform(df_datos_magnitud_hoy)\n",
    "    \n",
    "    #Seleccionamos las filas que vamos a utilizar\n",
    "    trainingData = data_assembled.select(\"CODIGO_CORTO\",\"F_%s\" %magnitud, magnitud)\n",
    "    data_to_predict = data_to_predict_assembled.select(\"CODIGO_CORTO\",\"F_%s\" %magnitud, magnitud)\n",
    "\n",
    "    # Train a GBT model.\n",
    "    gbt = GBTRegressor(featuresCol=\"F_%s\" % magnitud, labelCol=magnitud,maxIter=20,predictionCol=\"P_%s\" %magnitud)\n",
    "        \n",
    "    # Train model.  This also runs the indexer.\n",
    "    model = gbt.fit(trainingData)\n",
    "    \n",
    "    # Make predictions.\n",
    "    predictions = model.transform(data_to_predict)\n",
    "    \n",
    "    # Select example rows to display\n",
    "    predictions.select(\"CODIGO_CORTO\",\"P_%s\" %magnitud,\"F_%s\" % magnitud).show()\n",
    "    l_predicciones.append(predictions)\n",
    "    "
   ]
  },
  {
   "cell_type": "markdown",
   "metadata": {},
   "source": [
    "### [2.1.0] - Unimos las predicciones por magnitud"
   ]
  },
  {
   "cell_type": "code",
   "execution_count": 25,
   "metadata": {},
   "outputs": [],
   "source": [
    "df_prediccion = l_predicciones[0]"
   ]
  },
  {
   "cell_type": "code",
   "execution_count": 26,
   "metadata": {},
   "outputs": [],
   "source": [
    "for i in range(1,len(l_predicciones)):\n",
    "    df_prediccion = df_prediccion.join(l_predicciones[i],on= \"CODIGO_CORTO\",how='outer')"
   ]
  },
  {
   "cell_type": "code",
   "execution_count": 27,
   "metadata": {
    "scrolled": false
   },
   "outputs": [],
   "source": [
    "pd_prediccion = df_prediccion.toPandas()"
   ]
  },
  {
   "cell_type": "markdown",
   "metadata": {},
   "source": [
    "# [4] - FORMATO"
   ]
  },
  {
   "cell_type": "code",
   "execution_count": 28,
   "metadata": {},
   "outputs": [],
   "source": [
    "cols = pd_prediccion.columns.tolist()"
   ]
  },
  {
   "cell_type": "code",
   "execution_count": 29,
   "metadata": {},
   "outputs": [],
   "source": [
    "regex = reg.compile(\"P_\")\n",
    "cols_predicciones = [elem for elem in list(filter(regex.search,cols))]"
   ]
  },
  {
   "cell_type": "code",
   "execution_count": 30,
   "metadata": {
    "scrolled": true
   },
   "outputs": [],
   "source": [
    "cols = cols[0:1]+cols_predicciones"
   ]
  },
  {
   "cell_type": "code",
   "execution_count": 31,
   "metadata": {},
   "outputs": [],
   "source": [
    "pd_prediccion = pd_prediccion[cols]"
   ]
  },
  {
   "cell_type": "markdown",
   "metadata": {},
   "source": [
    "# [5] - EXPORTAR"
   ]
  },
  {
   "cell_type": "code",
   "execution_count": 32,
   "metadata": {},
   "outputs": [],
   "source": [
    "ayer = (datetime.date.today() + datetime.timedelta(days = -1)).strftime(\"%Y-%m-%d\")\n",
    "hoy = datetime.date.today().strftime(\"%Y-%m-%d\")"
   ]
  },
  {
   "cell_type": "code",
   "execution_count": 33,
   "metadata": {},
   "outputs": [],
   "source": [
    "#Versiones\n",
    "pd_prediccion.to_csv(\"/home/rulicering/Datos_Proyecto_Ozono/Procesado/Predicciones/BackUp/Prediccion-\" + hoy + \".csv\")"
   ]
  },
  {
   "cell_type": "code",
   "execution_count": 35,
   "metadata": {
    "scrolled": true
   },
   "outputs": [
    {
     "name": "stdout",
     "output_type": "stream",
     "text": [
      "[INFO] - Prediccion- 2020-05-22 .csv --- Generated successfully\n"
     ]
    }
   ],
   "source": [
    "pd_prediccion.to_csv(\"/home/rulicering/Datos_Proyecto_Ozono/Procesado/Predicciones/Prediccion-\" + hoy + \".csv\")\n",
    "print(\"[INFO] - Prediccion-\", hoy,\".csv --- Generated successfully\")"
   ]
  },
  {
   "cell_type": "code",
   "execution_count": 37,
   "metadata": {},
   "outputs": [
    {
     "name": "stdout",
     "output_type": "stream",
     "text": [
      "[ERROR] - Prediccion- 2020-05-21 .csv --- Could not been removed\n"
     ]
    }
   ],
   "source": [
    "#Borrar la de ayer\n",
    "try:\n",
    "    os.remove(\"/home/rulicering/Datos_Proyecto_Ozono/Procesado/Predicciones/Prediccion-\" + ayer + \".csv\")\n",
    "    print(\"[INFO] - Prediccion-\", ayer,\".csv --- Removed successfully\")\n",
    "except:\n",
    "    print(\"[ERROR] - Prediccion-\", ayer,\".csv --- Could not been removed\")"
   ]
  }
 ],
 "metadata": {
  "kernelspec": {
   "display_name": "Python 3",
   "language": "python",
   "name": "python3"
  },
  "language_info": {
   "codemirror_mode": {
    "name": "ipython",
    "version": 3
   },
   "file_extension": ".py",
   "mimetype": "text/x-python",
   "name": "python",
   "nbconvert_exporter": "python",
   "pygments_lexer": "ipython3",
   "version": "3.6.9"
  }
 },
 "nbformat": 4,
 "nbformat_minor": 4
}
