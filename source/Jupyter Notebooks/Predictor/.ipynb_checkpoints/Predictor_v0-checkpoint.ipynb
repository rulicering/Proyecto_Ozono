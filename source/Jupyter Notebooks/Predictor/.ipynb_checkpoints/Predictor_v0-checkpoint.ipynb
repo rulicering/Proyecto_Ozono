{
 "cells": [
  {
   "cell_type": "markdown",
   "metadata": {},
   "source": [
    "# [o3]- Proyecto Ozono - Predictor_v0"
   ]
  },
  {
   "cell_type": "markdown",
   "metadata": {},
   "source": [
    "# [0] - Inicialización"
   ]
  },
  {
   "cell_type": "code",
   "execution_count": 1,
   "metadata": {},
   "outputs": [],
   "source": [
    "import findspark\n",
    "findspark.init('/home/rulicering/BigData/spark-2.4.5-bin-hadoop2.7')\n",
    "from pyspark.sql import SparkSession\n",
    "from pyspark.sql import functions as F\n",
    "from pyspark.sql.window import Window\n",
    "import pandas as pd\n",
    "from pyspark.sql.types import StructField,StringType,IntegerType,StructType,FloatType\n",
    "import re as reg\n",
    "import numpy as np\n",
    "import datetime\n",
    "\n",
    "#MlLib\n",
    "from pyspark.ml.regression import LinearRegression\n",
    "\n",
    "#Aux\n",
    "from pyspark.ml.linalg import Vectors\n",
    "from pyspark.ml.feature import VectorAssembler"
   ]
  },
  {
   "cell_type": "code",
   "execution_count": 2,
   "metadata": {},
   "outputs": [],
   "source": [
    "spark = SparkSession.builder.appName('predictor').getOrCreate()"
   ]
  },
  {
   "cell_type": "markdown",
   "metadata": {},
   "source": [
    "# [1] Datos"
   ]
  },
  {
   "cell_type": "markdown",
   "metadata": {},
   "source": [
    "## [1.0] - Carga de ficheros (Datos, Predicción clima,  Calendario)"
   ]
  },
  {
   "cell_type": "code",
   "execution_count": 3,
   "metadata": {
    "scrolled": true
   },
   "outputs": [],
   "source": [
    "df_datos = spark.read.csv('/home/rulicering/Datos_Proyecto_Ozono/Procesado/Dato_Final/Datos.csv',inferSchema= True,header=True)\n",
    "df_clima_prediccion = spark.read.csv('/home/rulicering/Datos_Proyecto_Ozono/Procesado/Clima/Clima_Prediccion-hoy.csv',inferSchema= True,header=True)\n",
    "df_calendario = spark.read.csv('/home/rulicering/Datos_Proyecto_Ozono/Procesado/Calendario/Calendario_2001-2020.csv',inferSchema= True,header=True)"
   ]
  },
  {
   "cell_type": "code",
   "execution_count": 4,
   "metadata": {},
   "outputs": [],
   "source": [
    "df_datos = df_datos.drop(\"_c0\")\n",
    "df_clima_prediccion = df_clima_prediccion.drop(\"_c0\")\n",
    "df_calendario = df_calendario.drop(\"_c0\")"
   ]
  },
  {
   "cell_type": "code",
   "execution_count": 5,
   "metadata": {},
   "outputs": [],
   "source": [
    "magnitudes= df_datos.columns[8:]\n",
    "magnitudes_clima = df_datos.columns[-5:]\n",
    "magnitudes_aire = df_datos.columns[8:-5]"
   ]
  },
  {
   "cell_type": "code",
   "execution_count": 6,
   "metadata": {},
   "outputs": [],
   "source": [
    "dic_clima = { \"VIENTO\":\"81\",\n",
    "                 \"DIRECCION\": \"82\",\n",
    "                 \"TEMPERATURA\": \"83\",\n",
    "                 \"PRESION\": \"87\",\n",
    "                 \"LLUVIA\":\"89\"\n",
    "}"
   ]
  },
  {
   "cell_type": "markdown",
   "metadata": {},
   "source": [
    "## [1.1] - Datos para prediccion - Prediccion clima + Calendario + Estaciones"
   ]
  },
  {
   "cell_type": "code",
   "execution_count": 7,
   "metadata": {
    "scrolled": true
   },
   "outputs": [],
   "source": [
    "ayer = (datetime.date.today() + datetime.timedelta(days = -1)).strftime(\"%Y%m%d\")\n",
    "hoy = datetime.date.today().strftime(\"%Y%m%d\")"
   ]
  },
  {
   "cell_type": "code",
   "execution_count": 8,
   "metadata": {},
   "outputs": [],
   "source": [
    "df_estaciones_aire = df_datos.filter(df_datos[\"FECHA\"]== ayer).select(\"CODIGO_CORTO\")"
   ]
  },
  {
   "cell_type": "code",
   "execution_count": 9,
   "metadata": {},
   "outputs": [],
   "source": [
    "cod_estaciones_aire = [elem[0] for elem in df_estaciones_aire.collect()]"
   ]
  },
  {
   "cell_type": "code",
   "execution_count": 10,
   "metadata": {},
   "outputs": [],
   "source": [
    "cod_estaciones_aire.sort()"
   ]
  },
  {
   "cell_type": "code",
   "execution_count": 11,
   "metadata": {},
   "outputs": [],
   "source": [
    "df_hoy = df_calendario.filter(df_calendario[\"FECHA\"]== hoy)"
   ]
  },
  {
   "cell_type": "code",
   "execution_count": 12,
   "metadata": {},
   "outputs": [],
   "source": [
    "#Calendario + Magnitudes aire a null\n",
    "for magnitud in magnitudes_aire:\n",
    "    df_hoy = df_hoy.withColumn(magnitud,F.lit(None))"
   ]
  },
  {
   "cell_type": "code",
   "execution_count": 13,
   "metadata": {},
   "outputs": [],
   "source": [
    "#Calendario + Prediccion clima\n",
    "df_clima_hoy = df_hoy.join(df_clima_prediccion,on= \"FECHA\")"
   ]
  },
  {
   "cell_type": "code",
   "execution_count": 14,
   "metadata": {
    "scrolled": true
   },
   "outputs": [],
   "source": [
    "#Estaciones cross datos clima y calendario\n",
    "df_datos_hoy = df_estaciones_aire.crossJoin(df_clima_hoy)"
   ]
  },
  {
   "cell_type": "code",
   "execution_count": 15,
   "metadata": {},
   "outputs": [],
   "source": [
    "#df_datos_hoy.columns"
   ]
  },
  {
   "cell_type": "code",
   "execution_count": 16,
   "metadata": {},
   "outputs": [],
   "source": [
    "cols = df_datos_hoy.columns\n",
    "cols = cols[0:1] + cols[19:22]+ cols[1:5]+ cols[5:19] + cols[22:]"
   ]
  },
  {
   "cell_type": "code",
   "execution_count": 17,
   "metadata": {},
   "outputs": [],
   "source": [
    "df_datos_hoy = df_datos_hoy.select(cols)"
   ]
  },
  {
   "cell_type": "markdown",
   "metadata": {},
   "source": [
    "### [1.1.0] - Probabilidad lluvia -> Prediccion lluvia m/l2\n",
    "    Si la probabilidad es > 50%:\n",
    "        se hace la media por estacion del historial de precipitaciones\n",
    "        cogiendo datos de +-10 días al dia de hoy de cada año anterior"
   ]
  },
  {
   "cell_type": "code",
   "execution_count": 18,
   "metadata": {},
   "outputs": [],
   "source": [
    "def probabilidad_a_lluvia_presion_ayer_aire_a_null(df_datos,df_datos_hoy):\n",
    "    mes_dia_min = (datetime.date.today() +  datetime.timedelta(days = -10)).strftime(\"%m%d\")\n",
    "    mes_dia_max = (datetime.date.today() +  datetime.timedelta(days = 10)).strftime(\"%m%d\")\n",
    "    df_historial = df_datos.filter((df_datos[\"FECHA\"]%1000 >= mes_dia_min) & (df_datos[\"FECHA\"]%1000 <= mes_dia_max))\n",
    "    df_datos_hoy = df_datos_hoy.drop('%' + dic_clima[\"LLUVIA\"])\n",
    "    l_df = []\n",
    "    for estacion in cod_estaciones_aire:\n",
    "        df_datos_hoy_estacion = df_datos_hoy.filter(df_datos_hoy[\"CODIGO_CORTO\"]==estacion)\n",
    "        aux = df_historial.filter(df_historial[\"CODIGO_CORTO\"]== estacion).select(\"FECHA\",dic_clima[\"PRESION\"],dic_clima[\"LLUVIA\"]).na.drop()\n",
    "        #Precipitacions\n",
    "        prob_lluvia_hoy = df_clima_prediccion.select(\"%\" +dic_clima[\"LLUVIA\"]).collect()[0][0]\n",
    "        prec = 0\n",
    "        if(float(prob_lluvia_hoy) > 50):\n",
    "            try:\n",
    "                prec = aux.filter(aux[dic_clima[\"LLUVIA\"]] >0).select(dic_clima[\"LLUVIA\"]).groupBy().mean().collect()[0][0]\n",
    "            except:\n",
    "                print(\"[WARN]: No hay lluvias historicas en ese rango de fechas\")\n",
    "        df_datos_hoy_estacion = df_datos_hoy_estacion.withColumn(dic_clima[\"LLUVIA\"],F.lit(prec))\n",
    "            \n",
    "        #Presion\n",
    "        ayer = (datetime.date.today() + datetime.timedelta(days= -1)).strftime(\"%Y%m%d\")\n",
    "        presion_ayer = aux.filter(aux[\"FECHA\"]==ayer).select(dic_clima[\"PRESION\"]).collect()[0][0]\n",
    "        df_datos_hoy_estacion = df_datos_hoy_estacion.withColumn(dic_clima[\"PRESION\"],F.lit(presion_ayer))\n",
    "\n",
    "        l_df.append(df_datos_hoy_estacion)\n",
    "        \n",
    "    df_datos_hoy = l_df[0]\n",
    "    for i in range(1,len(l_df)):\n",
    "        df_datos_hoy = df_datos_hoy.union(l_df[i])\n",
    "    return df_datos_hoy"
   ]
  },
  {
   "cell_type": "code",
   "execution_count": 20,
   "metadata": {
    "scrolled": true
   },
   "outputs": [],
   "source": [
    "df_datos_hoy = probabilidad_a_lluvia_presion_ayer_aire_a_null(df_datos,df_datos_hoy)"
   ]
  },
  {
   "cell_type": "code",
   "execution_count": 21,
   "metadata": {},
   "outputs": [],
   "source": [
    "#df_datos_hoy.toPandas()"
   ]
  },
  {
   "cell_type": "markdown",
   "metadata": {},
   "source": [
    "## [1.2] - Union Datos + Datos hoy"
   ]
  },
  {
   "cell_type": "code",
   "execution_count": 22,
   "metadata": {
    "scrolled": true
   },
   "outputs": [],
   "source": [
    "df_datos_y_hoy= df_datos.union(df_datos_hoy)"
   ]
  },
  {
   "cell_type": "markdown",
   "metadata": {},
   "source": [
    "## [1.3] - Dar cada fila de datos +  contaminacion ayer"
   ]
  },
  {
   "cell_type": "code",
   "execution_count": 23,
   "metadata": {},
   "outputs": [],
   "source": [
    "ventana = Window.partitionBy(\"CODIGO_CORTO\").orderBy(\"FECHA\")"
   ]
  },
  {
   "cell_type": "code",
   "execution_count": 24,
   "metadata": {},
   "outputs": [],
   "source": [
    "for magnitud in magnitudes_aire:\n",
    "    df_datos = df_datos.withColumn(\"A_%s\"%magnitud, F.lag(magnitud,1,None).over(ventana))"
   ]
  },
  {
   "cell_type": "code",
   "execution_count": 25,
   "metadata": {},
   "outputs": [],
   "source": [
    "#df_datos.columns"
   ]
  },
  {
   "cell_type": "markdown",
   "metadata": {},
   "source": [
    "## [1.4] - Tipos\n",
    "    \n",
    "    CODIGO_CORTO -> INTEGER\n",
    "    ANO -> INTEGER\n",
    "    MES -> INTEGER\n",
    "    DIA -> INTEGER\n",
    "    FECHA -> INTEGER\n",
    "    DIASEMANA -> INTEGER\n",
    "    TIPODIA -> INTEGER\n",
    "    CONFINAMIENTO -> INTEGER\n",
    "    MEDICIONES -> DOUBLE"
   ]
  },
  {
   "cell_type": "code",
   "execution_count": 26,
   "metadata": {},
   "outputs": [],
   "source": [
    "#df_datos.dtypes"
   ]
  },
  {
   "cell_type": "markdown",
   "metadata": {},
   "source": [
    "# [2] - PREDICCIONES\n",
    "    \n",
    "    Se hace 1 a 1 para cada magnitud de contaminación\n",
    "    "
   ]
  },
  {
   "cell_type": "code",
   "execution_count": 27,
   "metadata": {},
   "outputs": [],
   "source": [
    "cols_comunes = df_datos.columns[0:8] + magnitudes_clima"
   ]
  },
  {
   "cell_type": "code",
   "execution_count": 29,
   "metadata": {},
   "outputs": [],
   "source": [
    "#cols_comunes"
   ]
  },
  {
   "cell_type": "markdown",
   "metadata": {},
   "source": [
    "## [2.0] - Linear Regression"
   ]
  },
  {
   "cell_type": "code",
   "execution_count": 31,
   "metadata": {
    "scrolled": false
   },
   "outputs": [
    {
     "name": "stdout",
     "output_type": "stream",
     "text": [
      "==================== 1 ====================\n",
      "Root mean Squared Error:  2.7562849865545025\n",
      "R2:  0.8318147841511663\n",
      "==================== 10 ====================\n",
      "Root mean Squared Error:  9.78832098366642\n",
      "R2:  0.5749695870841328\n",
      "==================== 12 ====================\n",
      "Root mean Squared Error:  42.96659534277915\n",
      "R2:  0.7000457190814189\n",
      "==================== 14 ====================\n",
      "Root mean Squared Error:  10.678011273600712\n",
      "R2:  0.7958954593776058\n",
      "==================== 20 ====================\n",
      "Root mean Squared Error:  1.8482424632967258\n",
      "R2:  0.6996518744284562\n",
      "==================== 30 ====================\n",
      "Root mean Squared Error:  0.35194523605305555\n",
      "R2:  0.7513413592767961\n",
      "==================== 35 ====================\n",
      "Root mean Squared Error:  0.40106982400686614\n",
      "R2:  0.7349466327826898\n",
      "==================== 42 ====================\n",
      "Root mean Squared Error:  0.09976814969208\n",
      "R2:  0.6330184762702956\n",
      "==================== 43 ====================\n",
      "Root mean Squared Error:  0.07539938857074854\n",
      "R2:  0.7449251468390379\n",
      "==================== 44 ====================\n",
      "Root mean Squared Error:  0.04402005604227244\n",
      "R2:  0.8800657951328316\n",
      "==================== 6 ====================\n",
      "Root mean Squared Error:  0.13686626853074485\n",
      "R2:  0.767143229908083\n",
      "==================== 7 ====================\n",
      "Root mean Squared Error:  21.82943911485662\n",
      "R2:  0.6870717910585589\n",
      "==================== 8 ====================\n",
      "Root mean Squared Error:  11.45216964891852\n",
      "R2:  0.7372243844738302\n",
      "==================== 9 ====================\n",
      "Root mean Squared Error:  4.011968286360158\n",
      "R2:  0.6240844131702069\n"
     ]
    }
   ],
   "source": [
    "for magnitud in magnitudes_aire:\n",
    "    print(\"=\"*20, magnitud, \"=\"*20)\n",
    "    cols_comunes = df_datos.columns[0:8] + magnitudes_clima\n",
    "    cols_features = cols_comunes + [\"A_%s\"%magnitud]\n",
    "    assembler = VectorAssembler(inputCols = cols_features, outputCol = \"F_%s\" % magnitud)\n",
    "    #Limpiamos las filas con el dato para esa magnitud a Null\n",
    "    cols_y_magnitud = cols_features + [magnitud]\n",
    "    df_datos_magnitud = df_datos.select(cols_y_magnitud).na.drop()\n",
    "    #Mirar a ver que hacemos cuando el clima es null\n",
    "    \n",
    "    output = assembler.transform(df_datos_magnitud)\n",
    "    #output.printSchema()\n",
    "    #Ver cómo funciona\n",
    "    final_data = output.filter(output[\"FECHA\"] < hoy).select(\"F_%s\" %magnitud, magnitud)\n",
    "    training_data,test_data = final_data.randomSplit([0.9,0.1])\n",
    "    \n",
    "    #train_data = output.filter(output[\"FECHA\"] < hoy).select(\"F_%s\" %magnitud, magnitud)\n",
    "    #test_data = output.filter(output[\"FECHA\"] == hoy).select(\"F_%s\" %magnitud, magnitud)\n",
    "    \n",
    "    lr = LinearRegression(featuresCol =\"F_%s\" %magnitud, labelCol = magnitud)\n",
    "    lr_model = lr.fit(training_data)\n",
    "    test_results = lr_model.evaluate(test_data)\n",
    "    #test_results.residuals.show()\n",
    "    print(\"Root mean Squared Error: \",test_results.rootMeanSquaredError)\n",
    "    print(\"R2: \" ,test_results.r2)"
   ]
  },
  {
   "cell_type": "markdown",
   "metadata": {},
   "source": [
    "## [2.1] - GBT"
   ]
  },
  {
   "cell_type": "code",
   "execution_count": 35,
   "metadata": {},
   "outputs": [],
   "source": [
    "from pyspark.ml import Pipeline\n",
    "from pyspark.ml.regression import GBTRegressor\n",
    "from pyspark.ml.feature import VectorIndexer\n",
    "from pyspark.ml.evaluation import RegressionEvaluator"
   ]
  },
  {
   "cell_type": "code",
   "execution_count": 40,
   "metadata": {
    "scrolled": false
   },
   "outputs": [
    {
     "name": "stdout",
     "output_type": "stream",
     "text": [
      "==================== 1 ====================\n",
      "+------------------+----+--------------------+\n",
      "|        prediction|   1|                 F_1|\n",
      "+------------------+----+--------------------+\n",
      "|  8.09823142558676| 6.0|[40.0,2001.0,1.0,...|\n",
      "| 5.997196735618594| 7.0|[40.0,2001.0,1.0,...|\n",
      "| 16.90881655236621|16.0|[40.0,2001.0,1.0,...|\n",
      "| 17.42661617798765|18.0|[40.0,2001.0,1.0,...|\n",
      "|18.057173961229466|19.0|[40.0,2001.0,1.0,...|\n",
      "+------------------+----+--------------------+\n",
      "only showing top 5 rows\n",
      "\n",
      "R2 on test data = 0.856697\n",
      "GBTRegressionModel (uid=GBTRegressor_89619ec469bc) with 20 trees\n",
      "==================== 10 ====================\n",
      "+------------------+----+--------------------+\n",
      "|        prediction|  10|                F_10|\n",
      "+------------------+----+--------------------+\n",
      "|14.160286276612878|18.0|[47.0,2009.0,12.0...|\n",
      "| 17.44686802301845|23.0|[47.0,2009.0,12.0...|\n",
      "|11.254557636807066| 7.0|[47.0,2009.0,12.0...|\n",
      "| 8.627652173751473|11.0|[47.0,2010.0,1.0,...|\n",
      "|14.681367230449732|20.0|[47.0,2010.0,1.0,...|\n",
      "+------------------+----+--------------------+\n",
      "only showing top 5 rows\n",
      "\n",
      "R2 on test data = 0.665225\n",
      "GBTRegressionModel (uid=GBTRegressor_2b9c8a130ced) with 20 trees\n",
      "==================== 12 ====================\n",
      "+------------------+-----+--------------------+\n",
      "|        prediction|   12|                F_12|\n",
      "+------------------+-----+--------------------+\n",
      "|  66.1068072183625| 40.0|[27.0,2003.0,1.0,...|\n",
      "| 214.8733451399521|247.0|[27.0,2003.0,1.0,...|\n",
      "|128.92772557600645| 52.0|[27.0,2003.0,1.0,...|\n",
      "| 60.69040611917255| 68.0|[27.0,2003.0,1.0,...|\n",
      "|103.35131087718395|216.0|[27.0,2003.0,1.0,...|\n",
      "+------------------+-----+--------------------+\n",
      "only showing top 5 rows\n",
      "\n",
      "R2 on test data = 0.754075\n",
      "GBTRegressionModel (uid=GBTRegressor_d6633cf78b68) with 20 trees\n",
      "==================== 14 ====================\n",
      "+------------------+----+--------------------+\n",
      "|        prediction|  14|                F_14|\n",
      "+------------------+----+--------------------+\n",
      "| 36.08642027018243|18.0|[27.0,2009.0,12.0...|\n",
      "| 38.22484536013332|25.0|[27.0,2010.0,1.0,...|\n",
      "|39.590891875039055|28.0|[27.0,2010.0,1.0,...|\n",
      "| 37.95883075944953|26.0|[27.0,2010.0,1.0,...|\n",
      "| 7.740081156711698| 4.0|[27.0,2010.0,1.0,...|\n",
      "+------------------+----+--------------------+\n",
      "only showing top 5 rows\n",
      "\n",
      "R2 on test data = 0.820515\n",
      "GBTRegressionModel (uid=GBTRegressor_0fd84a8f9a43) with 20 trees\n",
      "==================== 20 ====================\n",
      "+-------------------+---+--------------------+\n",
      "|         prediction| 20|                F_20|\n",
      "+-------------------+---+--------------------+\n",
      "| 2.0117157111699604|0.6|[55.0,2010.0,1.0,...|\n",
      "| 1.4207958242254888|0.3|[55.0,2010.0,1.0,...|\n",
      "|0.45522005442910124|0.9|[55.0,2010.0,1.0,...|\n",
      "| 1.2196440484122095|2.9|[55.0,2010.0,1.0,...|\n",
      "| 0.5355756590762681|0.4|[55.0,2010.0,1.0,...|\n",
      "+-------------------+---+--------------------+\n",
      "only showing top 5 rows\n",
      "\n",
      "R2 on test data = 0.725509\n",
      "GBTRegressionModel (uid=GBTRegressor_c920c5964b8f) with 20 trees\n",
      "==================== 30 ====================\n",
      "+-------------------+---+--------------------+\n",
      "|         prediction| 30|                F_30|\n",
      "+-------------------+---+--------------------+\n",
      "| 0.5831023407197092|0.6|[55.0,2010.0,1.0,...|\n",
      "| 0.2765985390844893|0.2|[55.0,2010.0,1.0,...|\n",
      "| 0.6311696100563641|0.5|[55.0,2010.0,2.0,...|\n",
      "|0.33920065951728773|0.4|[55.0,2010.0,2.0,...|\n",
      "| 0.3617592521297252|0.6|[55.0,2010.0,2.0,...|\n",
      "+-------------------+---+--------------------+\n",
      "only showing top 5 rows\n",
      "\n",
      "R2 on test data = 0.804697\n",
      "GBTRegressionModel (uid=GBTRegressor_370128b4554b) with 20 trees\n",
      "==================== 35 ====================\n",
      "+------------------+---+--------------------+\n",
      "|        prediction| 35|                F_35|\n",
      "+------------------+---+--------------------+\n",
      "| 1.014673396078335|0.8|[55.0,2010.0,1.0,...|\n",
      "|0.8958753968240448|0.5|[55.0,2010.0,1.0,...|\n",
      "| 0.705308329125592|0.4|[55.0,2010.0,1.0,...|\n",
      "|0.7024980400508591|0.5|[55.0,2010.0,1.0,...|\n",
      "|0.8551219903822466|0.6|[55.0,2010.0,2.0,...|\n",
      "+------------------+---+--------------------+\n",
      "only showing top 5 rows\n",
      "\n",
      "R2 on test data = 0.76471\n",
      "GBTRegressionModel (uid=GBTRegressor_7eeb4286f786) with 20 trees\n",
      "==================== 42 ====================\n",
      "+------------------+----+--------------------+\n",
      "|        prediction|  42|                F_42|\n",
      "+------------------+----+--------------------+\n",
      "|1.2682016888078693|1.25|[27.0,2003.0,1.0,...|\n",
      "|1.3349661744389725|1.64|[27.0,2003.0,1.0,...|\n",
      "|1.3080254498495216|1.37|[27.0,2003.0,1.0,...|\n",
      "|  1.35828234185627|1.35|[27.0,2003.0,1.0,...|\n",
      "| 1.570106254070999|1.58|[27.0,2003.0,1.0,...|\n",
      "+------------------+----+--------------------+\n",
      "only showing top 5 rows\n",
      "\n",
      "R2 on test data = 0.703729\n",
      "GBTRegressionModel (uid=GBTRegressor_9b183748f809) with 20 trees\n",
      "==================== 43 ====================\n",
      "+------------------+----+--------------------+\n",
      "|        prediction|  43|                F_43|\n",
      "+------------------+----+--------------------+\n",
      "|1.2021330366949599|1.18|[27.0,2003.0,1.0,...|\n",
      "|1.2347039134450077| 1.2|[27.0,2003.0,1.0,...|\n",
      "| 1.209270003878441|1.21|[27.0,2003.0,1.0,...|\n",
      "|1.1852145969230057|1.16|[27.0,2003.0,1.0,...|\n",
      "|1.2104525285072498|1.17|[27.0,2003.0,1.0,...|\n",
      "+------------------+----+--------------------+\n",
      "only showing top 5 rows\n",
      "\n",
      "R2 on test data = 0.753514\n",
      "GBTRegressionModel (uid=GBTRegressor_223ff0d91030) with 20 trees\n",
      "==================== 44 ====================\n",
      "+-------------------+----+--------------------+\n",
      "|         prediction|  44|                F_44|\n",
      "+-------------------+----+--------------------+\n",
      "| 0.0823791372989583|0.08|[27.0,2003.0,1.0,...|\n",
      "|0.07869480999516831|0.13|[27.0,2003.0,1.0,...|\n",
      "|0.08519259583395575|0.14|[27.0,2003.0,1.0,...|\n",
      "|0.19738165984332903|0.22|[27.0,2003.0,1.0,...|\n",
      "|0.12544701586369295|0.09|[27.0,2003.0,1.0,...|\n",
      "+-------------------+----+--------------------+\n",
      "only showing top 5 rows\n",
      "\n",
      "R2 on test data = 0.845179\n",
      "GBTRegressionModel (uid=GBTRegressor_8c3a0712cedf) with 20 trees\n",
      "==================== 6 ====================\n",
      "+------------------+---+--------------------+\n",
      "|        prediction|  6|                 F_6|\n",
      "+------------------+---+--------------------+\n",
      "|0.5954188505737685|0.6|[16.0,2001.0,1.0,...|\n",
      "|0.6250846103245197|0.7|[16.0,2001.0,1.0,...|\n",
      "|0.7698686237084909|0.8|[16.0,2001.0,1.0,...|\n",
      "|0.8767706349210169|1.0|[16.0,2001.0,1.0,...|\n",
      "|0.8355187283594973|0.7|[16.0,2001.0,1.0,...|\n",
      "+------------------+---+--------------------+\n",
      "only showing top 5 rows\n",
      "\n",
      "R2 on test data = 0.795802\n",
      "GBTRegressionModel (uid=GBTRegressor_6c6326b2a79b) with 20 trees\n",
      "==================== 7 ====================\n",
      "+------------------+----+--------------------+\n",
      "|        prediction|   7|                 F_7|\n",
      "+------------------+----+--------------------+\n",
      "| 9.077824885438549|14.0|[27.0,2003.0,1.0,...|\n",
      "|19.101558902808602| 9.0|[27.0,2003.0,1.0,...|\n",
      "| 9.141745841293051|43.0|[27.0,2003.0,1.0,...|\n",
      "| 17.62354696974456| 8.0|[27.0,2003.0,1.0,...|\n",
      "| 41.40312921537271|51.0|[27.0,2003.0,1.0,...|\n",
      "+------------------+----+--------------------+\n",
      "only showing top 5 rows\n",
      "\n",
      "R2 on test data = 0.751398\n",
      "GBTRegressionModel (uid=GBTRegressor_853b75ed9473) with 20 trees\n",
      "==================== 8 ====================\n",
      "+-----------------+----+--------------------+\n",
      "|       prediction|   8|                 F_8|\n",
      "+-----------------+----+--------------------+\n",
      "| 24.5354049803482|62.0|[27.0,2003.0,1.0,...|\n",
      "|88.80309842945744|89.0|[27.0,2003.0,1.0,...|\n",
      "|42.91678018674491|32.0|[27.0,2003.0,1.0,...|\n",
      "|45.48291635687649|35.0|[27.0,2003.0,1.0,...|\n",
      "|36.14614371234718|34.0|[27.0,2003.0,1.0,...|\n",
      "+-----------------+----+--------------------+\n",
      "only showing top 5 rows\n",
      "\n",
      "R2 on test data = 0.760033\n",
      "GBTRegressionModel (uid=GBTRegressor_83342abdebf7) with 20 trees\n",
      "==================== 9 ====================\n",
      "+-----------------+----+--------------------+\n",
      "|       prediction|   9|                 F_9|\n",
      "+-----------------+----+--------------------+\n",
      "|8.292213207155742| 6.0|[47.0,2009.0,12.0...|\n",
      "|7.046890514926589| 6.0|[47.0,2009.0,12.0...|\n",
      "|7.932664933250424|10.0|[47.0,2009.0,12.0...|\n",
      "|7.228553910589677| 5.0|[47.0,2009.0,12.0...|\n",
      "|5.158119944600733| 8.0|[47.0,2010.0,1.0,...|\n",
      "+-----------------+----+--------------------+\n",
      "only showing top 5 rows\n",
      "\n",
      "R2 on test data = 0.633265\n",
      "GBTRegressionModel (uid=GBTRegressor_1e7d9a2e2947) with 20 trees\n"
     ]
    }
   ],
   "source": [
    "for magnitud in magnitudes_aire:\n",
    "    print(\"=\"*20, magnitud, \"=\"*20)\n",
    "    cols_comunes = df_datos.columns[0:8] + magnitudes_clima\n",
    "    cols_features = cols_comunes + [\"A_%s\"%magnitud]\n",
    "    \n",
    "    #Limpiamos las filas con el dato para esa magnitud a Null\n",
    "    cols_y_magnitud = cols_features + [magnitud]\n",
    "    df_datos_magnitud = df_datos.select(cols_y_magnitud).na.drop()\n",
    "      \n",
    "    #Assembles to create features column\n",
    "    assembler = VectorAssembler(inputCols = cols_features, outputCol = \"F_%s\" % magnitud)\n",
    "    data_assembled = assembler.transform(df_datos_magnitud)\n",
    "    \n",
    "    #Seleccionamos las filas que vamos a utilizar\n",
    "    data = data_assembled.filter(data_assembled[\"FECHA\"] < hoy).select(\"F_%s\" %magnitud, magnitud)\n",
    "    \n",
    "    #Creamos el indexer\n",
    "    featureIndexer = VectorIndexer(inputCol=\"F_%s\" % magnitud, outputCol=\"indexedFeatures\", maxCategories=4).fit(data)\n",
    "    #Partimos el dato\n",
    "    (trainingData,testData) = data.randomSplit([0.7,0.3])\n",
    "    # Train a GBT model.\n",
    "    gbt = GBTRegressor(featuresCol=\"indexedFeatures\", labelCol=magnitud,maxIter=20)\n",
    "    \n",
    "    #Pipeline\n",
    "    pipeline = Pipeline(stages=[featureIndexer, gbt])\n",
    "    \n",
    "    # Train model.  This also runs the indexer.\n",
    "    model = pipeline.fit(trainingData)\n",
    "    \n",
    "    # Make predictions.\n",
    "    predictions = model.transform(testData)\n",
    "    \n",
    "    # Select example rows to display\n",
    "    predictions.select(\"prediction\", magnitud , \"F_%s\" % magnitud).show(5)\n",
    "    \n",
    "    # Select (prediction, true label) and compute test error\n",
    "    evaluator = RegressionEvaluator(\n",
    "        labelCol=magnitud, predictionCol=\"prediction\", metricName=\"r2\")\n",
    "    r2 = evaluator.evaluate(predictions)\n",
    "    print(\"R2 on test data = %g\" % r2)\n",
    "    \n",
    "    gbtModel = model.stages[1]\n",
    "    print(gbtModel) "
   ]
  },
  {
   "cell_type": "markdown",
   "metadata": {},
   "source": [
    "# [4] - FORMATO"
   ]
  },
  {
   "cell_type": "code",
   "execution_count": null,
   "metadata": {},
   "outputs": [],
   "source": [
    "#Borramos las columnas utilizadas para relacionar estaciones de aire y clima\n",
    "a_borrar = c_grupo_14 + c_estacionxmagnitud_19"
   ]
  },
  {
   "cell_type": "code",
   "execution_count": null,
   "metadata": {
    "scrolled": false
   },
   "outputs": [],
   "source": [
    "pd_final = pd_datos_y_calendario.drop(columns = a_borrar)"
   ]
  },
  {
   "cell_type": "markdown",
   "metadata": {},
   "source": [
    "# [5] - EXPORTAR"
   ]
  },
  {
   "cell_type": "code",
   "execution_count": null,
   "metadata": {},
   "outputs": [],
   "source": [
    "#Versiones\n",
    "hoy = datetime.date.today().strftime(\"%Y-%m-%d\")\n",
    "pd_final.to_csv(\"/home/rulicering/Datos_Proyecto_Ozono/Procesado/Dato_Final/Datos_2014-NOW-\" + hoy + \".csv\")"
   ]
  },
  {
   "cell_type": "code",
   "execution_count": null,
   "metadata": {},
   "outputs": [],
   "source": [
    "pd_final.to_csv(\"/home/rulicering/Datos_Proyecto_Ozono/Procesado/Dato_Final/Datos_2014-NOW.csv\")"
   ]
  },
  {
   "cell_type": "markdown",
   "metadata": {},
   "source": [
    "# [EXTRA] - CHECKEO"
   ]
  },
  {
   "cell_type": "code",
   "execution_count": null,
   "metadata": {},
   "outputs": [],
   "source": [
    "#pd_chequeo = pd_datos[['CODIGO_CORTO', 'FECHA','E_AEMET','E_81', 'E_82', 'E_83', 'E_87', 'E_89', '81', '82', '83', '87', '89']]"
   ]
  },
  {
   "cell_type": "code",
   "execution_count": null,
   "metadata": {},
   "outputs": [],
   "source": [
    "#2014-2018\n",
    "#pd_chequeo[(pd_datos[\"FECHA\"]==20140101)].sort_values(by=\"E_AEMET\")\n",
    "#pd_clima[pd_clima[\"FECHA\"]==20140101]\n",
    "\n",
    "#2019-NOW\n",
    "#pd_chequeo[(pd_datos[\"FECHA\"]==20190101)]\n",
    "#pd_clima[pd_clima[\"FECHA\"]==20190101]"
   ]
  }
 ],
 "metadata": {
  "kernelspec": {
   "display_name": "Python 3",
   "language": "python",
   "name": "python3"
  },
  "language_info": {
   "codemirror_mode": {
    "name": "ipython",
    "version": 3
   },
   "file_extension": ".py",
   "mimetype": "text/x-python",
   "name": "python",
   "nbconvert_exporter": "python",
   "pygments_lexer": "ipython3",
   "version": "3.6.9"
  }
 },
 "nbformat": 4,
 "nbformat_minor": 4
}
