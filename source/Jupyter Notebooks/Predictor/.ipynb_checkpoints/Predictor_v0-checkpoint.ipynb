{
 "cells": [
  {
   "cell_type": "markdown",
   "metadata": {},
   "source": [
    "# [o3]- Proyecto Ozono - Predictor_v0"
   ]
  },
  {
   "cell_type": "markdown",
   "metadata": {},
   "source": [
    "# [0] - Inicialización"
   ]
  },
  {
   "cell_type": "code",
   "execution_count": 1,
   "metadata": {},
   "outputs": [],
   "source": [
    "import findspark\n",
    "findspark.init('/home/rulicering/BigData/spark-2.4.5-bin-hadoop2.7')\n",
    "from pyspark.sql import SparkSession\n",
    "from pyspark.sql import functions as F\n",
    "from pyspark.sql.window import Window\n",
    "import pandas as pd\n",
    "from pyspark.sql.types import StructField,StringType,IntegerType,StructType,FloatType\n",
    "import re as reg\n",
    "import numpy as np\n",
    "import datetime\n",
    "\n",
    "#MlLib\n",
    "from pyspark.ml.regression import LinearRegression\n",
    "\n",
    "#Aux\n",
    "from pyspark.ml.linalg import Vectors\n",
    "from pyspark.ml.feature import VectorAssembler"
   ]
  },
  {
   "cell_type": "code",
   "execution_count": 2,
   "metadata": {},
   "outputs": [],
   "source": [
    "spark = SparkSession.builder.appName('predictor').getOrCreate()"
   ]
  },
  {
   "cell_type": "markdown",
   "metadata": {},
   "source": [
    "# [1] Datos"
   ]
  },
  {
   "cell_type": "markdown",
   "metadata": {},
   "source": [
    "## [1.0] - Carga de ficheros (Datos, Predicción clima,  Calendario)"
   ]
  },
  {
   "cell_type": "code",
   "execution_count": 3,
   "metadata": {
    "scrolled": true
   },
   "outputs": [],
   "source": [
    "df_datos = spark.read.csv('/home/rulicering/Datos_Proyecto_Ozono/Procesado/Dato_Final/Datos.csv',inferSchema= True,header=True)\n",
    "df_clima_prediccion = spark.read.csv('/home/rulicering/Datos_Proyecto_Ozono/Procesado/Clima/Clima_Prediccion-hoy.csv',inferSchema= True,header=True)\n",
    "df_calendario = spark.read.csv('/home/rulicering/Datos_Proyecto_Ozono/Procesado/Calendario/Calendario_2013-2020.csv',inferSchema= True,header=True)"
   ]
  },
  {
   "cell_type": "code",
   "execution_count": 4,
   "metadata": {},
   "outputs": [],
   "source": [
    "df_datos = df_datos.drop(\"_c0\")\n",
    "df_clima_prediccion = df_clima_prediccion.drop(\"_c0\")\n",
    "df_calendario = df_calendario.drop(\"_c0\")"
   ]
  },
  {
   "cell_type": "code",
   "execution_count": 5,
   "metadata": {},
   "outputs": [],
   "source": [
    "magnitudes= df_datos.columns[8:]\n",
    "magnitudes_clima = df_datos.columns[-5:]\n",
    "magnitudes_aire = df_datos.columns[8:-5]"
   ]
  },
  {
   "cell_type": "code",
   "execution_count": 6,
   "metadata": {},
   "outputs": [],
   "source": [
    "dic_clima = { \"VIENTO\":\"81\",\n",
    "                 \"DIRECCION\": \"82\",\n",
    "                 \"TEMPERATURA\": \"83\",\n",
    "                 \"PRESION\": \"87\",\n",
    "                 \"LLUVIA\":\"89\"\n",
    "}"
   ]
  },
  {
   "cell_type": "markdown",
   "metadata": {},
   "source": [
    "## [1.1] - Datos para prediccion - Prediccion clima + Calendario + Estaciones"
   ]
  },
  {
   "cell_type": "code",
   "execution_count": 7,
   "metadata": {
    "scrolled": true
   },
   "outputs": [],
   "source": [
    "ayer = (datetime.date.today() + datetime.timedelta(days = -1)).strftime(\"%Y%m%d\")\n",
    "hoy = datetime.date.today().strftime(\"%Y%m%d\")"
   ]
  },
  {
   "cell_type": "code",
   "execution_count": 8,
   "metadata": {},
   "outputs": [],
   "source": [
    "df_estaciones_aire = df_datos.filter(df_datos[\"FECHA\"]== ayer).select(\"CODIGO_CORTO\")"
   ]
  },
  {
   "cell_type": "code",
   "execution_count": 9,
   "metadata": {},
   "outputs": [],
   "source": [
    "cod_estaciones_aire = [elem[0] for elem in df_estaciones_aire.collect()]"
   ]
  },
  {
   "cell_type": "code",
   "execution_count": 10,
   "metadata": {},
   "outputs": [],
   "source": [
    "cod_estaciones_aire.sort()"
   ]
  },
  {
   "cell_type": "code",
   "execution_count": 11,
   "metadata": {},
   "outputs": [],
   "source": [
    "df_hoy = df_calendario.filter(df_calendario[\"FECHA\"]== hoy)"
   ]
  },
  {
   "cell_type": "code",
   "execution_count": 12,
   "metadata": {},
   "outputs": [],
   "source": [
    "#Calendario + Magnitudes aire a null\n",
    "for magnitud in magnitudes_aire:\n",
    "    df_hoy = df_hoy.withColumn(magnitud,F.lit(None))"
   ]
  },
  {
   "cell_type": "code",
   "execution_count": 13,
   "metadata": {},
   "outputs": [],
   "source": [
    "#Calendario + Prediccion clima\n",
    "df_clima_hoy = df_hoy.join(df_clima_prediccion,on= \"FECHA\")"
   ]
  },
  {
   "cell_type": "code",
   "execution_count": 14,
   "metadata": {
    "scrolled": true
   },
   "outputs": [],
   "source": [
    "#Estaciones cross datos clima y calendario\n",
    "df_datos_hoy = df_estaciones_aire.crossJoin(df_clima_hoy)"
   ]
  },
  {
   "cell_type": "code",
   "execution_count": 15,
   "metadata": {},
   "outputs": [],
   "source": [
    "#df_datos_hoy.columns"
   ]
  },
  {
   "cell_type": "code",
   "execution_count": 16,
   "metadata": {},
   "outputs": [],
   "source": [
    "cols = df_datos_hoy.columns\n",
    "cols = cols[0:1] + cols[19:22]+ cols[1:5]+ cols[5:19] + cols[22:]"
   ]
  },
  {
   "cell_type": "code",
   "execution_count": 17,
   "metadata": {},
   "outputs": [],
   "source": [
    "df_datos_hoy = df_datos_hoy.select(cols)"
   ]
  },
  {
   "cell_type": "markdown",
   "metadata": {},
   "source": [
    "### [1.1.0] - Probabilidad lluvia -> Prediccion lluvia m/l2\n",
    "    Si la probabilidad es > 50%:\n",
    "        se hace la media por estacion del historial de precipitaciones\n",
    "        cogiendo datos de +-10 días al dia de hoy de cada año anterior"
   ]
  },
  {
   "cell_type": "code",
   "execution_count": 18,
   "metadata": {},
   "outputs": [],
   "source": [
    "def probabilidad_a_lluvia_presion_ayer_aire_a_null(df_datos,df_datos_hoy):\n",
    "    mes_dia_min = (datetime.date.today() +  datetime.timedelta(days = -10)).strftime(\"%m%d\")\n",
    "    mes_dia_max = (datetime.date.today() +  datetime.timedelta(days = 10)).strftime(\"%m%d\")\n",
    "    df_historial = df_datos.filter((df_datos[\"FECHA\"]%1000 >= mes_dia_min) & (df_datos[\"FECHA\"]%1000 <= mes_dia_max))\n",
    "    df_datos_hoy = df_datos_hoy.drop('%' + dic_clima[\"LLUVIA\"])\n",
    "    l_df = []\n",
    "    for estacion in cod_estaciones_aire:\n",
    "        df_datos_hoy_estacion = df_datos_hoy.filter(df_datos_hoy[\"CODIGO_CORTO\"]==estacion)\n",
    "        aux = df_historial.filter(df_historial[\"CODIGO_CORTO\"]== estacion).select(\"FECHA\",dic_clima[\"PRESION\"],dic_clima[\"LLUVIA\"]).na.drop()\n",
    "        #Precipitacions\n",
    "        prob_lluvia_hoy = df_clima_prediccion.select(\"%\" +dic_clima[\"LLUVIA\"]).collect()[0][0]\n",
    "        prec = 0\n",
    "        if(float(prob_lluvia_hoy) > 50):\n",
    "            try:\n",
    "                prec = aux.select(dic_clima[\"LLUVIA\"]).groupBy().mean().collect()[0][0]\n",
    "            except:\n",
    "                print(\"[WARN]: No hay lluvias historicas en ese rango de fechas\")\n",
    "        df_datos_hoy_estacion = df_datos_hoy_estacion.withColumn(dic_clima[\"LLUVIA\"],F.lit(prec))\n",
    "            \n",
    "        #Presion\n",
    "        ayer = (datetime.date.today() + datetime.timedelta(days= -1)).strftime(\"%Y%m%d\")\n",
    "        presion_ayer = aux.filter(aux[\"FECHA\"]==ayer).select(dic_clima[\"PRESION\"]).collect()[0][0]\n",
    "        df_datos_hoy_estacion = df_datos_hoy_estacion.withColumn(dic_clima[\"PRESION\"],F.lit(presion_ayer))\n",
    "\n",
    "        l_df.append(df_datos_hoy_estacion)\n",
    "        \n",
    "    df_datos_hoy = l_df[0]\n",
    "    for i in range(1,len(l_df)):\n",
    "        df_datos_hoy = df_datos_hoy.union(l_df[i])\n",
    "    return df_datos_hoy"
   ]
  },
  {
   "cell_type": "code",
   "execution_count": 19,
   "metadata": {
    "scrolled": false
   },
   "outputs": [],
   "source": [
    "df_datos_hoy = probabilidad_a_lluvia_presion_ayer_aire_a_null(df_datos,df_datos_hoy)"
   ]
  },
  {
   "cell_type": "code",
   "execution_count": 20,
   "metadata": {},
   "outputs": [],
   "source": [
    "#df_datos_hoy.toPandas()"
   ]
  },
  {
   "cell_type": "markdown",
   "metadata": {},
   "source": [
    "## [1.2] - Union Datos + Datos hoy"
   ]
  },
  {
   "cell_type": "code",
   "execution_count": 21,
   "metadata": {
    "scrolled": true
   },
   "outputs": [],
   "source": [
    "df_datos_y_hoy= df_datos.union(df_datos_hoy)"
   ]
  },
  {
   "cell_type": "markdown",
   "metadata": {},
   "source": [
    "## [1.3] - Dar cada fila de datos +  contaminacion ayer"
   ]
  },
  {
   "cell_type": "code",
   "execution_count": 22,
   "metadata": {},
   "outputs": [],
   "source": [
    "ventana = Window.partitionBy(\"CODIGO_CORTO\").orderBy(\"FECHA\")"
   ]
  },
  {
   "cell_type": "code",
   "execution_count": 23,
   "metadata": {},
   "outputs": [],
   "source": [
    "for magnitud in magnitudes_aire:\n",
    "    df_datos = df_datos.withColumn(\"A_%s\"%magnitud, F.lag(magnitud,1,None).over(ventana))"
   ]
  },
  {
   "cell_type": "code",
   "execution_count": 24,
   "metadata": {},
   "outputs": [],
   "source": [
    "#df_datos.columns"
   ]
  },
  {
   "cell_type": "markdown",
   "metadata": {},
   "source": [
    "## [1.4] - Tipos\n",
    "    \n",
    "    CODIGO_CORTO -> INTEGER\n",
    "    ANO -> INTEGER\n",
    "    MES -> INTEGER\n",
    "    DIA -> INTEGER\n",
    "    FECHA -> INTEGER\n",
    "    DIASEMANA -> INTEGER\n",
    "    TIPODIA -> INTEGER\n",
    "    CONFINAMIENTO -> INTEGER\n",
    "    MEDICIONES -> DOUBLE"
   ]
  },
  {
   "cell_type": "code",
   "execution_count": 25,
   "metadata": {},
   "outputs": [],
   "source": [
    "#df_datos.dtypes"
   ]
  },
  {
   "cell_type": "markdown",
   "metadata": {},
   "source": [
    "# [2] - PREDICCIONES\n",
    "    \n",
    "    Se hace 1 a 1 para cada magnitud de contaminación\n",
    "    "
   ]
  },
  {
   "cell_type": "code",
   "execution_count": 26,
   "metadata": {},
   "outputs": [],
   "source": [
    "cols_comunes = df_datos.columns[0:8] + magnitudes_clima"
   ]
  },
  {
   "cell_type": "code",
   "execution_count": 27,
   "metadata": {},
   "outputs": [],
   "source": [
    "#cols_comunes"
   ]
  },
  {
   "cell_type": "code",
   "execution_count": 28,
   "metadata": {
    "scrolled": false
   },
   "outputs": [
    {
     "name": "stdout",
     "output_type": "stream",
     "text": [
      "==================== 1 ====================\n",
      "+--------------------+\n",
      "|           residuals|\n",
      "+--------------------+\n",
      "|  0.2757921656895377|\n",
      "| -0.3350083417171845|\n",
      "|  0.1779640555160853|\n",
      "| -1.5907046177846382|\n",
      "| -0.6720295710415058|\n",
      "| -0.6666750766838447|\n",
      "|  -2.883939816491278|\n",
      "| -0.2010168896587885|\n",
      "|  0.2067055643637019|\n",
      "|-0.42405636133740643|\n",
      "|  -2.206508806477231|\n",
      "|  0.1963908252138964|\n",
      "| -0.4363214365737633|\n",
      "|-0.19198383761165871|\n",
      "| -3.3247092441252164|\n",
      "| -0.3132496845775563|\n",
      "| -1.2075995381738096|\n",
      "| 0.35043379359673565|\n",
      "|  0.4437029938820132|\n",
      "| -0.3683697800409078|\n",
      "+--------------------+\n",
      "only showing top 20 rows\n",
      "\n",
      "2.0370151463497086\n",
      "0.7815243356774736\n",
      "==================== 6 ====================\n",
      "+--------------------+\n",
      "|           residuals|\n",
      "+--------------------+\n",
      "|0.014450772986518534|\n",
      "|-0.12330141603479905|\n",
      "| 0.09454570371067639|\n",
      "|-0.07060714395424295|\n",
      "|-0.03800794426738319|\n",
      "|-0.01421825957839...|\n",
      "|0.005462802852709836|\n",
      "|-0.06314966373599767|\n",
      "|-0.04921094240845...|\n",
      "| 0.14178592495927012|\n",
      "| 0.11898748252226732|\n",
      "|3.412156229981589E-5|\n",
      "|-1.06233531486088...|\n",
      "|0.002080245061555963|\n",
      "|-0.03485554455181755|\n",
      "|-0.03467817442460702|\n",
      "|-0.03513915593660...|\n",
      "|-0.03802211930000016|\n",
      "|-0.08986024383229879|\n",
      "|0.017156860182955147|\n",
      "+--------------------+\n",
      "only showing top 20 rows\n",
      "\n",
      "0.09827494989508179\n",
      "0.7445582297913124\n",
      "==================== 7 ====================\n",
      "+-------------------+\n",
      "|          residuals|\n",
      "+-------------------+\n",
      "|  6.778947624061175|\n",
      "|-2.4565505542004757|\n",
      "| 13.822155620120157|\n",
      "| 0.8659408118351166|\n",
      "|-29.410830012652696|\n",
      "|  3.873471520800422|\n",
      "|  9.979233293277048|\n",
      "| -5.329573910629733|\n",
      "| -2.906897064716304|\n",
      "| -6.852709355158822|\n",
      "| -9.758869921118958|\n",
      "|-0.0718486391699571|\n",
      "|-1.7376239343539055|\n",
      "| -5.204891530743453|\n",
      "| -4.111359217139579|\n",
      "| -7.834289543825662|\n",
      "|-10.595110662071875|\n",
      "| 2.0249800832882556|\n",
      "| -7.656614918015521|\n",
      "| 4.5963325049413015|\n",
      "+-------------------+\n",
      "only showing top 20 rows\n",
      "\n",
      "17.703470475503327\n",
      "0.7024807267384522\n",
      "==================== 8 ====================\n",
      "+-------------------+\n",
      "|          residuals|\n",
      "+-------------------+\n",
      "| -0.648282285392952|\n",
      "|  6.235761042905665|\n",
      "| -19.42601572327544|\n",
      "|  5.450767275653163|\n",
      "|-14.465044600930412|\n",
      "| -3.288283190078971|\n",
      "| 1.1660951346584625|\n",
      "| 14.141859508360653|\n",
      "| 14.729701510538689|\n",
      "|-18.162729208187216|\n",
      "|-15.561399994023475|\n",
      "|-10.809874670298939|\n",
      "| -6.666526036435016|\n",
      "|-12.288404847374977|\n",
      "|-11.443744574904656|\n",
      "|   7.49006999369891|\n",
      "|   9.50572146948889|\n",
      "|  7.137855056999683|\n",
      "|-11.195595843787999|\n",
      "| -2.191875480236604|\n",
      "+-------------------+\n",
      "only showing top 20 rows\n",
      "\n",
      "10.487004882692148\n",
      "0.7324375119973321\n",
      "==================== 9 ====================\n",
      "+--------------------+\n",
      "|           residuals|\n",
      "+--------------------+\n",
      "|   2.576376960321028|\n",
      "| -0.6010787427040043|\n",
      "|   5.871877313426637|\n",
      "| -11.191094507175166|\n",
      "| -1.8708356186994877|\n",
      "|    0.54419822943089|\n",
      "|  -2.011715626724367|\n",
      "|  -3.146227861318124|\n",
      "|  2.1377826673443394|\n",
      "|  0.5646419902121238|\n",
      "|  1.1653366454765148|\n",
      "|   2.622355059798309|\n",
      "| -1.2578282065907445|\n",
      "| -1.0091461325557987|\n",
      "|  0.9228221533379894|\n",
      "|  1.9776532438351353|\n",
      "|   2.055942775874172|\n",
      "| -1.5026777701395702|\n",
      "| -1.1407394480315247|\n",
      "|-0.19116865796621596|\n",
      "+--------------------+\n",
      "only showing top 20 rows\n",
      "\n",
      "3.7719730779678584\n",
      "0.5710263725631847\n",
      "==================== 10 ====================\n",
      "+--------------------+\n",
      "|           residuals|\n",
      "+--------------------+\n",
      "|    4.82917424045268|\n",
      "|  -4.995229995164294|\n",
      "|0.002466605186683...|\n",
      "|  2.9430560884024644|\n",
      "|  -7.518605869526297|\n",
      "|   2.990547690827924|\n",
      "|  -4.029657889063699|\n",
      "|   4.796627939456577|\n",
      "|  1.8924421714438182|\n",
      "|  -5.363678128111374|\n",
      "| 0.48409323733103804|\n",
      "|  1.4634239992224138|\n",
      "|  0.1295922303846737|\n",
      "|   5.672946402493295|\n",
      "|   2.209385410314141|\n",
      "| 0.19142016210649615|\n",
      "|  -7.204655728033963|\n",
      "| -1.7941543521791985|\n",
      "|  0.9494999291743511|\n",
      "|  -4.599975994444648|\n",
      "+--------------------+\n",
      "only showing top 20 rows\n",
      "\n",
      "8.047681888278824\n",
      "0.5282909251269399\n",
      "==================== 12 ====================\n",
      "+-------------------+\n",
      "|          residuals|\n",
      "+-------------------+\n",
      "|-12.869936301716734|\n",
      "|-31.676023568993514|\n",
      "|  41.12539003909387|\n",
      "| -33.69213263811116|\n",
      "|  41.30154147553003|\n",
      "| 17.002488129564426|\n",
      "|-27.538698571177974|\n",
      "|  5.192125257234693|\n",
      "| -17.13101815402706|\n",
      "| -20.95027312502407|\n",
      "|-13.505723851717448|\n",
      "|-42.838639896812765|\n",
      "| 47.975935804113305|\n",
      "|   23.3165760451584|\n",
      "| -7.284519805591117|\n",
      "|-35.073556482226195|\n",
      "|-13.755131269323101|\n",
      "| -32.12914088671869|\n",
      "|-29.272100611300175|\n",
      "|-2.2325056388535813|\n",
      "+-------------------+\n",
      "only showing top 20 rows\n",
      "\n",
      "34.77232468827859\n",
      "0.7353115385297384\n",
      "==================== 14 ====================\n",
      "+--------------------+\n",
      "|           residuals|\n",
      "+--------------------+\n",
      "|     0.9962204344545|\n",
      "|  17.076980094056324|\n",
      "| -2.5528458541365637|\n",
      "|  -6.471682350523196|\n",
      "| -1.6839362221065528|\n",
      "|   9.477554454078842|\n",
      "| -12.365237512594746|\n",
      "| -3.4266117814522374|\n",
      "| -2.1704214370512034|\n",
      "| -12.260720708993318|\n",
      "|   15.50447988057607|\n",
      "|   3.030414003243351|\n",
      "| -0.7264636907977149|\n",
      "|  21.115130376624876|\n",
      "|  24.140735743244335|\n",
      "| -10.978986650549786|\n",
      "| -13.670323001371827|\n",
      "| -15.210783398488473|\n",
      "|   4.637018042139772|\n",
      "|0.005588942618743431|\n",
      "+--------------------+\n",
      "only showing top 20 rows\n",
      "\n",
      "10.806746894420407\n",
      "0.7960688259897531\n",
      "==================== 20 ====================\n",
      "+--------------------+\n",
      "|           residuals|\n",
      "+--------------------+\n",
      "| -0.6412683419767831|\n",
      "| 0.35144216995686295|\n",
      "|  1.3354077695635085|\n",
      "|  0.1160035301148099|\n",
      "| -1.1017825884680406|\n",
      "| -0.5470257923211874|\n",
      "| -0.3953566610499224|\n",
      "| -1.1504171188884187|\n",
      "| -0.9081855229346842|\n",
      "| -2.0624569870103584|\n",
      "|-0.20052492592798776|\n",
      "|  0.5994819201459052|\n",
      "|-0.12033877676898042|\n",
      "| -1.1849509801149196|\n",
      "|  0.6190734592058561|\n",
      "| -0.6011618927507186|\n",
      "|  1.2205635840796445|\n",
      "|  -0.649308480536388|\n",
      "| 0.06303561690493487|\n",
      "|    0.83541834866586|\n",
      "+--------------------+\n",
      "only showing top 20 rows\n",
      "\n",
      "1.2537373066795328\n",
      "0.7043404976005805\n",
      "==================== 30 ====================\n",
      "+--------------------+\n",
      "|           residuals|\n",
      "+--------------------+\n",
      "|-0.06994230475527452|\n",
      "|-0.17475030986495343|\n",
      "| 0.22792251452875512|\n",
      "|  -0.480402914446018|\n",
      "| 0.19826933997626628|\n",
      "|-0.08840758130079074|\n",
      "| 0.43845024868668503|\n",
      "|-0.01086395498469...|\n",
      "|-0.01300840783716...|\n",
      "| 0.01963248208731372|\n",
      "|  0.0391414101451627|\n",
      "| -0.2463009254598848|\n",
      "| 0.12187764693261621|\n",
      "|   0.218303397232394|\n",
      "| 0.19654813679854222|\n",
      "|-0.07653955461803719|\n",
      "|0.035682589021810096|\n",
      "|0.045388702029302064|\n",
      "|-0.21211238790069514|\n",
      "|-0.07697154382298663|\n",
      "+--------------------+\n",
      "only showing top 20 rows\n",
      "\n",
      "0.19820911535480273\n",
      "0.7661083608458491\n",
      "==================== 35 ====================\n",
      "+--------------------+\n",
      "|           residuals|\n",
      "+--------------------+\n",
      "|  0.5329489631759745|\n",
      "|  0.1566052882675597|\n",
      "|0.014134051553375548|\n",
      "|0.007058171183160766|\n",
      "| 0.43198965001728684|\n",
      "|-0.06355023617417083|\n",
      "| 0.13846036495623731|\n",
      "| 0.10334948680567396|\n",
      "| 0.31887709287499666|\n",
      "| 0.15641728755103426|\n",
      "| 0.03806441358293833|\n",
      "|-0.10042764898428069|\n",
      "| 0.03470449025694303|\n",
      "| 0.04527029987051448|\n",
      "|-0.00816702827272281|\n",
      "|  -0.235646375062411|\n",
      "| 0.19724488687375077|\n",
      "|0.010349821738326354|\n",
      "| -0.1293552840864634|\n",
      "|0.023983338137710752|\n",
      "+--------------------+\n",
      "only showing top 20 rows\n",
      "\n",
      "0.24514415426022654\n",
      "0.6729802533776965\n",
      "==================== 42 ====================\n",
      "+--------------------+\n",
      "|           residuals|\n",
      "+--------------------+\n",
      "|-0.00723882195174...|\n",
      "| 0.08570444097776186|\n",
      "| 0.14903737491545122|\n",
      "|  0.3158839227199801|\n",
      "| -0.0725288352746325|\n",
      "| 0.08400028243528723|\n",
      "|5.390278815984306E-4|\n",
      "|-0.02104314378319...|\n",
      "| 0.01357584239363785|\n",
      "|-0.04128365072072...|\n",
      "| 0.20611601907754018|\n",
      "|-0.17106260238383597|\n",
      "|-0.03664188136675861|\n",
      "|0.009713086707221041|\n",
      "| 0.11756516003812645|\n",
      "|  0.4468269612700084|\n",
      "|-0.06951605297426577|\n",
      "|-0.10195833165627222|\n",
      "| 0.02195960569767408|\n",
      "| 0.07319384743869639|\n",
      "+--------------------+\n",
      "only showing top 20 rows\n",
      "\n",
      "0.11439285438355855\n",
      "0.6786645713439938\n",
      "==================== 43 ====================\n",
      "+--------------------+\n",
      "|           residuals|\n",
      "+--------------------+\n",
      "|0.008558325816953039|\n",
      "|0.020246499991969813|\n",
      "|-0.17669201824787129|\n",
      "|-0.00328696053478...|\n",
      "|-0.02003562294510...|\n",
      "| 0.11002480374980084|\n",
      "|0.015465774573122149|\n",
      "|-0.11139917687227574|\n",
      "| 0.17435358752168306|\n",
      "|0.016123046626607573|\n",
      "|0.020383945080880927|\n",
      "| 0.08349996185965258|\n",
      "|-0.02504284930161...|\n",
      "|0.050021728174982405|\n",
      "| 0.03540933263630652|\n",
      "| 0.11620055572122401|\n",
      "|-0.02204812635531...|\n",
      "| 0.20263370682309256|\n",
      "|-0.01375207518480...|\n",
      "|-0.06784207735420233|\n",
      "+--------------------+\n",
      "only showing top 20 rows\n",
      "\n",
      "0.0871556202808181\n",
      "0.842028548551945\n",
      "==================== 44 ====================\n"
     ]
    },
    {
     "name": "stdout",
     "output_type": "stream",
     "text": [
      "+--------------------+\n",
      "|           residuals|\n",
      "+--------------------+\n",
      "|9.151093562154988E-4|\n",
      "| 0.03710554856232648|\n",
      "|-0.02942034298475...|\n",
      "|-0.06861170710406456|\n",
      "|-0.00523301782651...|\n",
      "|0.027728616228538616|\n",
      "|-0.01752688383787407|\n",
      "| 0.08023239839645968|\n",
      "|-0.01442206111125685|\n",
      "|-0.01347526297302...|\n",
      "|0.002826717491530...|\n",
      "|-0.01748279631032204|\n",
      "|-0.03969565903328523|\n",
      "|-0.02922819117937...|\n",
      "|-0.02243074624532...|\n",
      "|0.035136728272279066|\n",
      "|0.009466120152102991|\n",
      "|-0.03071657091325...|\n",
      "|-0.02003514313870...|\n",
      "|-0.09113024668240632|\n",
      "+--------------------+\n",
      "only showing top 20 rows\n",
      "\n",
      "0.05648944949115024\n",
      "0.9017353677832367\n"
     ]
    }
   ],
   "source": [
    "for magnitud in magnitudes_aire:\n",
    "    print(\"=\"*20, magnitud, \"=\"*20)\n",
    "    cols_comunes = df_datos.columns[0:8] + magnitudes_clima\n",
    "    cols_features = cols_comunes + [\"A_%s\"%magnitud]\n",
    "    assembler = VectorAssembler(inputCols = cols_features, outputCol = \"F_%s\" % magnitud)\n",
    "    #Limpiamos las filas con el dato para esa magnitud a Null\n",
    "    cols_y_magnitud = cols_features + [magnitud]\n",
    "    df_datos_magnitud = df_datos.select(cols_y_magnitud).na.drop()\n",
    "    #Mirar a ver que hacemos cuando el clima es null\n",
    "    \n",
    "    output = assembler.transform(df_datos_magnitud)\n",
    "    #output.printSchema()\n",
    "    #Ver cómo funciona\n",
    "    final_data = output.filter(output[\"FECHA\"] < hoy).select(\"F_%s\" %magnitud, magnitud)\n",
    "    training_data,test_data = final_data.randomSplit([0.8,0.2])\n",
    "    \n",
    "    #train_data = output.filter(output[\"FECHA\"] < hoy).select(\"F_%s\" %magnitud, magnitud)\n",
    "    #test_data = output.filter(output[\"FECHA\"] == hoy).select(\"F_%s\" %magnitud, magnitud)\n",
    "    \n",
    "    lr = LinearRegression(featuresCol =\"F_%s\" %magnitud, labelCol = magnitud)\n",
    "    lr_model = lr.fit(training_data)\n",
    "    test_results = lr_model.evaluate(test_data)\n",
    "    test_results.residuals.show()\n",
    "    print(test_results.rootMeanSquaredError)\n",
    "    print(test_results.r2)"
   ]
  },
  {
   "cell_type": "markdown",
   "metadata": {},
   "source": [
    "# [4] - FORMATO"
   ]
  },
  {
   "cell_type": "code",
   "execution_count": null,
   "metadata": {},
   "outputs": [],
   "source": [
    "#Borramos las columnas utilizadas para relacionar estaciones de aire y clima\n",
    "a_borrar = c_grupo_14 + c_estacionxmagnitud_19"
   ]
  },
  {
   "cell_type": "code",
   "execution_count": null,
   "metadata": {
    "scrolled": false
   },
   "outputs": [],
   "source": [
    "pd_final = pd_datos_y_calendario.drop(columns = a_borrar)"
   ]
  },
  {
   "cell_type": "markdown",
   "metadata": {},
   "source": [
    "# [5] - EXPORTAR"
   ]
  },
  {
   "cell_type": "code",
   "execution_count": null,
   "metadata": {},
   "outputs": [],
   "source": [
    "#Versiones\n",
    "hoy = datetime.date.today().strftime(\"%Y-%m-%d\")\n",
    "pd_final.to_csv(\"/home/rulicering/Datos_Proyecto_Ozono/Procesado/Dato_Final/Datos_2014-NOW-\" + hoy + \".csv\")"
   ]
  },
  {
   "cell_type": "code",
   "execution_count": null,
   "metadata": {},
   "outputs": [],
   "source": [
    "pd_final.to_csv(\"/home/rulicering/Datos_Proyecto_Ozono/Procesado/Dato_Final/Datos_2014-NOW.csv\")"
   ]
  },
  {
   "cell_type": "markdown",
   "metadata": {},
   "source": [
    "# [EXTRA] - CHECKEO"
   ]
  },
  {
   "cell_type": "code",
   "execution_count": null,
   "metadata": {},
   "outputs": [],
   "source": [
    "#pd_chequeo = pd_datos[['CODIGO_CORTO', 'FECHA','E_AEMET','E_81', 'E_82', 'E_83', 'E_87', 'E_89', '81', '82', '83', '87', '89']]"
   ]
  },
  {
   "cell_type": "code",
   "execution_count": null,
   "metadata": {},
   "outputs": [],
   "source": [
    "#2014-2018\n",
    "#pd_chequeo[(pd_datos[\"FECHA\"]==20140101)].sort_values(by=\"E_AEMET\")\n",
    "#pd_clima[pd_clima[\"FECHA\"]==20140101]\n",
    "\n",
    "#2019-NOW\n",
    "#pd_chequeo[(pd_datos[\"FECHA\"]==20190101)]\n",
    "#pd_clima[pd_clima[\"FECHA\"]==20190101]"
   ]
  }
 ],
 "metadata": {
  "kernelspec": {
   "display_name": "Python 3",
   "language": "python",
   "name": "python3"
  },
  "language_info": {
   "codemirror_mode": {
    "name": "ipython",
    "version": 3
   },
   "file_extension": ".py",
   "mimetype": "text/x-python",
   "name": "python",
   "nbconvert_exporter": "python",
   "pygments_lexer": "ipython3",
   "version": "3.6.9"
  }
 },
 "nbformat": 4,
 "nbformat_minor": 4
}
