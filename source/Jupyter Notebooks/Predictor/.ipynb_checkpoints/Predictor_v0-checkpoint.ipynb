{
 "cells": [
  {
   "cell_type": "markdown",
   "metadata": {},
   "source": [
    "# [o3]- Proyecto Ozono - Predictor_v0"
   ]
  },
  {
   "cell_type": "markdown",
   "metadata": {},
   "source": [
    "# [0] - Inicialización"
   ]
  },
  {
   "cell_type": "code",
   "execution_count": 1,
   "metadata": {},
   "outputs": [],
   "source": [
    "import findspark\n",
    "findspark.init('/home/rulicering/BigData/spark-2.4.5-bin-hadoop2.7')\n",
    "from pyspark.sql import SparkSession\n",
    "from pyspark.sql import functions as F\n",
    "from pyspark.sql.window import Window\n",
    "import pandas as pd\n",
    "from pyspark.sql.types import StructField,StringType,IntegerType,StructType,FloatType\n",
    "import re as reg\n",
    "import numpy as np\n",
    "import datetime\n",
    "\n",
    "#MlLib\n",
    "from pyspark.ml.regression import LinearRegression\n",
    "\n",
    "#Aux\n",
    "from pyspark.ml.linalg import Vectors\n",
    "from pyspark.ml.feature import VectorAssembler"
   ]
  },
  {
   "cell_type": "code",
   "execution_count": 2,
   "metadata": {},
   "outputs": [],
   "source": [
    "spark = SparkSession.builder.appName('predictor').getOrCreate()"
   ]
  },
  {
   "cell_type": "markdown",
   "metadata": {},
   "source": [
    "# [1] Datos"
   ]
  },
  {
   "cell_type": "markdown",
   "metadata": {},
   "source": [
    "## [1.0] - Carga de ficheros (Datos, Predicción clima,  Calendario)"
   ]
  },
  {
   "cell_type": "code",
   "execution_count": 3,
   "metadata": {
    "scrolled": true
   },
   "outputs": [],
   "source": [
    "df_datos = spark.read.csv('/home/rulicering/Datos_Proyecto_Ozono/Procesado/Dato_Final/Datos.csv',inferSchema= True,header=True)\n",
    "df_clima_prediccion = spark.read.csv('/home/rulicering/Datos_Proyecto_Ozono/Procesado/Clima/Clima_Prediccion-hoy.csv',inferSchema= True,header=True)\n",
    "df_calendario = spark.read.csv('/home/rulicering/Datos_Proyecto_Ozono/Procesado/Calendario/Calendario_2001-2020.csv',inferSchema= True,header=True)"
   ]
  },
  {
   "cell_type": "code",
   "execution_count": 4,
   "metadata": {},
   "outputs": [],
   "source": [
    "df_datos = df_datos.drop(\"_c0\")\n",
    "df_clima_prediccion = df_clima_prediccion.drop(\"_c0\")\n",
    "df_calendario = df_calendario.drop(\"_c0\")"
   ]
  },
  {
   "cell_type": "code",
   "execution_count": 5,
   "metadata": {},
   "outputs": [],
   "source": [
    "magnitudes= df_datos.columns[8:]\n",
    "magnitudes_clima = df_datos.columns[-5:]\n",
    "magnitudes_aire = df_datos.columns[8:-5]"
   ]
  },
  {
   "cell_type": "code",
   "execution_count": 6,
   "metadata": {},
   "outputs": [],
   "source": [
    "dic_clima = { \"VIENTO\":\"81\",\n",
    "                 \"DIRECCION\": \"82\",\n",
    "                 \"TEMPERATURA\": \"83\",\n",
    "                 \"PRESION\": \"87\",\n",
    "                 \"LLUVIA\":\"89\"\n",
    "}"
   ]
  },
  {
   "cell_type": "markdown",
   "metadata": {},
   "source": [
    "## [1.1] - Datos para prediccion - Prediccion clima + Calendario + Estaciones"
   ]
  },
  {
   "cell_type": "code",
   "execution_count": 7,
   "metadata": {
    "scrolled": true
   },
   "outputs": [],
   "source": [
    "ayer = (datetime.date.today() + datetime.timedelta(days = -1)).strftime(\"%Y%m%d\")\n",
    "hoy = datetime.date.today().strftime(\"%Y%m%d\")"
   ]
  },
  {
   "cell_type": "code",
   "execution_count": 8,
   "metadata": {},
   "outputs": [],
   "source": [
    "df_estaciones_aire = df_datos.filter(df_datos[\"FECHA\"]== ayer).select(\"CODIGO_CORTO\")"
   ]
  },
  {
   "cell_type": "code",
   "execution_count": 9,
   "metadata": {},
   "outputs": [],
   "source": [
    "cod_estaciones_aire = [elem[0] for elem in df_estaciones_aire.collect()]"
   ]
  },
  {
   "cell_type": "code",
   "execution_count": 10,
   "metadata": {},
   "outputs": [],
   "source": [
    "cod_estaciones_aire.sort()"
   ]
  },
  {
   "cell_type": "code",
   "execution_count": 11,
   "metadata": {},
   "outputs": [],
   "source": [
    "df_hoy = df_calendario.filter(df_calendario[\"FECHA\"]== hoy)"
   ]
  },
  {
   "cell_type": "code",
   "execution_count": 12,
   "metadata": {},
   "outputs": [],
   "source": [
    "#Calendario + Magnitudes aire a null\n",
    "for magnitud in magnitudes_aire:\n",
    "    df_hoy = df_hoy.withColumn(magnitud,F.lit(None))"
   ]
  },
  {
   "cell_type": "code",
   "execution_count": 13,
   "metadata": {},
   "outputs": [],
   "source": [
    "#Calendario + Prediccion clima\n",
    "df_clima_hoy = df_hoy.join(df_clima_prediccion,on= \"FECHA\")"
   ]
  },
  {
   "cell_type": "code",
   "execution_count": 14,
   "metadata": {
    "scrolled": true
   },
   "outputs": [],
   "source": [
    "#Estaciones cross datos clima y calendario\n",
    "df_datos_hoy = df_estaciones_aire.crossJoin(df_clima_hoy)"
   ]
  },
  {
   "cell_type": "code",
   "execution_count": 15,
   "metadata": {},
   "outputs": [],
   "source": [
    "#df_datos_hoy.columns"
   ]
  },
  {
   "cell_type": "code",
   "execution_count": 16,
   "metadata": {},
   "outputs": [],
   "source": [
    "cols = df_datos_hoy.columns\n",
    "cols = cols[0:1] + cols[19:22]+ cols[1:5]+ cols[5:19] + cols[22:]"
   ]
  },
  {
   "cell_type": "code",
   "execution_count": 17,
   "metadata": {},
   "outputs": [],
   "source": [
    "df_datos_hoy = df_datos_hoy.select(cols)"
   ]
  },
  {
   "cell_type": "markdown",
   "metadata": {},
   "source": [
    "### [1.1.0] - Probabilidad lluvia -> Prediccion lluvia m/l2\n",
    "    Si la probabilidad es > 50%:\n",
    "        se hace la media por estacion del historial de precipitaciones\n",
    "        cogiendo datos de +-10 días al dia de hoy de cada año anterior"
   ]
  },
  {
   "cell_type": "code",
   "execution_count": 18,
   "metadata": {},
   "outputs": [],
   "source": [
    "def probabilidad_a_lluvia_presion_ayer_aire_a_null(df_datos,df_datos_hoy):\n",
    "    mes_dia_min = (datetime.date.today() +  datetime.timedelta(days = -10)).strftime(\"%m%d\")\n",
    "    mes_dia_max = (datetime.date.today() +  datetime.timedelta(days = 10)).strftime(\"%m%d\")\n",
    "    df_historial = df_datos.filter((df_datos[\"FECHA\"]%1000 >= mes_dia_min) & (df_datos[\"FECHA\"]%1000 <= mes_dia_max))\n",
    "    df_datos_hoy = df_datos_hoy.drop('%' + dic_clima[\"LLUVIA\"])\n",
    "    l_df = []\n",
    "    for estacion in cod_estaciones_aire:\n",
    "        df_datos_hoy_estacion = df_datos_hoy.filter(df_datos_hoy[\"CODIGO_CORTO\"]==estacion)\n",
    "        aux = df_historial.filter(df_historial[\"CODIGO_CORTO\"]== estacion).select(\"FECHA\",dic_clima[\"PRESION\"],dic_clima[\"LLUVIA\"]).na.drop()\n",
    "        #Precipitacions\n",
    "        prob_lluvia_hoy = df_clima_prediccion.select(\"%\" +dic_clima[\"LLUVIA\"]).collect()[0][0]\n",
    "        prec = 0\n",
    "        if(float(prob_lluvia_hoy) > 50):\n",
    "            try:\n",
    "                prec = aux.filter(aux[dic_clima[\"LLUVIA\"]] >0).select(dic_clima[\"LLUVIA\"]).groupBy().mean().collect()[0][0]\n",
    "            except:\n",
    "                print(\"[WARN]: No hay lluvias historicas en ese rango de fechas\")\n",
    "        df_datos_hoy_estacion = df_datos_hoy_estacion.withColumn(dic_clima[\"LLUVIA\"],F.lit(prec))\n",
    "            \n",
    "        #Presion\n",
    "        ayer = (datetime.date.today() + datetime.timedelta(days= -1)).strftime(\"%Y%m%d\")\n",
    "        presion_ayer = aux.filter(aux[\"FECHA\"]==ayer).select(dic_clima[\"PRESION\"]).collect()[0][0]\n",
    "        df_datos_hoy_estacion = df_datos_hoy_estacion.withColumn(dic_clima[\"PRESION\"],F.lit(presion_ayer))\n",
    "\n",
    "        l_df.append(df_datos_hoy_estacion)\n",
    "        \n",
    "    df_datos_hoy = l_df[0]\n",
    "    for i in range(1,len(l_df)):\n",
    "        df_datos_hoy = df_datos_hoy.union(l_df[i])\n",
    "    return df_datos_hoy"
   ]
  },
  {
   "cell_type": "code",
   "execution_count": 19,
   "metadata": {
    "scrolled": true
   },
   "outputs": [],
   "source": [
    "df_datos_hoy = probabilidad_a_lluvia_presion_ayer_aire_a_null(df_datos,df_datos_hoy)"
   ]
  },
  {
   "cell_type": "code",
   "execution_count": 20,
   "metadata": {},
   "outputs": [],
   "source": [
    "#df_datos_hoy.toPandas()"
   ]
  },
  {
   "cell_type": "markdown",
   "metadata": {},
   "source": [
    "## [1.2] - Union Datos + Datos hoy"
   ]
  },
  {
   "cell_type": "code",
   "execution_count": 21,
   "metadata": {
    "scrolled": true
   },
   "outputs": [],
   "source": [
    "df_datos= df_datos.union(df_datos_hoy)"
   ]
  },
  {
   "cell_type": "markdown",
   "metadata": {},
   "source": [
    "## [1.3] - Dar cada fila de datos +  contaminacion ayer"
   ]
  },
  {
   "cell_type": "code",
   "execution_count": 22,
   "metadata": {},
   "outputs": [],
   "source": [
    "ventana = Window.partitionBy(\"CODIGO_CORTO\").orderBy(\"FECHA\")"
   ]
  },
  {
   "cell_type": "code",
   "execution_count": 23,
   "metadata": {},
   "outputs": [],
   "source": [
    "for magnitud in magnitudes_aire:\n",
    "    df_datos = df_datos.withColumn(\"A_%s\"%magnitud, F.lag(magnitud,1,None).over(ventana))"
   ]
  },
  {
   "cell_type": "code",
   "execution_count": 24,
   "metadata": {},
   "outputs": [],
   "source": [
    "#df_datos.columns"
   ]
  },
  {
   "cell_type": "markdown",
   "metadata": {},
   "source": [
    "## [1.4] - Tipos\n",
    "    \n",
    "    CODIGO_CORTO -> INTEGER\n",
    "    ANO -> INTEGER\n",
    "    MES -> INTEGER\n",
    "    DIA -> INTEGER\n",
    "    FECHA -> INTEGER\n",
    "    DIASEMANA -> INTEGER\n",
    "    TIPODIA -> INTEGER\n",
    "    CONFINAMIENTO -> INTEGER\n",
    "    MEDICIONES -> DOUBLE"
   ]
  },
  {
   "cell_type": "code",
   "execution_count": 25,
   "metadata": {},
   "outputs": [],
   "source": [
    "#df_datos.dtypes"
   ]
  },
  {
   "cell_type": "markdown",
   "metadata": {},
   "source": [
    "# [2] - PREDICCIONES\n",
    "    \n",
    "    Se hace 1 a 1 para cada magnitud de contaminación\n",
    "    "
   ]
  },
  {
   "cell_type": "code",
   "execution_count": 26,
   "metadata": {},
   "outputs": [],
   "source": [
    "cols_comunes = df_datos.columns[0:8] + magnitudes_clima"
   ]
  },
  {
   "cell_type": "code",
   "execution_count": 27,
   "metadata": {},
   "outputs": [],
   "source": [
    "#cols_comunes"
   ]
  },
  {
   "cell_type": "markdown",
   "metadata": {},
   "source": [
    "## [2.0] - Linear Regression"
   ]
  },
  {
   "cell_type": "markdown",
   "metadata": {
    "scrolled": false
   },
   "source": [
    "for magnitud in magnitudes_aire:\n",
    "    print(\"=\"*20, magnitud, \"=\"*20)\n",
    "    cols_comunes = df_datos.columns[0:8] + magnitudes_clima\n",
    "    cols_features = cols_comunes + [\"A_%s\"%magnitud]\n",
    "    assembler = VectorAssembler(inputCols = cols_features, outputCol = \"F_%s\" % magnitud)\n",
    "    #Limpiamos las filas con el dato para esa magnitud a Null\n",
    "    cols_y_magnitud = cols_features + [magnitud]\n",
    "    df_datos_magnitud = df_datos.select(cols_y_magnitud).na.drop()\n",
    "    #Mirar a ver que hacemos cuando el clima es null\n",
    "    \n",
    "    output = assembler.transform(df_datos_magnitud)\n",
    "    #output.printSchema()\n",
    "    #Ver cómo funciona\n",
    "    final_data = output.filter(output[\"FECHA\"] < hoy).select(\"F_%s\" %magnitud, magnitud)\n",
    "    training_data,test_data = final_data.randomSplit([0.9,0.1])\n",
    "    \n",
    "    #train_data = output.filter(output[\"FECHA\"] < hoy).select(\"F_%s\" %magnitud, magnitud)\n",
    "    #test_data = output.filter(output[\"FECHA\"] == hoy).select(\"F_%s\" %magnitud, magnitud)\n",
    "    \n",
    "    lr = LinearRegression(featuresCol =\"F_%s\" %magnitud, labelCol = magnitud)\n",
    "    lr_model = lr.fit(training_data)\n",
    "    test_results = lr_model.evaluate(test_data)\n",
    "    #test_results.residuals.show()\n",
    "    print(\"Root mean Squared Error: \",test_results.rootMeanSquaredError)\n",
    "    print(\"R2: \" ,test_results.r2)"
   ]
  },
  {
   "cell_type": "markdown",
   "metadata": {},
   "source": [
    "## [2.1] - GBT"
   ]
  },
  {
   "cell_type": "code",
   "execution_count": 28,
   "metadata": {},
   "outputs": [],
   "source": [
    "from pyspark.ml import Pipeline\n",
    "from pyspark.ml.regression import GBTRegressor\n",
    "from pyspark.ml.feature import VectorIndexer\n",
    "from pyspark.ml.evaluation import RegressionEvaluator"
   ]
  },
  {
   "cell_type": "code",
   "execution_count": 29,
   "metadata": {},
   "outputs": [
    {
     "data": {
      "text/plain": [
       "GBTRegressor_c5a17215791c"
      ]
     },
     "execution_count": 29,
     "metadata": {},
     "output_type": "execute_result"
    }
   ],
   "source": [
    "GBTRegressor()"
   ]
  },
  {
   "cell_type": "code",
   "execution_count": 30,
   "metadata": {
    "scrolled": true
   },
   "outputs": [
    {
     "name": "stdout",
     "output_type": "stream",
     "text": [
      "==================== 1 ====================\n",
      "+------------+------------------+--------------------+\n",
      "|CODIGO_CORTO|               P_1|                 F_1|\n",
      "+------------+------------------+--------------------+\n",
      "|          40| 5.665720306522023|[40.0,2020.0,5.0,...|\n",
      "|          57| 4.737602906702036|[57.0,2020.0,5.0,...|\n",
      "|          17| 7.596751389295591|[17.0,2020.0,5.0,...|\n",
      "|          35| 4.864519365690143|[35.0,2020.0,5.0,...|\n",
      "|           4| 4.780010503843918|[4.0,2020.0,5.0,1...|\n",
      "|           8|7.6746734097863145|[8.0,2020.0,5.0,1...|\n",
      "|          38|2.8386190158037503|[38.0,2020.0,5.0,...|\n",
      "|          24|4.6966916538262256|[24.0,2020.0,5.0,...|\n",
      "|          18| 4.653198526266247|[18.0,2020.0,5.0,...|\n",
      "|          36| 4.864519365690143|[36.0,2020.0,5.0,...|\n",
      "+------------+------------------+--------------------+\n",
      "\n",
      "==================== 10 ====================\n",
      "+------------+------------------+--------------------+\n",
      "|CODIGO_CORTO|              P_10|                F_10|\n",
      "+------------+------------------+--------------------+\n",
      "|          47| 5.388086873358528|[47.0,2020.0,5.0,...|\n",
      "|          40| 8.653516455845566|[40.0,2020.0,5.0,...|\n",
      "|          57| 5.653700122451649|[57.0,2020.0,5.0,...|\n",
      "|          48| 5.696329573443549|[48.0,2020.0,5.0,...|\n",
      "|          55|   9.2571438333129|[55.0,2020.0,5.0,...|\n",
      "|           8|10.195360099638417|[8.0,2020.0,5.0,1...|\n",
      "|          50| 5.696329573443549|[50.0,2020.0,5.0,...|\n",
      "|          38| 5.388086873358528|[38.0,2020.0,5.0,...|\n",
      "|          24|   4.7426497734582|[24.0,2020.0,5.0,...|\n",
      "|          60| 9.313343613962699|[60.0,2020.0,5.0,...|\n",
      "|          56|5.3454574223666285|[56.0,2020.0,5.0,...|\n",
      "|          18| 5.179161473211866|[18.0,2020.0,5.0,...|\n",
      "|          36| 5.388086873358528|[36.0,2020.0,5.0,...|\n",
      "+------------+------------------+--------------------+\n",
      "\n",
      "==================== 12 ====================\n",
      "+------------+------------------+--------------------+\n",
      "|CODIGO_CORTO|              P_12|                F_12|\n",
      "+------------+------------------+--------------------+\n",
      "|          27|10.081304615296602|[27.0,2020.0,5.0,...|\n",
      "|          47| 8.110098831606974|[47.0,2020.0,5.0,...|\n",
      "|          16| 8.061457339883093|[16.0,2020.0,5.0,...|\n",
      "|          40| 8.110098831606974|[40.0,2020.0,5.0,...|\n",
      "|          57|7.8109188550017095|[57.0,2020.0,5.0,...|\n",
      "|          54| 8.110098831606974|[54.0,2020.0,5.0,...|\n",
      "|          48| 8.110098831606974|[48.0,2020.0,5.0,...|\n",
      "|          17|37.871041235868894|[17.0,2020.0,5.0,...|\n",
      "|          35|  9.07379201150121|[35.0,2020.0,5.0,...|\n",
      "|           4|10.016998416449226|[4.0,2020.0,5.0,1...|\n",
      "|          55| 9.842334544687485|[55.0,2020.0,5.0,...|\n",
      "|          59| 7.745004911467447|[59.0,2020.0,5.0,...|\n",
      "|           8|24.120341339645474|[8.0,2020.0,5.0,1...|\n",
      "|          39| 8.110098831606974|[39.0,2020.0,5.0,...|\n",
      "|          49| 8.110098831606974|[49.0,2020.0,5.0,...|\n",
      "|          50| 8.110098831606974|[50.0,2020.0,5.0,...|\n",
      "|          38|  9.07379201150121|[38.0,2020.0,5.0,...|\n",
      "|          24|  4.87744708645732|[24.0,2020.0,5.0,...|\n",
      "|          60|7.8109188550017095|[60.0,2020.0,5.0,...|\n",
      "|          56| 22.59784897974444|[56.0,2020.0,5.0,...|\n",
      "+------------+------------------+--------------------+\n",
      "only showing top 20 rows\n",
      "\n",
      "==================== 14 ====================\n",
      "+------------+------------------+--------------------+\n",
      "|CODIGO_CORTO|              P_14|                F_14|\n",
      "+------------+------------------+--------------------+\n",
      "|          27|58.682945209427366|[27.0,2020.0,5.0,...|\n",
      "|          16| 59.30988300114089|[16.0,2020.0,5.0,...|\n",
      "|          54| 63.64963191850371|[54.0,2020.0,5.0,...|\n",
      "|          17| 59.30988300114089|[17.0,2020.0,5.0,...|\n",
      "|          35| 59.49922977094471|[35.0,2020.0,5.0,...|\n",
      "|          59| 63.26014791424863|[59.0,2020.0,5.0,...|\n",
      "|           8| 57.52678021673134|[8.0,2020.0,5.0,1...|\n",
      "|          39|60.287563515094774|[39.0,2020.0,5.0,...|\n",
      "|          49|60.287563515094774|[49.0,2020.0,5.0,...|\n",
      "|          24| 60.17659690690722|[24.0,2020.0,5.0,...|\n",
      "|          60| 68.88243625856175|[60.0,2020.0,5.0,...|\n",
      "|          56| 60.37539075008383|[56.0,2020.0,5.0,...|\n",
      "|          58|  65.9921754559581|[58.0,2020.0,5.0,...|\n",
      "|          18| 60.09535049465737|[18.0,2020.0,5.0,...|\n",
      "+------------+------------------+--------------------+\n",
      "\n",
      "==================== 20 ====================\n",
      "+------------+-------------------+--------------------+\n",
      "|CODIGO_CORTO|               P_20|                F_20|\n",
      "+------------+-------------------+--------------------+\n",
      "|          55| 0.5461407412457928|[55.0,2020.0,5.0,...|\n",
      "|           8| 1.1888809008123014|[8.0,2020.0,5.0,1...|\n",
      "|          38|0.35096702981416095|[38.0,2020.0,5.0,...|\n",
      "|          24|0.27017980592300206|[24.0,2020.0,5.0,...|\n",
      "|          11|0.48390036129006564|[11.0,2020.0,5.0,...|\n",
      "|          18|0.27017980592300206|[18.0,2020.0,5.0,...|\n",
      "+------------+-------------------+--------------------+\n",
      "\n",
      "==================== 30 ====================\n",
      "+------------+-------------------+--------------------+\n",
      "|CODIGO_CORTO|               P_30|                F_30|\n",
      "+------------+-------------------+--------------------+\n",
      "|          55| 0.1122013715881224|[55.0,2020.0,5.0,...|\n",
      "|           8| 0.2239755353764689|[8.0,2020.0,5.0,1...|\n",
      "|          38|0.11255113294129354|[38.0,2020.0,5.0,...|\n",
      "|          24|0.10900269997929171|[24.0,2020.0,5.0,...|\n",
      "|          11|0.12771996089883372|[11.0,2020.0,5.0,...|\n",
      "|          18|0.10900269997929171|[18.0,2020.0,5.0,...|\n",
      "+------------+-------------------+--------------------+\n",
      "\n",
      "==================== 35 ====================\n",
      "+------------+-------------------+--------------------+\n",
      "|CODIGO_CORTO|               P_35|                F_35|\n",
      "+------------+-------------------+--------------------+\n",
      "|          55|0.22205366338774093|[55.0,2020.0,5.0,...|\n",
      "|           8| 0.4248478706041318|[8.0,2020.0,5.0,1...|\n",
      "|          38| 0.2193703100283304|[38.0,2020.0,5.0,...|\n",
      "|          24| 0.1089146032409182|[24.0,2020.0,5.0,...|\n",
      "|          11|0.10816855413908537|[11.0,2020.0,5.0,...|\n",
      "|          18| 0.1089146032409182|[18.0,2020.0,5.0,...|\n",
      "+------------+-------------------+--------------------+\n",
      "\n",
      "==================== 42 ====================\n",
      "+------------+------------------+--------------------+\n",
      "|CODIGO_CORTO|              P_42|                F_42|\n",
      "+------------+------------------+--------------------+\n",
      "|          55|1.1416100966759355|[55.0,2020.0,5.0,...|\n",
      "|           8|1.3320295883993856|[8.0,2020.0,5.0,1...|\n",
      "|          24| 1.108119779895167|[24.0,2020.0,5.0,...|\n",
      "+------------+------------------+--------------------+\n",
      "\n",
      "==================== 43 ====================\n",
      "+------------+------------------+--------------------+\n",
      "|CODIGO_CORTO|              P_43|                F_43|\n",
      "+------------+------------------+--------------------+\n",
      "|          55|0.7893228726539501|[55.0,2020.0,5.0,...|\n",
      "|           8|1.2506641200049147|[8.0,2020.0,5.0,1...|\n",
      "|          24| 1.052965960266944|[24.0,2020.0,5.0,...|\n",
      "+------------+------------------+--------------------+\n",
      "\n",
      "==================== 44 ====================\n",
      "+------------+-------------------+--------------------+\n",
      "|CODIGO_CORTO|               P_44|                F_44|\n",
      "+------------+-------------------+--------------------+\n",
      "|          55| 0.4084505441942457|[55.0,2020.0,5.0,...|\n",
      "|           8| 0.0826902407157177|[8.0,2020.0,5.0,1...|\n",
      "|          24|0.10212658389488218|[24.0,2020.0,5.0,...|\n",
      "+------------+-------------------+--------------------+\n",
      "\n",
      "==================== 6 ====================\n",
      "+------------+-------------------+--------------------+\n",
      "|CODIGO_CORTO|                P_6|                 F_6|\n",
      "+------------+-------------------+--------------------+\n",
      "|          16|0.19277220549707597|[16.0,2020.0,5.0,...|\n",
      "|          57|0.19111580354900826|[57.0,2020.0,5.0,...|\n",
      "|          35|0.12722230566112963|[35.0,2020.0,5.0,...|\n",
      "|           4| 0.1396863020383595|[4.0,2020.0,5.0,1...|\n",
      "|           8|0.21361655764064288|[8.0,2020.0,5.0,1...|\n",
      "|          39| 0.1953662835693795|[39.0,2020.0,5.0,...|\n",
      "|          24| 0.1193678262603448|[24.0,2020.0,5.0,...|\n",
      "|          56| 0.1953662835693795|[56.0,2020.0,5.0,...|\n",
      "|          18| 0.3391128665534108|[18.0,2020.0,5.0,...|\n",
      "|          36|0.12366077600503789|[36.0,2020.0,5.0,...|\n",
      "+------------+-------------------+--------------------+\n",
      "\n",
      "==================== 7 ====================\n"
     ]
    },
    {
     "name": "stdout",
     "output_type": "stream",
     "text": [
      "+------------+------------------+--------------------+\n",
      "|CODIGO_CORTO|               P_7|                 F_7|\n",
      "+------------+------------------+--------------------+\n",
      "|          27|2.9270141998311745|[27.0,2020.0,5.0,...|\n",
      "|          47|2.5101263160562253|[47.0,2020.0,5.0,...|\n",
      "|          16| 2.747625902999223|[16.0,2020.0,5.0,...|\n",
      "|          40|2.5101263160562253|[40.0,2020.0,5.0,...|\n",
      "|          57|2.3618734297704593|[57.0,2020.0,5.0,...|\n",
      "|          54|2.5101263160562253|[54.0,2020.0,5.0,...|\n",
      "|          48|2.5101263160562253|[48.0,2020.0,5.0,...|\n",
      "|          17|15.203797672920139|[17.0,2020.0,5.0,...|\n",
      "|          35|2.5101263160562253|[35.0,2020.0,5.0,...|\n",
      "|           4|6.5693113775236744|[4.0,2020.0,5.0,1...|\n",
      "|          55|2.9999595626225535|[55.0,2020.0,5.0,...|\n",
      "|          59|2.0009584366195736|[59.0,2020.0,5.0,...|\n",
      "|           8|  4.82284987227917|[8.0,2020.0,5.0,1...|\n",
      "|          39|2.5101263160562253|[39.0,2020.0,5.0,...|\n",
      "|          49|2.5101263160562253|[49.0,2020.0,5.0,...|\n",
      "|          50|  4.25658782130073|[50.0,2020.0,5.0,...|\n",
      "|          38|2.5101263160562253|[38.0,2020.0,5.0,...|\n",
      "|          24|2.5101263160562253|[24.0,2020.0,5.0,...|\n",
      "|          60|2.4109189818623706|[60.0,2020.0,5.0,...|\n",
      "|          56| 3.751392873727136|[56.0,2020.0,5.0,...|\n",
      "+------------+------------------+--------------------+\n",
      "only showing top 20 rows\n",
      "\n",
      "==================== 8 ====================\n",
      "+------------+------------------+--------------------+\n",
      "|CODIGO_CORTO|               P_8|                 F_8|\n",
      "+------------+------------------+--------------------+\n",
      "|          27| 9.649621592075052|[27.0,2020.0,5.0,...|\n",
      "|          47| 8.591037513042753|[47.0,2020.0,5.0,...|\n",
      "|          16| 8.579883835803258|[16.0,2020.0,5.0,...|\n",
      "|          40| 8.591037513042753|[40.0,2020.0,5.0,...|\n",
      "|          57| 8.141794774206272|[57.0,2020.0,5.0,...|\n",
      "|          54|11.282321369108583|[54.0,2020.0,5.0,...|\n",
      "|          48| 9.000296535732506|[48.0,2020.0,5.0,...|\n",
      "|          17| 8.579883835803258|[17.0,2020.0,5.0,...|\n",
      "|          35| 8.826003697480933|[35.0,2020.0,5.0,...|\n",
      "|           4| 8.883631913162294|[4.0,2020.0,5.0,1...|\n",
      "|          55|10.211389895758034|[55.0,2020.0,5.0,...|\n",
      "|          59| 8.890978259146582|[59.0,2020.0,5.0,...|\n",
      "|           8|12.941184053231371|[8.0,2020.0,5.0,1...|\n",
      "|          39| 8.591037513042753|[39.0,2020.0,5.0,...|\n",
      "|          49| 8.591037513042753|[49.0,2020.0,5.0,...|\n",
      "|          50| 9.000296535732506|[50.0,2020.0,5.0,...|\n",
      "|          38| 8.826003697480933|[38.0,2020.0,5.0,...|\n",
      "|          24| 6.857883523719315|[24.0,2020.0,5.0,...|\n",
      "|          60|  8.72736744532046|[60.0,2020.0,5.0,...|\n",
      "|          56|12.079055857229745|[56.0,2020.0,5.0,...|\n",
      "+------------+------------------+--------------------+\n",
      "only showing top 20 rows\n",
      "\n",
      "==================== 9 ====================\n",
      "+------------+------------------+--------------------+\n",
      "|CODIGO_CORTO|               P_9|                 F_9|\n",
      "+------------+------------------+--------------------+\n",
      "|          47| 3.035603970159701|[47.0,2020.0,5.0,...|\n",
      "|          48| 3.030493847211574|[48.0,2020.0,5.0,...|\n",
      "|           8| 6.477107469128995|[8.0,2020.0,5.0,1...|\n",
      "|          50| 3.030493847211574|[50.0,2020.0,5.0,...|\n",
      "|          38| 3.035603970159701|[38.0,2020.0,5.0,...|\n",
      "|          24|2.8602077780972692|[24.0,2020.0,5.0,...|\n",
      "|          56| 3.030493847211574|[56.0,2020.0,5.0,...|\n",
      "+------------+------------------+--------------------+\n",
      "\n"
     ]
    }
   ],
   "source": [
    "l_predicciones = []\n",
    "for magnitud in magnitudes_aire:\n",
    "    print(\"=\"*20, magnitud, \"=\"*20)\n",
    "    cols_comunes = df_datos.columns[0:8] + magnitudes_clima\n",
    "    cols_features = cols_comunes + [\"A_%s\"%magnitud]\n",
    "\n",
    "    #Limpiamos las filas con el dato para esa magnitud a Null\n",
    "    cols_y_magnitud = cols_features + [magnitud]\n",
    "    df_datos_magnitud_calculados = df_datos.filter(df_datos[\"FECHA\"] <hoy).select(cols_y_magnitud).na.drop()\n",
    "    df_datos_magnitud_hoy = df_datos.filter(df_datos[\"FECHA\"] == hoy).select(cols_y_magnitud).na.drop(subset = \"A_%s\"%magnitud)\n",
    "    #df_datos_magnitud = df_datos_magnitud_calculados.union(df_datos_magnitud_hoy)\n",
    "    \n",
    "    #Assembles to create features column\n",
    "    assembler = VectorAssembler(inputCols = cols_features, outputCol = \"F_%s\" % magnitud)\n",
    "    data_assembled = assembler.transform(df_datos_magnitud_calculados)\n",
    "    data_to_predict_assembled = assembler.transform(df_datos_magnitud_hoy)\n",
    "    \n",
    "    #Seleccionamos las filas que vamos a utilizar\n",
    "    trainingData = data_assembled.select(\"CODIGO_CORTO\",\"F_%s\" %magnitud, magnitud)\n",
    "    data_to_predict = data_to_predict_assembled.select(\"CODIGO_CORTO\",\"F_%s\" %magnitud, magnitud)\n",
    "\n",
    "    # Train a GBT model.\n",
    "    gbt = GBTRegressor(featuresCol=\"F_%s\" % magnitud, labelCol=magnitud,maxIter=20,predictionCol=\"P_%s\" %magnitud)\n",
    "        \n",
    "    # Train model.  This also runs the indexer.\n",
    "    model = gbt.fit(trainingData)\n",
    "    \n",
    "    # Make predictions.\n",
    "    predictions = model.transform(data_to_predict)\n",
    "    \n",
    "    # Select example rows to display\n",
    "    predictions.select(\"CODIGO_CORTO\",\"P_%s\" %magnitud,\"F_%s\" % magnitud).show()\n",
    "    l_predicciones.append(predictions)\n",
    "    "
   ]
  },
  {
   "cell_type": "markdown",
   "metadata": {},
   "source": [
    "#Para evaluar\n",
    "for magnitud in magnitudes_aire:\n",
    "    print(\"=\"*20, magnitud, \"=\"*20)\n",
    "    cols_comunes = df_datos.columns[0:8] + magnitudes_clima\n",
    "    cols_features = cols_comunes + [\"A_%s\"%magnitud]\n",
    "    \n",
    "    #Limpiamos las filas con el dato para esa magnitud a Null\n",
    "    cols_y_magnitud = cols_features + [magnitud]\n",
    "    df_datos_magnitud = df_datos.select(cols_y_magnitud).na.drop()\n",
    "      \n",
    "    #Assembles to create features column\n",
    "    assembler = VectorAssembler(inputCols = cols_features, outputCol = \"F_%s\" % magnitud)\n",
    "    data_assembled = assembler.transform(df_datos_magnitud)\n",
    "    \n",
    "    #Seleccionamos las filas que vamos a utilizar\n",
    "    data = data_assembled.filter(data_assembled[\"FECHA\"] < hoy).select(\"F_%s\" %magnitud, magnitud)\n",
    "    #Creamos el indexer\n",
    "    featureIndexer = VectorIndexer(inputCol=\"F_%s\" % magnitud, outputCol=\"indexedFeatures\", maxCategories=4).fit(data)\n",
    "    #Partimos el dato\n",
    "    (trainingData,testData) = data.randomSplit([0.9,0.1])\n",
    "    #(trainingData,testData) = data.randomSplit([0.7,0.3])\n",
    "    # Train a GBT model.\n",
    "    gbt = GBTRegressor(featuresCol=\"indexedFeatures\", labelCol=magnitud,maxIter=20)\n",
    "    \n",
    "    #Pipeline\n",
    "    pipeline = Pipeline(stages=[featureIndexer, gbt])\n",
    "    \n",
    "    # Train model.  This also runs the indexer.\n",
    "    model = pipeline.fit(trainingData)\n",
    "    \n",
    "    # Make predictions.\n",
    "    predictions = model.transform(testData)\n",
    "    \n",
    "    # Select example rows to display\n",
    "    predictions.select(\"prediction\", magnitud , \"F_%s\" % magnitud).show(5)\n",
    "    \n",
    "    # Select (prediction, true label) and compute test error\n",
    "    evaluator = RegressionEvaluator(\n",
    "        labelCol=magnitud, predictionCol=\"prediction\", metricName=\"r2\")\n",
    "    r2 = evaluator.evaluate(predictions)\n",
    "    print(\"R2 on test data = %g\" % r2)\n",
    "    \n",
    "    gbtModel = model.stages[1]\n",
    "    print(gbtModel) "
   ]
  },
  {
   "cell_type": "markdown",
   "metadata": {},
   "source": [
    "### [2.1.0] - Unimos las predicciones por magnitud"
   ]
  },
  {
   "cell_type": "code",
   "execution_count": 33,
   "metadata": {},
   "outputs": [],
   "source": [
    "df_prediccion = l_predicciones[0]"
   ]
  },
  {
   "cell_type": "code",
   "execution_count": 34,
   "metadata": {},
   "outputs": [],
   "source": [
    "for i in range(1,len(l_predicciones)):\n",
    "    df_prediccion = df_prediccion.join(l_predicciones[i],on= \"CODIGO_CORTO\",how='outer')"
   ]
  },
  {
   "cell_type": "code",
   "execution_count": 36,
   "metadata": {
    "scrolled": false
   },
   "outputs": [],
   "source": [
    "pd_prediccion = df_prediccion.toPandas()"
   ]
  },
  {
   "cell_type": "markdown",
   "metadata": {},
   "source": [
    "# [4] - FORMATO"
   ]
  },
  {
   "cell_type": "code",
   "execution_count": 39,
   "metadata": {},
   "outputs": [],
   "source": [
    "cols = pd_prediccion.columns.tolist()"
   ]
  },
  {
   "cell_type": "code",
   "execution_count": 40,
   "metadata": {},
   "outputs": [],
   "source": [
    "regex = reg.compile(\"P_\")\n",
    "cols_predicciones = [elem for elem in list(filter(regex.search,cols))]"
   ]
  },
  {
   "cell_type": "code",
   "execution_count": 44,
   "metadata": {
    "scrolled": true
   },
   "outputs": [],
   "source": [
    "cols = cols[0:1]+cols_predicciones"
   ]
  },
  {
   "cell_type": "code",
   "execution_count": 46,
   "metadata": {},
   "outputs": [],
   "source": [
    "pd_prediccion = pd_prediccion[cols]"
   ]
  },
  {
   "cell_type": "markdown",
   "metadata": {},
   "source": [
    "# [5] - EXPORTAR"
   ]
  },
  {
   "cell_type": "code",
   "execution_count": 50,
   "metadata": {},
   "outputs": [],
   "source": [
    "#Versiones\n",
    "hoy = datetime.date.today().strftime(\"%Y-%m-%d\")\n",
    "pd_prediccion.to_csv(\"/home/rulicering/Datos_Proyecto_Ozono/Procesado/Predicciones/BackUp/Prediccion-\" + hoy + \".csv\")"
   ]
  },
  {
   "cell_type": "code",
   "execution_count": 49,
   "metadata": {},
   "outputs": [],
   "source": [
    "pd_prediccion.to_csv(\"/home/rulicering/Datos_Proyecto_Ozono/Procesado/Predicciones/Prediccion-hoy.csv\")"
   ]
  },
  {
   "cell_type": "markdown",
   "metadata": {},
   "source": [
    "# [EXTRA] - CHECKEO"
   ]
  }
 ],
 "metadata": {
  "kernelspec": {
   "display_name": "Python 3",
   "language": "python",
   "name": "python3"
  },
  "language_info": {
   "codemirror_mode": {
    "name": "ipython",
    "version": 3
   },
   "file_extension": ".py",
   "mimetype": "text/x-python",
   "name": "python",
   "nbconvert_exporter": "python",
   "pygments_lexer": "ipython3",
   "version": "3.6.9"
  }
 },
 "nbformat": 4,
 "nbformat_minor": 4
}
