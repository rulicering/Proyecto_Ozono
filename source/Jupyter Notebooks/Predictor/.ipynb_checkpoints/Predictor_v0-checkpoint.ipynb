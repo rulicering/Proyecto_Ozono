{
 "cells": [
  {
   "cell_type": "markdown",
   "metadata": {},
   "source": [
    "# [o3]- Proyecto Ozono - Predictor_v0"
   ]
  },
  {
   "cell_type": "markdown",
   "metadata": {},
   "source": [
    "# [0] - Inicialización"
   ]
  },
  {
   "cell_type": "code",
   "execution_count": 1,
   "metadata": {},
   "outputs": [],
   "source": [
    "import findspark\n",
    "findspark.init('/home/rulicering/BigData/spark-2.4.5-bin-hadoop2.7')\n",
    "from pyspark.sql import SparkSession\n",
    "from pyspark.sql import functions as F\n",
    "from pyspark.sql.window import Window\n",
    "import pandas as pd\n",
    "from pyspark.sql.types import StructField,StringType,IntegerType,StructType,FloatType\n",
    "import re as reg\n",
    "import numpy as np\n",
    "import datetime\n",
    "\n",
    "#MlLib\n",
    "#from pyspark.ml.regression import LinearRegression\n",
    "from pyspark.ml import Pipeline\n",
    "from pyspark.ml.regression import GBTRegressor\n",
    "from pyspark.ml.feature import VectorIndexer\n",
    "from pyspark.ml.evaluation import RegressionEvaluator\n",
    "\n",
    "#Aux\n",
    "from pyspark.ml.linalg import Vectors\n",
    "from pyspark.ml.feature import VectorAssembler\n",
    "import os"
   ]
  },
  {
   "cell_type": "code",
   "execution_count": 2,
   "metadata": {},
   "outputs": [],
   "source": [
    "spark = SparkSession.builder.appName('predictor').getOrCreate()\n",
    "spark.sparkContext.setLogLevel('ERROR')"
   ]
  },
  {
   "cell_type": "markdown",
   "metadata": {},
   "source": [
    "# [1] Datos"
   ]
  },
  {
   "cell_type": "markdown",
   "metadata": {},
   "source": [
    "## [1.0] - Carga de ficheros (Datos, Predicción clima,  Calendario)\n",
    "    Se ejecuta el predictor a las 2 am del dia siguiente"
   ]
  },
  {
   "cell_type": "code",
   "execution_count": 3,
   "metadata": {},
   "outputs": [],
   "source": [
    "ayer = (datetime.date.today() + datetime.timedelta(days = -1)).strftime(\"%Y-%m-%d\")\n",
    "hoy = datetime.date.today().strftime(\"%Y-%m-%d\")"
   ]
  },
  {
   "cell_type": "code",
   "execution_count": 4,
   "metadata": {
    "scrolled": true
   },
   "outputs": [],
   "source": [
    "df_datos = spark.read.csv('/home/rulicering/Datos_Proyecto_Ozono/Procesado/Dato_Final/Datos.csv',inferSchema= True,header=True)\n",
    "df_clima_prediccion = spark.read.csv(\"/home/rulicering/Datos_Proyecto_Ozono/Procesado/Clima/Clima_Prediccion-\"+ hoy + \".csv\",inferSchema= True,header=True)\n",
    "df_calendario = spark.read.csv('/home/rulicering/Datos_Proyecto_Ozono/Procesado/Calendario/Calendario_2001-2020.csv',inferSchema= True,header=True)"
   ]
  },
  {
   "cell_type": "code",
   "execution_count": 5,
   "metadata": {},
   "outputs": [],
   "source": [
    "df_datos = df_datos.drop(\"_c0\")\n",
    "df_clima_prediccion = df_clima_prediccion.drop(\"_c0\")\n",
    "df_calendario = df_calendario.drop(\"_c0\")"
   ]
  },
  {
   "cell_type": "code",
   "execution_count": 6,
   "metadata": {},
   "outputs": [],
   "source": [
    "magnitudes= df_datos.columns[8:]\n",
    "magnitudes_clima = df_datos.columns[-5:]\n",
    "magnitudes_aire = df_datos.columns[8:-5]"
   ]
  },
  {
   "cell_type": "code",
   "execution_count": 7,
   "metadata": {},
   "outputs": [],
   "source": [
    "dic_clima = { \"VIENTO\":\"81\",\n",
    "                 \"DIRECCION\": \"82\",\n",
    "                 \"TEMPERATURA\": \"83\",\n",
    "                 \"PRESION\": \"87\",\n",
    "                 \"LLUVIA\":\"89\"\n",
    "}"
   ]
  },
  {
   "cell_type": "markdown",
   "metadata": {},
   "source": [
    "## [1.1] - Datos para prediccion - Prediccion clima + Calendario + Estaciones"
   ]
  },
  {
   "cell_type": "code",
   "execution_count": 8,
   "metadata": {},
   "outputs": [],
   "source": [
    "ayer = (datetime.date.today() + datetime.timedelta(days = -1)).strftime(\"%Y%m%d\")\n",
    "hoy = datetime.date.today().strftime(\"%Y%m%d\")"
   ]
  },
  {
   "cell_type": "code",
   "execution_count": 9,
   "metadata": {},
   "outputs": [],
   "source": [
    "df_estaciones_aire = df_datos.filter(df_datos[\"FECHA\"]== ayer).select(\"CODIGO_CORTO\")"
   ]
  },
  {
   "cell_type": "code",
   "execution_count": 10,
   "metadata": {},
   "outputs": [],
   "source": [
    "cod_estaciones_aire = [elem[0] for elem in df_estaciones_aire.collect()]"
   ]
  },
  {
   "cell_type": "code",
   "execution_count": 11,
   "metadata": {},
   "outputs": [],
   "source": [
    "cod_estaciones_aire.sort()"
   ]
  },
  {
   "cell_type": "code",
   "execution_count": 12,
   "metadata": {},
   "outputs": [],
   "source": [
    "df_hoy = df_calendario.filter(df_calendario[\"FECHA\"]== hoy)"
   ]
  },
  {
   "cell_type": "code",
   "execution_count": 13,
   "metadata": {},
   "outputs": [],
   "source": [
    "#Calendario + Magnitudes aire a null\n",
    "for magnitud in magnitudes_aire:\n",
    "    df_hoy = df_hoy.withColumn(magnitud,F.lit(None))"
   ]
  },
  {
   "cell_type": "code",
   "execution_count": 14,
   "metadata": {},
   "outputs": [],
   "source": [
    "#Calendario + Prediccion clima\n",
    "df_clima_hoy = df_hoy.join(df_clima_prediccion,on= \"FECHA\")"
   ]
  },
  {
   "cell_type": "code",
   "execution_count": 15,
   "metadata": {
    "scrolled": true
   },
   "outputs": [],
   "source": [
    "#Estaciones cross datos clima y calendario\n",
    "df_datos_hoy = df_estaciones_aire.crossJoin(df_clima_hoy)"
   ]
  },
  {
   "cell_type": "code",
   "execution_count": 16,
   "metadata": {},
   "outputs": [],
   "source": [
    "cols = df_datos_hoy.columns\n",
    "cols = cols[0:1] + cols[19:22]+ cols[1:5]+ cols[5:19] + cols[22:]"
   ]
  },
  {
   "cell_type": "code",
   "execution_count": 17,
   "metadata": {},
   "outputs": [],
   "source": [
    "df_datos_hoy = df_datos_hoy.select(cols)"
   ]
  },
  {
   "cell_type": "markdown",
   "metadata": {},
   "source": [
    "### [1.1.0] - Probabilidad lluvia -> Prediccion lluvia m/l2 + Presion dia anterior\n",
    "    Si la probabilidad es > 50%:\n",
    "        se hace la media por estacion del historial de precipitaciones\n",
    "        cogiendo datos de +-10 días al dia de hoy de cada año anterior"
   ]
  },
  {
   "cell_type": "code",
   "execution_count": 18,
   "metadata": {},
   "outputs": [],
   "source": [
    "def probabilidad_a_lluvia_presion_ayer_aire_a_null(df_datos,df_datos_hoy):\n",
    "    mes_dia_min = (datetime.date.today() +  datetime.timedelta(days = -10)).strftime(\"%m%d\")\n",
    "    mes_dia_max = (datetime.date.today() +  datetime.timedelta(days = 10)).strftime(\"%m%d\")\n",
    "    df_historial = df_datos.filter((df_datos[\"FECHA\"]%1000 >= mes_dia_min) & (df_datos[\"FECHA\"]%1000 <= mes_dia_max))\n",
    "    df_datos_hoy = df_datos_hoy.drop('%' + dic_clima[\"LLUVIA\"])\n",
    "    l_df = []\n",
    "    for estacion in cod_estaciones_aire:\n",
    "        df_datos_hoy_estacion = df_datos_hoy.filter(df_datos_hoy[\"CODIGO_CORTO\"]==estacion)\n",
    "        aux = df_historial.filter(df_historial[\"CODIGO_CORTO\"]== estacion).select(\"FECHA\",dic_clima[\"PRESION\"],dic_clima[\"LLUVIA\"]).na.drop()\n",
    "        #Precipitacions\n",
    "        prob_lluvia_hoy = df_clima_prediccion.select(\"%\" +dic_clima[\"LLUVIA\"]).collect()[0][0]\n",
    "        prec = 0\n",
    "        if(float(prob_lluvia_hoy) > 50):\n",
    "            try:\n",
    "                prec = aux.filter(aux[dic_clima[\"LLUVIA\"]] >0).select(dic_clima[\"LLUVIA\"]).groupBy().mean().collect()[0][0]\n",
    "            except:\n",
    "                print(\"[WARN]: No hay lluvias historicas en ese rango de fechas\")\n",
    "        df_datos_hoy_estacion = df_datos_hoy_estacion.withColumn(dic_clima[\"LLUVIA\"],F.lit(prec))\n",
    "            \n",
    "        #Presion\n",
    "        ayer = (datetime.date.today() + datetime.timedelta(days= -1)).strftime(\"%Y%m%d\")\n",
    "        presion_ayer = aux.filter(aux[\"FECHA\"]==ayer).select(dic_clima[\"PRESION\"]).collect()[0][0]\n",
    "        df_datos_hoy_estacion = df_datos_hoy_estacion.withColumn(dic_clima[\"PRESION\"],F.lit(presion_ayer))\n",
    "\n",
    "        l_df.append(df_datos_hoy_estacion)\n",
    "        \n",
    "    df_datos_hoy = l_df[0]\n",
    "    for i in range(1,len(l_df)):\n",
    "        df_datos_hoy = df_datos_hoy.union(l_df[i])\n",
    "    return df_datos_hoy"
   ]
  },
  {
   "cell_type": "code",
   "execution_count": 19,
   "metadata": {
    "scrolled": true
   },
   "outputs": [],
   "source": [
    "df_datos_hoy = probabilidad_a_lluvia_presion_ayer_aire_a_null(df_datos,df_datos_hoy)"
   ]
  },
  {
   "cell_type": "markdown",
   "metadata": {},
   "source": [
    "## [1.2] - Union Datos + Datos hoy"
   ]
  },
  {
   "cell_type": "code",
   "execution_count": 20,
   "metadata": {
    "scrolled": true
   },
   "outputs": [],
   "source": [
    "df_datos= df_datos.union(df_datos_hoy)"
   ]
  },
  {
   "cell_type": "markdown",
   "metadata": {},
   "source": [
    "## [1.3] - Dar cada fila de datos +  contaminacion ayer"
   ]
  },
  {
   "cell_type": "code",
   "execution_count": 21,
   "metadata": {},
   "outputs": [],
   "source": [
    "ventana = Window.partitionBy(\"CODIGO_CORTO\").orderBy(\"FECHA\")"
   ]
  },
  {
   "cell_type": "code",
   "execution_count": 22,
   "metadata": {},
   "outputs": [],
   "source": [
    "for magnitud in magnitudes_aire:\n",
    "    df_datos = df_datos.withColumn(\"A_%s\"%magnitud, F.lag(magnitud,1,None).over(ventana))"
   ]
  },
  {
   "cell_type": "markdown",
   "metadata": {},
   "source": [
    "## [1.4] - Tipos\n",
    "    \n",
    "    CODIGO_CORTO -> INTEGER\n",
    "    ANO -> INTEGER\n",
    "    MES -> INTEGER\n",
    "    DIA -> INTEGER\n",
    "    FECHA -> INTEGER\n",
    "    DIASEMANA -> INTEGER\n",
    "    TIPODIA -> INTEGER\n",
    "    CONFINAMIENTO -> INTEGER\n",
    "    MEDICIONES -> DOUBLE"
   ]
  },
  {
   "cell_type": "markdown",
   "metadata": {},
   "source": [
    "# [2] - PREDICCIONES\n",
    "    \n",
    "    Se hace 1 a 1 para cada magnitud de contaminación\n",
    "    "
   ]
  },
  {
   "cell_type": "code",
   "execution_count": 23,
   "metadata": {},
   "outputs": [],
   "source": [
    "cols_comunes = df_datos.columns[0:8] + magnitudes_clima"
   ]
  },
  {
   "cell_type": "code",
   "execution_count": 24,
   "metadata": {
    "scrolled": false
   },
   "outputs": [
    {
     "data": {
      "text/plain": [
       "[('CODIGO_CORTO', 'int'),\n",
       " ('ANO', 'int'),\n",
       " ('MES', 'int'),\n",
       " ('DIA', 'int'),\n",
       " ('FECHA', 'int'),\n",
       " ('DIASEMANA', 'int'),\n",
       " ('TIPODIA', 'int'),\n",
       " ('CONFINAMIENTO', 'int'),\n",
       " ('1', 'double'),\n",
       " ('10', 'double'),\n",
       " ('12', 'double'),\n",
       " ('14', 'double'),\n",
       " ('20', 'double'),\n",
       " ('30', 'double'),\n",
       " ('35', 'double'),\n",
       " ('42', 'double'),\n",
       " ('43', 'double'),\n",
       " ('44', 'double'),\n",
       " ('6', 'double'),\n",
       " ('7', 'double'),\n",
       " ('8', 'double'),\n",
       " ('9', 'double'),\n",
       " ('81', 'double'),\n",
       " ('82', 'double'),\n",
       " ('83', 'double'),\n",
       " ('87', 'double'),\n",
       " ('89', 'double'),\n",
       " ('A_1', 'double'),\n",
       " ('A_10', 'double'),\n",
       " ('A_12', 'double'),\n",
       " ('A_14', 'double'),\n",
       " ('A_20', 'double'),\n",
       " ('A_30', 'double'),\n",
       " ('A_35', 'double'),\n",
       " ('A_42', 'double'),\n",
       " ('A_43', 'double'),\n",
       " ('A_44', 'double'),\n",
       " ('A_6', 'double'),\n",
       " ('A_7', 'double'),\n",
       " ('A_8', 'double'),\n",
       " ('A_9', 'double')]"
      ]
     },
     "execution_count": 24,
     "metadata": {},
     "output_type": "execute_result"
    }
   ],
   "source": [
    "df_datos.dtypes"
   ]
  },
  {
   "cell_type": "markdown",
   "metadata": {},
   "source": [
    "## [2.1] - GBT"
   ]
  },
  {
   "cell_type": "code",
   "execution_count": 25,
   "metadata": {
    "scrolled": true
   },
   "outputs": [
    {
     "name": "stdout",
     "output_type": "stream",
     "text": [
      "==================== 1 ====================\n",
      "+------------+------------------+--------------------+\n",
      "|CODIGO_CORTO|               P_1|                 F_1|\n",
      "+------------+------------------+--------------------+\n",
      "|          40| 3.920354399280089|[40.0,2020.0,5.0,...|\n",
      "|          57|6.0513442100177075|[57.0,2020.0,5.0,...|\n",
      "|          17| 7.885997202619578|[17.0,2020.0,5.0,...|\n",
      "|          35| 5.114870191234921|[35.0,2020.0,5.0,...|\n",
      "|           4|3.0047178310847142|[4.0,2020.0,5.0,2...|\n",
      "|           8| 8.026510764117331|[8.0,2020.0,5.0,2...|\n",
      "|          38|  6.08095776887892|[38.0,2020.0,5.0,...|\n",
      "|          24| 5.049456190216865|[24.0,2020.0,5.0,...|\n",
      "|          18| 8.003940268677377|[18.0,2020.0,5.0,...|\n",
      "|          36|  6.08095776887892|[36.0,2020.0,5.0,...|\n",
      "+------------+------------------+--------------------+\n",
      "\n"
     ]
    }
   ],
   "source": [
    "l_predicciones = []\n",
    "for magnitud in magnitudes_aire:\n",
    "    print(\"=\"*20, magnitud, \"=\"*20)\n",
    "    cols_comunes = df_datos.columns[0:8] + magnitudes_clima\n",
    "    cols_features = cols_comunes + [\"A_%s\"%magnitud]\n",
    "\n",
    "    #Limpiamos las filas con el dato para esa magnitud a Null\n",
    "    cols_y_magnitud = cols_features + [magnitud]\n",
    "    df_datos_magnitud_calculados = df_datos.filter(df_datos[\"FECHA\"] <hoy).select(cols_y_magnitud).na.drop()\n",
    "    df_datos_magnitud_hoy = df_datos.filter(df_datos[\"FECHA\"] == hoy).select(cols_y_magnitud).na.drop(subset = \"A_%s\"%magnitud)\n",
    "    #df_datos_magnitud = df_datos_magnitud_calculados.union(df_datos_magnitud_hoy)\n",
    "    \n",
    "    #Assembles to create features column\n",
    "    assembler = VectorAssembler(inputCols = cols_features, outputCol = \"F_%s\" % magnitud)\n",
    "    data_assembled = assembler.transform(df_datos_magnitud_calculados)\n",
    "    data_to_predict_assembled = assembler.transform(df_datos_magnitud_hoy)\n",
    "    \n",
    "    #Seleccionamos las filas que vamos a utilizar\n",
    "    trainingData = data_assembled.select(\"CODIGO_CORTO\",\"F_%s\" %magnitud, magnitud)\n",
    "    data_to_predict = data_to_predict_assembled.select(\"CODIGO_CORTO\",\"F_%s\" %magnitud, magnitud)\n",
    "\n",
    "    # Train a GBT model.\n",
    "    gbt = GBTRegressor(featuresCol=\"F_%s\" % magnitud, labelCol=magnitud,maxIter=20,predictionCol=\"P_%s\" %magnitud)\n",
    "        \n",
    "    # Train model.  This also runs the indexer.\n",
    "    model = gbt.fit(trainingData)\n",
    "    \n",
    "    # Make predictions.\n",
    "    predictions = model.transform(data_to_predict)\n",
    "    \n",
    "    # Select example rows to display\n",
    "    predictions.select(\"CODIGO_CORTO\",\"P_%s\" %magnitud,\"F_%s\" % magnitud).show()\n",
    "    l_predicciones.append(predictions)\n",
    "    "
   ]
  },
  {
   "cell_type": "markdown",
   "metadata": {},
   "source": [
    "### [2.1.0] - Unimos las predicciones por magnitud"
   ]
  },
  {
   "cell_type": "code",
   "execution_count": 26,
   "metadata": {},
   "outputs": [],
   "source": [
    "df_prediccion = l_predicciones[0]"
   ]
  },
  {
   "cell_type": "code",
   "execution_count": 27,
   "metadata": {},
   "outputs": [],
   "source": [
    "for i in range(1,len(l_predicciones)):\n",
    "    df_prediccion = df_prediccion.join(l_predicciones[i],on= \"CODIGO_CORTO\",how='outer')"
   ]
  },
  {
   "cell_type": "code",
   "execution_count": 28,
   "metadata": {
    "scrolled": false
   },
   "outputs": [],
   "source": [
    "pd_prediccion = df_prediccion.toPandas()"
   ]
  },
  {
   "cell_type": "markdown",
   "metadata": {},
   "source": [
    "# [4] - FORMATO"
   ]
  },
  {
   "cell_type": "code",
   "execution_count": 29,
   "metadata": {},
   "outputs": [],
   "source": [
    "cols = pd_prediccion.columns.tolist()"
   ]
  },
  {
   "cell_type": "code",
   "execution_count": 30,
   "metadata": {},
   "outputs": [],
   "source": [
    "regex = reg.compile(\"P_\")\n",
    "cols_predicciones = [elem for elem in list(filter(regex.search,cols))]"
   ]
  },
  {
   "cell_type": "code",
   "execution_count": 31,
   "metadata": {
    "scrolled": true
   },
   "outputs": [],
   "source": [
    "cols = cols[0:1]+cols_predicciones"
   ]
  },
  {
   "cell_type": "code",
   "execution_count": 32,
   "metadata": {},
   "outputs": [],
   "source": [
    "pd_prediccion = pd_prediccion[cols]"
   ]
  },
  {
   "cell_type": "markdown",
   "metadata": {},
   "source": [
    "# [5] - EXPORTAR"
   ]
  },
  {
   "cell_type": "code",
   "execution_count": null,
   "metadata": {},
   "outputs": [],
   "source": [
    "ayer = (datetime.date.today() + datetime.timedelta(days = -1)).strftime(\"%Y-%m-%d\")\n",
    "hoy = datetime.date.today().strftime(\"%Y-%m-%d\")"
   ]
  },
  {
   "cell_type": "code",
   "execution_count": null,
   "metadata": {},
   "outputs": [],
   "source": [
    "#BackUp\n",
    "pd_prediccion.to_csv(\"/home/rulicering/Datos_Proyecto_Ozono/Procesado/Predicciones/BackUp/Prediccion-\" + hoy + \".csv\")"
   ]
  },
  {
   "cell_type": "code",
   "execution_count": null,
   "metadata": {
    "scrolled": true
   },
   "outputs": [],
   "source": [
    "pd_prediccion.to_csv(\"/home/rulicering/Datos_Proyecto_Ozono/Procesado/Predicciones/Prediccion-\" + hoy + \".csv\")\n",
    "print(\"[INFO] - Prediccion-\"+ hoy+\".csv --- Generated successfully\")"
   ]
  },
  {
   "cell_type": "code",
   "execution_count": null,
   "metadata": {},
   "outputs": [],
   "source": [
    "#Borrar la de ayer\n",
    "try:\n",
    "    os.remove(\"/home/rulicering/Datos_Proyecto_Ozono/Procesado/Predicciones/Prediccion-\" + ayer + \".csv\")\n",
    "    print(\"[INFO] - Prediccion-\"+ ayer +\".csv --- Removed successfully\")\n",
    "except:\n",
    "    print(\"[ERROR] - Prediccion-\"+ ayer +\".csv --- Could not been removed\")"
   ]
  }
 ],
 "metadata": {
  "kernelspec": {
   "display_name": "Python 3",
   "language": "python",
   "name": "python3"
  },
  "language_info": {
   "codemirror_mode": {
    "name": "ipython",
    "version": 3
   },
   "file_extension": ".py",
   "mimetype": "text/x-python",
   "name": "python",
   "nbconvert_exporter": "python",
   "pygments_lexer": "ipython3",
   "version": "3.6.9"
  }
 },
 "nbformat": 4,
 "nbformat_minor": 4
}
