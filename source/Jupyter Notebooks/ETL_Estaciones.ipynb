{
 "cells": [
  {
   "cell_type": "markdown",
   "metadata": {},
   "source": [
    "# [o3] - Proyecto Ozono - ETL_Estaciones  - v0"
   ]
  },
  {
   "cell_type": "markdown",
   "metadata": {},
   "source": [
    "#Origenes\n",
    "\n",
    "Aire : https://datos.madrid.es/portal/site/egob/menuitem.c05c1f754a33a9fbe4b2e4b284f1a5a0/?vgnextoid=9e42c176313eb410VgnVCM1000000b205a0aRCRD&vgnextchannel=374512b9ace9f310VgnVCM100000171f5a0aRCRD&vgnextfmt=default\n",
    "\n",
    "Tiempo: https://datos.madrid.es/sites/v/index.jsp?vgnextoid=2ac5be53b4d2b610VgnVCM2000001f4a900aRCRD&vgnextchannel=374512b9ace9f310VgnVCM100000171f5a0aRCRD"
   ]
  },
  {
   "cell_type": "markdown",
   "metadata": {},
   "source": [
    "## [0] - Librerias"
   ]
  },
  {
   "cell_type": "code",
   "execution_count": 135,
   "metadata": {
    "scrolled": true
   },
   "outputs": [],
   "source": [
    "import findspark\n",
    "findspark.init('/home/rulicering/BigData/spark-2.4.5-bin-hadoop2.7')\n",
    "from pyspark.sql import SparkSession\n",
    "import pandas as pd"
   ]
  },
  {
   "cell_type": "markdown",
   "metadata": {},
   "source": [
    "## [1] - Inicializar sesión de Spark"
   ]
  },
  {
   "cell_type": "code",
   "execution_count": 136,
   "metadata": {},
   "outputs": [],
   "source": [
    "spark = SparkSession.builder.appName('estaciones').getOrCreate()"
   ]
  },
  {
   "cell_type": "markdown",
   "metadata": {},
   "source": [
    "## [2] - Carga fichero Aire"
   ]
  },
  {
   "cell_type": "code",
   "execution_count": 137,
   "metadata": {},
   "outputs": [],
   "source": [
    "# https://datos.madrid.es/egob/catalogo/212629-0-estaciones-control-aire.xls"
   ]
  },
  {
   "cell_type": "code",
   "execution_count": 138,
   "metadata": {},
   "outputs": [],
   "source": [
    "pd_aire = pd.read_excel(\"https://datos.madrid.es/egob/catalogo/212629-0-estaciones-control-aire.xls\")"
   ]
  },
  {
   "cell_type": "code",
   "execution_count": 141,
   "metadata": {},
   "outputs": [],
   "source": [
    "pd_aire = pd_aire[['CODIGO_CORTO', 'ESTACION', 'DIRECCION', 'LONGITUD_ETRS89',\n",
    "       'LATITUD_ETRS89', 'ALTITUD','LONGITUD', 'LATITUD']]\n",
    "pd_aire[\"MIDE_AIRE\"] = 1"
   ]
  },
  {
   "cell_type": "code",
   "execution_count": 143,
   "metadata": {},
   "outputs": [
    {
     "name": "stdout",
     "output_type": "stream",
     "text": [
      "Número de estaciones medición calidad del aire: 24\n",
      "[4, 'Pza. de España']\n",
      "[8, 'Escuelas Aguirre']\n",
      "[11, 'Avda. Ramón y Cajal']\n",
      "[16, 'Arturo Soria']\n",
      "[17, 'Villaverde']\n",
      "[18, 'Farolillo']\n",
      "[24, 'Casa de Campo']\n",
      "[27, 'Barajas Pueblo']\n",
      "[35, 'Pza. del Carmen']\n",
      "[36, 'Moratalaz']\n",
      "[38, 'Cuatro Caminos']\n",
      "[39, 'Barrio del Pilar']\n",
      "[40, 'Vallecas']\n",
      "[47, 'Mendez Alvaro']\n",
      "[48, 'Castellana']\n",
      "[49, 'Parque del Retiro']\n",
      "[50, 'Plaza Castilla']\n",
      "[54, 'Ensanche de Vallecas']\n",
      "[55, 'Urb. Embajada']\n",
      "[56, 'Pza. Elíptica']\n",
      "[57, 'Sanchinarro']\n",
      "[58, 'El Pardo']\n",
      "[59, 'Juan Carlos I']\n",
      "[60, 'Tres Olivos']\n"
     ]
    }
   ],
   "source": [
    "print(\"Número de estaciones medición calidad del aire: %d\" % pd_aire[\"ESTACION\"].count())\n",
    "\n",
    "for elem in pd_aire[[\"CODIGO_CORTO\", \"ESTACION\"]].values.tolist():\n",
    "    print(elem)"
   ]
  },
  {
   "cell_type": "markdown",
   "metadata": {},
   "source": [
    "## [3] -  Carga fichero Tiempo"
   ]
  },
  {
   "cell_type": "code",
   "execution_count": 144,
   "metadata": {},
   "outputs": [],
   "source": [
    "#https://datos.madrid.es/egob/catalogo/300360-0-meteorologicos-estaciones.xls"
   ]
  },
  {
   "cell_type": "code",
   "execution_count": 145,
   "metadata": {},
   "outputs": [],
   "source": [
    "pd_tiempo = pd.read_excel(\"https://datos.madrid.es/egob/catalogo/300360-0-meteorologicos-estaciones.xls\")"
   ]
  },
  {
   "cell_type": "code",
   "execution_count": 150,
   "metadata": {},
   "outputs": [],
   "source": [
    "pd_tiempo = pd_tiempo[['CÓDIGO_CORTO', 'ESTACIÓN', 'DIRECCIÓN', 'LONGITUD_ETRS89',\n",
    "       'LATITUD_ETRS89', 'ALTITUD','LONGITUD', 'LATITUD']]\n",
    "pd_tiempo[\"MIDE_CLIMA\"] = 1"
   ]
  },
  {
   "cell_type": "code",
   "execution_count": 151,
   "metadata": {},
   "outputs": [],
   "source": [
    "#Modificamos los nombres de las columnas -> sin tildes para que cuadre luego al hacer el join\n",
    "pd_tiempo = pd_tiempo.rename(columns = {\"CÓDIGO_CORTO\" : \"CODIGO_CORTO\",'ESTACIÓN': 'ESTACION', 'DIRECCIÓN':'DIRECCION'})"
   ]
  },
  {
   "cell_type": "code",
   "execution_count": 153,
   "metadata": {
    "scrolled": true
   },
   "outputs": [
    {
     "name": "stdout",
     "output_type": "stream",
     "text": [
      "Número de estaciones medición clima: 26\n",
      "[4, 'Plaza España']\n",
      "[8, 'Escuelas Aguirre']\n",
      "[16, 'Arturo Soria']\n",
      "[18, 'Farolillo']\n",
      "[24, 'Casa de Campo']\n",
      "[35, 'Plaza del Carmen']\n",
      "[36, 'Moratalaz']\n",
      "[38, 'Cuatro Caminos']\n",
      "[39, 'Barrio del Pilar']\n",
      "[54, 'Ensanche de Vallecas']\n",
      "[56, 'Plaza Elíptica']\n",
      "[58, 'El Pardo']\n",
      "[59, 'Juan Carlos I']\n",
      "[102, 'J.M.D. Moratalaz']\n",
      "[103, 'J.M.D. Villaverde']\n",
      "[104, 'E.D.A.R. La China']\n",
      "[106, 'Centro Mpal. De Acústica']\n",
      "[107, 'J.M.D. Hortaleza']\n",
      "[108, 'Peñagrande']\n",
      "[109, 'J.M.D.Chamberí']\n",
      "[110, 'J.M.D.Centro']\n",
      "[111, 'J.M.D.Chamartin']\n",
      "[112, 'J.M.D.Vallecas 1']\n",
      "[113, 'J.M.D.Vallecas 2']\n",
      "[114, 'Matadero 01']\n",
      "[115, 'Matadero 02']\n"
     ]
    }
   ],
   "source": [
    "print(\"Número de estaciones medición clima: %d\" % pd_tiempo[\"ESTACION\"].count())\n",
    "\n",
    "for elem in pd_tiempo[[\"CODIGO_CORTO\", \"ESTACION\"]].values.tolist():\n",
    "    print(elem)"
   ]
  },
  {
   "cell_type": "markdown",
   "metadata": {},
   "source": [
    "## [4] - MERGE"
   ]
  },
  {
   "cell_type": "code",
   "execution_count": 159,
   "metadata": {},
   "outputs": [],
   "source": [
    "#pd_final = pd_aire.join(pd_tiempo,lsuffix = \"_aire\",rsuffix = \"_tiempo\", on =[\"CODIGO_CORTO\"], how = \"outer\", sort = True) \n",
    "# No tienen el mismo tipo las columnas de Código corto en ambos datasets\n",
    "\n",
    "pd_final = pd_aire.merge(pd_tiempo, on =['CODIGO_CORTO', 'ESTACION', 'DIRECCION', 'LONGITUD_ETRS89',\n",
    "       'LATITUD_ETRS89', 'ALTITUD', 'LONGITUD', 'LATITUD'], how = \"outer\")"
   ]
  },
  {
   "cell_type": "code",
   "execution_count": 160,
   "metadata": {
    "scrolled": false
   },
   "outputs": [
    {
     "data": {
      "text/plain": [
       "41"
      ]
     },
     "execution_count": 160,
     "metadata": {},
     "output_type": "execute_result"
    }
   ],
   "source": [
    "#pd_final[\"CODIGO_CORTO\"].count()"
   ]
  },
  {
   "cell_type": "markdown",
   "metadata": {},
   "source": [
    "## [5] - ELIMINAMOS DUPLICADOS"
   ]
  },
  {
   "cell_type": "code",
   "execution_count": 166,
   "metadata": {},
   "outputs": [],
   "source": [
    "pd_final.duplicated([\"CODIGO_CORTO\"])\n",
    "pd_final = pd_final.drop_duplicates([\"CODIGO_CORTO\"],keep='first')"
   ]
  },
  {
   "cell_type": "code",
   "execution_count": 167,
   "metadata": {
    "scrolled": true
   },
   "outputs": [
    {
     "data": {
      "text/plain": [
       "37"
      ]
     },
     "execution_count": 167,
     "metadata": {},
     "output_type": "execute_result"
    }
   ],
   "source": [
    "#pd_final[\"CODIGO_CORTO\"].count()"
   ]
  },
  {
   "cell_type": "markdown",
   "metadata": {},
   "source": [
    "## [6] - NULL -> 0"
   ]
  },
  {
   "cell_type": "code",
   "execution_count": 171,
   "metadata": {},
   "outputs": [],
   "source": [
    "pd_final = pd_final.fillna(0)"
   ]
  },
  {
   "cell_type": "markdown",
   "metadata": {},
   "source": [
    "## [7] - EXPORTAMOS"
   ]
  },
  {
   "cell_type": "code",
   "execution_count": 172,
   "metadata": {},
   "outputs": [],
   "source": [
    "pd_final.to_csv(\"/home/rulicering/Datos_Proyecto_Ozono/Procesado/Estaciones.csv\")"
   ]
  }
 ],
 "metadata": {
  "kernelspec": {
   "display_name": "Python 3",
   "language": "python",
   "name": "python3"
  },
  "language_info": {
   "codemirror_mode": {
    "name": "ipython",
    "version": 3
   },
   "file_extension": ".py",
   "mimetype": "text/x-python",
   "name": "python",
   "nbconvert_exporter": "python",
   "pygments_lexer": "ipython3",
   "version": "3.6.9"
  }
 },
 "nbformat": 4,
 "nbformat_minor": 4
}
