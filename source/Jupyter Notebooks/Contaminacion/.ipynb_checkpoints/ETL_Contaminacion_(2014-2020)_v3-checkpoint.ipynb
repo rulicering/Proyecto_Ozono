{
 "cells": [
  {
   "cell_type": "markdown",
   "metadata": {},
   "source": [
    "# [o3]- Proyecto Ozono - ETL_Contaminación - v3"
   ]
  },
  {
   "cell_type": "markdown",
   "metadata": {},
   "source": [
    "## [0] - Librerias"
   ]
  },
  {
   "cell_type": "code",
   "execution_count": 2,
   "metadata": {},
   "outputs": [],
   "source": [
    "import findspark\n",
    "findspark.init('/home/rulicering/BigData/spark-2.4.5-bin-hadoop2.7')\n",
    "from pyspark.sql import SparkSession\n",
    "from pyspark.sql.types import StructField,StringType,IntegerType,FloatType,StructType\n",
    "from pyspark.ml.feature import StringIndexer\n",
    "from pyspark.sql import functions as F\n",
    "import pandas as pd\n",
    "import requests"
   ]
  },
  {
   "cell_type": "markdown",
   "metadata": {},
   "source": [
    "## [1] -  Inicializar sesión de Spark"
   ]
  },
  {
   "cell_type": "code",
   "execution_count": 3,
   "metadata": {},
   "outputs": [],
   "source": [
    "spark = SparkSession.builder.appName('contaminacion').getOrCreate()"
   ]
  },
  {
   "cell_type": "markdown",
   "metadata": {},
   "source": [
    "## [2] - Origenes de datos"
   ]
  },
  {
   "cell_type": "code",
   "execution_count": 4,
   "metadata": {},
   "outputs": [],
   "source": [
    "anos= [2014,2015,2016,2017,2018,2019,2020]\n",
    "urls =[\"https://datos.madrid.es/egob/catalogo/201410-10306578-calidad-aire-diario.csv\",\n",
    "       \"https://datos.madrid.es/egob/catalogo/201410-10306576-calidad-aire-diario.csv\",\n",
    "       \"https://datos.madrid.es/egob/catalogo/201410-10306574-calidad-aire-diario.csv\",\n",
    "       \"https://datos.madrid.es/egob/catalogo/201410-7775098-calidad-aire-diario.csv\",\n",
    "       \"https://datos.madrid.es/egob/catalogo/201410-7775096-calidad-aire-diario.csv\",\n",
    "       \"https://datos.madrid.es/egob/catalogo/201410-10306606-calidad-aire-diario.csv\",\n",
    "       \"https://datos.madrid.es/egob/catalogo/201410-10306609-calidad-aire-diario.csv\"  \n",
    "]"
   ]
  },
  {
   "cell_type": "code",
   "execution_count": 5,
   "metadata": {},
   "outputs": [],
   "source": [
    "def pd_read_to_df(url):\n",
    "    pdf = pd.read_csv(url,sep=';')\n",
    "    df = spark.createDataFrame(pdf)\n",
    "    return df"
   ]
  },
  {
   "cell_type": "code",
   "execution_count": 6,
   "metadata": {},
   "outputs": [],
   "source": [
    "lista = [pd_read_to_df(urls[i])for i in range(len(anos))]"
   ]
  },
  {
   "cell_type": "code",
   "execution_count": 7,
   "metadata": {
    "scrolled": true
   },
   "outputs": [],
   "source": [
    "df = lista[0]\n",
    "for i in range(1,len(lista)):\n",
    "    df=df.union(lista[i])"
   ]
  },
  {
   "cell_type": "markdown",
   "metadata": {},
   "source": [
    "## [3] - [ESTACION,MAGNITUD,ANO,MES,DATO_DIA1,VALIDO,DATO_DIA2,VALIDO...]"
   ]
  },
  {
   "cell_type": "code",
   "execution_count": 8,
   "metadata": {},
   "outputs": [],
   "source": [
    "#Eliminamos columnas no esenciales\n",
    "df = df.select('ESTACION','MAGNITUD','ANO','MES','D01','V01','D02','V02','D03','V03','D04','V04','D05','V05','D06','V06','D07','V07','D08','V08','D09','V09','D10','V10','D11','V11','D12','V12','D13','V13','D14','V14','D15','V15','D16','V16','D17','V17','D18','V18','D19','V19','D20','V20','D21','V21','D22','V22','D23','V23','D24','V24','D25','V25','D26','V26','D27','V27','D28','V28','D29','V29','D30','V30','D31','V31')"
   ]
  },
  {
   "cell_type": "markdown",
   "metadata": {},
   "source": [
    "## [4] - Esquema para nuevo DF"
   ]
  },
  {
   "cell_type": "code",
   "execution_count": 9,
   "metadata": {},
   "outputs": [],
   "source": [
    "data_schema = [StructField('ESTACION',IntegerType(), False), \n",
    "              StructField('MAGNITUD',IntegerType(), False),\n",
    "              StructField('ANO',IntegerType(), False),\n",
    "              StructField('MES',IntegerType(), False),\n",
    "              StructField('VALOR',FloatType(), True),\n",
    "              StructField('VALIDO',IntegerType(), False),\n",
    "              StructField('DIA',IntegerType(), False)]\n",
    "struct = StructType(fields = data_schema)"
   ]
  },
  {
   "cell_type": "markdown",
   "metadata": {},
   "source": [
    "## [5] - Creamos nuevo DF"
   ]
  },
  {
   "cell_type": "code",
   "execution_count": 10,
   "metadata": {},
   "outputs": [],
   "source": [
    "df_v1 = spark.createDataFrame(spark.sparkContext.emptyRDD(),struct)"
   ]
  },
  {
   "cell_type": "markdown",
   "metadata": {},
   "source": [
    "## [6] - Incluimos datos -> [ESTACION,MAGNITUD,ANO,MES,DIA,FECHA,VALOR,VALIDO]"
   ]
  },
  {
   "cell_type": "code",
   "execution_count": 11,
   "metadata": {},
   "outputs": [],
   "source": [
    "for i in range(1,32): #Días  \n",
    "    valor = 'D%02d' % i\n",
    "    valido = 'V%02d' % i\n",
    "    df_v1 = df_v1.union(df.select(\"ESTACION\",\"MAGNITUD\",\"ANO\",\"MES\",valor,valido).withColumn('DIA', F.lit(i)))\n",
    "\n",
    "df = df_v1\n"
   ]
  },
  {
   "cell_type": "code",
   "execution_count": 12,
   "metadata": {},
   "outputs": [],
   "source": [
    "df = df.withColumn(\"FECHA\",df[\"ANO\"]*10000 + df[\"MES\"]*100 + df[\"DIA\"])"
   ]
  },
  {
   "cell_type": "code",
   "execution_count": 13,
   "metadata": {},
   "outputs": [],
   "source": [
    "#Colocar las columnas\n",
    "cols = df.columns\n",
    "cols = cols[:4] + cols[-2:] + cols[-4:-2]\n",
    "df= df[cols]"
   ]
  },
  {
   "cell_type": "markdown",
   "metadata": {},
   "source": [
    "## [8] - \"VALOR\" ? \"VALIDO\" -> \"VALOR VALIDADO\""
   ]
  },
  {
   "cell_type": "code",
   "execution_count": 14,
   "metadata": {},
   "outputs": [],
   "source": [
    "df = df.withColumn(\"VALOR VALIDADO\",F.when(F.col(\"VALIDO\")== 'N',None).otherwise(F.col(\"VALOR\")) )\n",
    "df = df.select(\"ESTACION\",\"MAGNITUD\",\"ANO\",\"MES\",\"DIA\",\"FECHA\",df[\"VALOR VALIDADO\"].alias(\"VALOR\"))"
   ]
  },
  {
   "cell_type": "markdown",
   "metadata": {},
   "source": [
    "## [9] - [ESTACION, AÑO,MES,DIA,FECHA,VALOR_M1,VALOR_M2...VALOR_MN]"
   ]
  },
  {
   "cell_type": "code",
   "execution_count": 15,
   "metadata": {},
   "outputs": [],
   "source": [
    "df = df.groupBy('ESTACION','ANO', 'MES', 'DIA',\"FECHA\").pivot(\"MAGNITUD\").sum(\"VALOR\").orderBy(\"FECHA\")"
   ]
  },
  {
   "cell_type": "markdown",
   "metadata": {},
   "source": [
    "## [10] - Limpiar datos: Meses 31 días + Meses 30 días + Febreros"
   ]
  },
  {
   "cell_type": "code",
   "execution_count": 16,
   "metadata": {},
   "outputs": [],
   "source": [
    "#Esto se puede hacer en el paso 6\n",
    "df_31 = df.filter(df[\"MES\"].isin([1,3,5,7,8,10,12]))\n",
    "df_30 = df.filter((df[\"MES\"].isin([4,6,9,11])) & (df[\"DIA\"] <31))\n",
    "df_feb = df.filter((df[\"MES\"] == 2) & (df[\"DIA\"] <30)) #Para no excluir los bisiestos\n",
    "df = df_31.union(df_30).union(df_feb)"
   ]
  },
  {
   "cell_type": "code",
   "execution_count": 32,
   "metadata": {
    "scrolled": false
   },
   "outputs": [],
   "source": [
    "#df.printSchema()"
   ]
  },
  {
   "cell_type": "code",
   "execution_count": 18,
   "metadata": {
    "scrolled": true
   },
   "outputs": [],
   "source": [
    "df = df.withColumn(\"ESTACION\",df[\"ESTACION\"].cast(StringType()))"
   ]
  },
  {
   "cell_type": "markdown",
   "metadata": {},
   "source": [
    "## Darles grupo -> Al unir CONTAMINACION + CLIMA"
   ]
  },
  {
   "cell_type": "markdown",
   "metadata": {},
   "source": [
    "### Columnas de grupo:\n",
    "    2014-2018 -> COD_CLIMA_14\n",
    "    \n",
    "    2019-NOW -> 81,82,83,87,89"
   ]
  },
  {
   "cell_type": "markdown",
   "metadata": {
    "scrolled": false
   },
   "source": [
    "#Sacamos estaciones de aire y codigos de estaciones de clima asociadas\n",
    "\n",
    "    df_estaciones = spark.read.csv(\"/home/rulicering/Datos_Proyecto_Ozono/Procesado/Estaciones/Estaciones.csv\",inferSchema= True, header= True)\n",
    "\n",
    "    pd_estaciones = df_estaciones.filter(df_estaciones[\"MIDE_AIRE\"] > 0).select(\"CODIGO_CORTO\",\"COD_CLIMA_14\",\"E_81\",\"E_82\",\"E_83\",\"E_87\",\"E_89\").toPandas()\n",
    "    \n",
    "#Unimos ambos datasets\n",
    "\n",
    "    pd_final = pd.merge(pd_estaciones, on =[\"CODIGO_CORTO\"])"
   ]
  },
  {
   "cell_type": "markdown",
   "metadata": {},
   "source": [
    "## [11] - Ordenar y exportar"
   ]
  },
  {
   "cell_type": "code",
   "execution_count": null,
   "metadata": {},
   "outputs": [],
   "source": [
    "pd = df.toPandas()\n",
    "pd = pd.rename(columns={\"ESTACION\":\"CODIGO_CORTO\"})"
   ]
  },
  {
   "cell_type": "code",
   "execution_count": 29,
   "metadata": {},
   "outputs": [],
   "source": [
    "pd_final = pd_final.sort_values(by=[\"ANO\",\"MES\",\"DIA\",\"FECHA\",\"CODIGO_CORTO\"])\n",
    "pd_final.to_csv(\"/home/rulicering/Datos_Proyecto_Ozono/Procesado/Contaminacion/Contaminacion_2014-2020.csv\")"
   ]
  }
 ],
 "metadata": {
  "kernelspec": {
   "display_name": "Python 3",
   "language": "python",
   "name": "python3"
  },
  "language_info": {
   "codemirror_mode": {
    "name": "ipython",
    "version": 3
   },
   "file_extension": ".py",
   "mimetype": "text/x-python",
   "name": "python",
   "nbconvert_exporter": "python",
   "pygments_lexer": "ipython3",
   "version": "3.6.9"
  }
 },
 "nbformat": 4,
 "nbformat_minor": 4
}
