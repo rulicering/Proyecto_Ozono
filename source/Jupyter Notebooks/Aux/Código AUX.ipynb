{
 "cells": [
  {
   "cell_type": "markdown",
   "metadata": {},
   "source": [
    "# Filtrar datos estaciones \n",
    "### (ESTACIONES & MAGNITUDES) UTILIZADAS\n",
    "\n",
    "### FORMATO : ['P,'M','ESTACION','MAGNITUD','PUNTO_MUESTREO','ANO','MES','D01','V01','D02','V02','D03','V03','D04'..]"
   ]
  },
  {
   "cell_type": "code",
   "execution_count": null,
   "metadata": {},
   "outputs": [],
   "source": [
    "#Estaciones de clima del ayuntamiento\n",
    "df_estaciones_ayunt_19 = df_estaciones.filter(df_estaciones[\"MIDE_CLIMA\"]>0).filter(df_estaciones[\"UTILIZADA_19\"])\n",
    "#Lista con codigos_cortos de las estaciones anteriores.\n",
    "cod_estaciones_ayunt_19 = [elem[0] for elem in df_estaciones_ayunt_19.select(\"CODIGO_CORTO\").collect()]\n",
    "\n",
    "\n",
    "estacionesxmagnitudes = {}\n",
    "\n",
    "for estacion in cod_estaciones_ayunt_19:\n",
    "    row = df_estaciones_ayunt_19.filter(df_estaciones_ayunt_19[\"CODIGO_CORTO\"]==estacion).select(m_magnitudes).collect()\n",
    "    l_magnitudes = []\n",
    "    i=0\n",
    "    for magnitud in magnitudes:\n",
    "        if(row[0][i] == \"X\"):\n",
    "            l_magnitudes.append(magnitud)\n",
    "        i+=1\n",
    "    estacionesxmagnitudes[estacion] = l_magnitudes\n",
    "    \n",
    "#estacionesxmagnitudes['4']\n",
    "\n",
    "# Datos de (Estacion + magnitud) utilizadas\n",
    "\n",
    "df_est = df_estaciones_ayunt_19\n",
    "datos_utiles = []\n",
    "\n",
    "for cod_estacion in cod_estaciones_ayunt_19: \n",
    "\n",
    "#Todos los datos de clima de esa estación\n",
    "    datos_estacion = df_ayunt_19.filter(df_ayunt_19[\"ESTACION\"]==cod_estacion)\n",
    "    datos_estacion_filt = datos_estacion.filter(datos_estacion[\"MAGNITUD\"].isin(estacionesxmagnitudes[estacion]))\n",
    "    datos_utiles.append(datos_estacion_filt)\n",
    "    \n",
    "#Unimos todos\n",
    "df_aux = datos_utiles[0]\n",
    "for i in range(1,len(datos_utiles)):\n",
    "    df_aux = df_aux.union(datos_utiles[i])   \n",
    "    \n",
    "df_ayunt_19 = df_aux"
   ]
  }
 ],
 "metadata": {
  "kernelspec": {
   "display_name": "Python 3",
   "language": "python",
   "name": "python3"
  },
  "language_info": {
   "codemirror_mode": {
    "name": "ipython",
    "version": 3
   },
   "file_extension": ".py",
   "mimetype": "text/x-python",
   "name": "python",
   "nbconvert_exporter": "python",
   "pygments_lexer": "ipython3",
   "version": "3.6.9"
  }
 },
 "nbformat": 4,
 "nbformat_minor": 4
}
