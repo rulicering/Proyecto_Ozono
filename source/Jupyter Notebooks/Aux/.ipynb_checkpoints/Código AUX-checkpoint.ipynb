{
 "cells": [
  {
   "cell_type": "markdown",
   "metadata": {},
   "source": [
    "# Predictor -> Linear Regression"
   ]
  },
  {
   "cell_type": "code",
   "execution_count": null,
   "metadata": {},
   "outputs": [],
   "source": [
    "for magnitud in magnitudes_aire:\n",
    "    print(\"=\"*20, magnitud, \"=\"*20)\n",
    "    cols_comunes = df_datos.columns[0:8] + magnitudes_clima\n",
    "    cols_features = cols_comunes + [\"A_%s\"%magnitud]\n",
    "    assembler = VectorAssembler(inputCols = cols_features, outputCol = \"F_%s\" % magnitud)\n",
    "    #Limpiamos las filas con el dato para esa magnitud a Null\n",
    "    cols_y_magnitud = cols_features + [magnitud]\n",
    "    df_datos_magnitud = df_datos.select(cols_y_magnitud).na.drop()\n",
    "    #Mirar a ver que hacemos cuando el clima es null\n",
    "    \n",
    "    output = assembler.transform(df_datos_magnitud)\n",
    "    #output.printSchema()\n",
    "    #Ver cómo funciona\n",
    "    final_data = output.filter(output[\"FECHA\"] < hoy).select(\"F_%s\" %magnitud, magnitud)\n",
    "    training_data,test_data = final_data.randomSplit([0.9,0.1])\n",
    "    \n",
    "    #train_data = output.filter(output[\"FECHA\"] < hoy).select(\"F_%s\" %magnitud, magnitud)\n",
    "    #test_data = output.filter(output[\"FECHA\"] == hoy).select(\"F_%s\" %magnitud, magnitud)\n",
    "    \n",
    "    lr = LinearRegression(featuresCol =\"F_%s\" %magnitud, labelCol = magnitud)\n",
    "    lr_model = lr.fit(training_data)\n",
    "    test_results = lr_model.evaluate(test_data)\n",
    "    #test_results.residuals.show()\n",
    "    print(\"Root mean Squared Error: \",test_results.rootMeanSquaredError)\n",
    "    print(\"R2: \" ,test_results.r2)"
   ]
  },
  {
   "cell_type": "markdown",
   "metadata": {},
   "source": [
    "# PREDICCIONES MUNICIPIO 28079 -> MADRID\n"
   ]
  },
  {
   "cell_type": "code",
   "execution_count": null,
   "metadata": {},
   "outputs": [],
   "source": [
    "api_predicciones = swagger_client.PrediccionesEspecificasApi(swagger_client.ApiClient(configuration))\n",
    "api_predicciones.prediccin_por_municipios_diaria__tiempo_actual_(\"28079\")"
   ]
  },
  {
   "cell_type": "markdown",
   "metadata": {},
   "source": [
    "# Filtrar datos estaciones \n",
    "### (ESTACIONES & MAGNITUDES) UTILIZADAS\n",
    "\n",
    "### FORMATO : ['P,'M','ESTACION','MAGNITUD','PUNTO_MUESTREO','ANO','MES','D01','V01','D02','V02','D03','V03','D04'..]"
   ]
  },
  {
   "cell_type": "code",
   "execution_count": null,
   "metadata": {},
   "outputs": [],
   "source": [
    "#Estaciones de clima del ayuntamiento\n",
    "df_estaciones_ayunt_19 = df_estaciones.filter(df_estaciones[\"MIDE_CLIMA\"]>0).filter(df_estaciones[\"UTILIZADA_19\"])\n",
    "#Lista con codigos_cortos de las estaciones anteriores.\n",
    "cod_estaciones_ayunt_19 = [elem[0] for elem in df_estaciones_ayunt_19.select(\"CODIGO_CORTO\").collect()]\n",
    "\n",
    "\n",
    "estacionesxmagnitudes = {}\n",
    "\n",
    "for estacion in cod_estaciones_ayunt_19:\n",
    "    row = df_estaciones_ayunt_19.filter(df_estaciones_ayunt_19[\"CODIGO_CORTO\"]==estacion).select(m_magnitudes).collect()\n",
    "    l_magnitudes = []\n",
    "    i=0\n",
    "    for magnitud in magnitudes:\n",
    "        if(row[0][i] == \"X\"):\n",
    "            l_magnitudes.append(magnitud)\n",
    "        i+=1\n",
    "    estacionesxmagnitudes[estacion] = l_magnitudes\n",
    "    \n",
    "#estacionesxmagnitudes['4']\n",
    "\n",
    "# Datos de (Estacion + magnitud) utilizadas\n",
    "\n",
    "df_est = df_estaciones_ayunt_19\n",
    "datos_utiles = []\n",
    "\n",
    "for cod_estacion in cod_estaciones_ayunt_19: \n",
    "\n",
    "#Todos los datos de clima de esa estación\n",
    "    datos_estacion = df_ayunt_19.filter(df_ayunt_19[\"ESTACION\"]==cod_estacion)\n",
    "    datos_estacion_filt = datos_estacion.filter(datos_estacion[\"MAGNITUD\"].isin(estacionesxmagnitudes[estacion]))\n",
    "    datos_utiles.append(datos_estacion_filt)\n",
    "    \n",
    "#Unimos todos\n",
    "df_aux = datos_utiles[0]\n",
    "for i in range(1,len(datos_utiles)):\n",
    "    df_aux = df_aux.union(datos_utiles[i])   \n",
    "    \n",
    "df_ayunt_19 = df_aux"
   ]
  },
  {
   "cell_type": "markdown",
   "metadata": {},
   "source": [
    "# BACKUP string -> diccionario"
   ]
  },
  {
   "cell_type": "code",
   "execution_count": null,
   "metadata": {},
   "outputs": [],
   "source": [
    "def convertir_a_diccionario(raw,inicio,tipo):\n",
    "    #print(\" Tipo: \", tipo)\n",
    "    i = inicio\n",
    "    iniciob = -1\n",
    "    diccionario = {}   \n",
    "    final = len(raw)\n",
    "    a_is_fixed = False\n",
    "    lista = []\n",
    "    \n",
    "    while i < final:\n",
    "        c = raw[i]\n",
    "        if(i > 0):c_ant = raw[i-1]\n",
    "        #print(\"i:\",i,\"Caracter: \", raw[i], \"Tipo: \", tipo)\n",
    "        if((c == \":\") & ~(a_is_fixed)):\n",
    "            print(\":\")\n",
    "            a_is_fixed = True\n",
    "            a = raw[inicio:i]\n",
    "            iniciob = i+1\n",
    "            b = ''\n",
    "            #print(\"a:\", a)\n",
    "            \n",
    "        if(c == \";\" or c == \",\" ):\n",
    "            print(\"; | ,\")\n",
    "            if(tipo == 2): lista.append(diccionario)\n",
    "            else:\n",
    "                a_is_fixed = False\n",
    "                if(c_ant != \"]\")&(c_ant != \"}\"):\n",
    "                    b = raw[iniciob:i]\n",
    "                #print(b,\"TIPO DE B: \", type(b))\n",
    "                diccionario[a] =  b\n",
    "                inicio = i+1\n",
    "                \n",
    "        if(c ==\"{\"):\n",
    "            print(\"{\")\n",
    "            b,i = convertir_a_diccionario(raw,i+1,1)\n",
    "            if(tipo != 2): \n",
    "                diccionario[a]=b\n",
    "            else:\n",
    "                diccionario = b\n",
    "            print(\"Diccionario: \", b)\n",
    "            inicio = i\n",
    "            a_is_fixed = False\n",
    "            \n",
    "        if(c ==\"}\"):\n",
    "            print(\"}\")\n",
    "            if(c_ant != \"]\")&(c_ant != \"}\"): #Si era una lista el elemento no se coge los literales\n",
    "                b = raw[iniciob:i]\n",
    "            diccionario[a] = b\n",
    "            print(\" b: \", b)\n",
    "            return diccionario, i\n",
    "        \n",
    "        if(c == '['):\n",
    "            print(\"[\")\n",
    "            b,i = convertir_a_diccionario(raw,i+1,2)\n",
    "            inicio = i\n",
    "            a_is_fixed = False\n",
    "            \n",
    "        if(c == ']'):\n",
    "            lista.append(diccionario)\n",
    "            print(']')\n",
    "            print(\"Lista: \", lista)\n",
    "            return lista, i\n",
    "            \n",
    "        i+=1\n",
    "       \n",
    "    return diccionario"
   ]
  }
 ],
 "metadata": {
  "kernelspec": {
   "display_name": "Python 3",
   "language": "python",
   "name": "python3"
  },
  "language_info": {
   "codemirror_mode": {
    "name": "ipython",
    "version": 3
   },
   "file_extension": ".py",
   "mimetype": "text/x-python",
   "name": "python",
   "nbconvert_exporter": "python",
   "pygments_lexer": "ipython3",
   "version": "3.6.9"
  }
 },
 "nbformat": 4,
 "nbformat_minor": 4
}
