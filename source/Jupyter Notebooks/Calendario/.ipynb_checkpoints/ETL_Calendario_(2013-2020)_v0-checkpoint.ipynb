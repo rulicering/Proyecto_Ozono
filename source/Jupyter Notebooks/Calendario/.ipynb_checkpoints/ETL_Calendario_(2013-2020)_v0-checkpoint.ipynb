{
 "cells": [
  {
   "cell_type": "markdown",
   "metadata": {},
   "source": [
    "# [o3]- Proyecto Ozono - ETL_Calendario - v0"
   ]
  },
  {
   "cell_type": "markdown",
   "metadata": {},
   "source": [
    "    0. Inicialización\n",
    "    1. Datos\n",
    "        1.0 Carga de fichero Calendario\n",
    "        1.1 Columna FECHA: 01/01/2013 -> 20130101\n",
    "        1.2 Columna DIA SEMANA -> Numérico\n",
    "        1.3 Columna LABORAL ->  LABORABLE: 1, FESTIVO:0\n",
    "        1.4 Columna TIPODIA ->  Laborable+Lectivo: 2, Laborable: 1,Festivo: 0\n",
    "    2. Formato\n",
    "    3. Exportar"
   ]
  },
  {
   "cell_type": "markdown",
   "metadata": {},
   "source": [
    "# [0] - Inicialización"
   ]
  },
  {
   "cell_type": "code",
   "execution_count": 1,
   "metadata": {},
   "outputs": [],
   "source": [
    "import findspark\n",
    "findspark.init('/home/rulicering/BigData/spark-2.4.5-bin-hadoop2.7')\n",
    "from pyspark.sql import SparkSession\n",
    "import pandas as pd\n",
    "from pyspark.sql import functions as F\n",
    "from pyspark.sql.types import IntegerType"
   ]
  },
  {
   "cell_type": "code",
   "execution_count": null,
   "metadata": {},
   "outputs": [],
   "source": [
    "spark = SparkSession.builder.appName('calendario').getOrCreate()"
   ]
  },
  {
   "cell_type": "markdown",
   "metadata": {},
   "source": [
    "# [1] - Datos"
   ]
  },
  {
   "cell_type": "markdown",
   "metadata": {},
   "source": [
    "## [1.0] - Carga de fichero Calendario"
   ]
  },
  {
   "cell_type": "code",
   "execution_count": 2,
   "metadata": {},
   "outputs": [],
   "source": [
    "df = spark.read.csv('/home/rulicering/Datos_Proyecto_Ozono/Raw/Calendario/calendario.csv',inferSchema= True,header=True, sep=',')"
   ]
  },
  {
   "cell_type": "markdown",
   "metadata": {},
   "source": [
    "## [1.1] - Columna  \"FECHA\": 01/01/2013 -> 20130101"
   ]
  },
  {
   "cell_type": "code",
   "execution_count": 4,
   "metadata": {},
   "outputs": [],
   "source": [
    "df = df.withColumn(\"FECHA\",F.concat(df[\"Dia\"][7:4],df[\"Dia\"][4:2],df[\"Dia\"][0:2]).cast(IntegerType()))"
   ]
  },
  {
   "cell_type": "markdown",
   "metadata": {},
   "source": [
    "## [1.2] - Columna DIA SEMANA -> Numérico"
   ]
  },
  {
   "cell_type": "code",
   "execution_count": 5,
   "metadata": {},
   "outputs": [],
   "source": [
    "def dia_semana_numerico(col):\n",
    "    return F.when(F.col(\"Dia_semana\")== 'lunes',1).when(F.col(\"Dia_semana\")== 'martes',2).when(F.col(\"Dia_semana\")== 'miercoles',3).when(F.col(\"Dia_semana\")== 'jueves',4).when(F.col(\"Dia_semana\")== 'viernes',5).when(F.col(\"Dia_semana\")== 'sabado',6).otherwise(7)"
   ]
  },
  {
   "cell_type": "code",
   "execution_count": 6,
   "metadata": {},
   "outputs": [],
   "source": [
    "df = df.withColumn(\"DIASEMANA\", dia_semana_numerico(df[\"Dia_Semana\"]))"
   ]
  },
  {
   "cell_type": "markdown",
   "metadata": {},
   "source": [
    "## [1.3] - Columna LABORAL ->  LABORABLE: 1, FESTIVO:0"
   ]
  },
  {
   "cell_type": "code",
   "execution_count": 7,
   "metadata": {},
   "outputs": [],
   "source": [
    "df = df.withColumn(\"LABORAL\", F.when(F.col('laborable / festivo / domingo festivo')== \"laborable\",1).otherwise(0))"
   ]
  },
  {
   "cell_type": "markdown",
   "metadata": {},
   "source": [
    "## [1.4] -Columna TIPODIA ->  Laborable+Lectivo: 2, Laborable: 1,Festivo: 0"
   ]
  },
  {
   "cell_type": "code",
   "execution_count": 8,
   "metadata": {},
   "outputs": [],
   "source": [
    "df = df.withColumn(\"TIPODIA\", F.when((F.col(\"LABORAL\")==1)&(F.col(\"lectivo\")==1),2).when((F.col(\"LABORAL\")==1)&(F.col(\"lectivo\")==0),1).otherwise(0))"
   ]
  },
  {
   "cell_type": "markdown",
   "metadata": {},
   "source": [
    "# [2] - Formato"
   ]
  },
  {
   "cell_type": "code",
   "execution_count": 9,
   "metadata": {},
   "outputs": [],
   "source": [
    "df = df.select('FECHA',\"DIASEMANA\",\"TIPODIA\",df[\"Confinamiento\"].alias(\"CONFINAMIENTO\"))"
   ]
  },
  {
   "cell_type": "markdown",
   "metadata": {},
   "source": [
    "# [3] - Exportar"
   ]
  },
  {
   "cell_type": "code",
   "execution_count": 10,
   "metadata": {},
   "outputs": [],
   "source": [
    "df.toPandas().to_csv(\"/home/rulicering/Datos_Proyecto_Ozono/Procesado/Calendario_2013-2020.csv\")"
   ]
  }
 ],
 "metadata": {
  "kernelspec": {
   "display_name": "Python 3",
   "language": "python",
   "name": "python3"
  },
  "language_info": {
   "codemirror_mode": {
    "name": "ipython",
    "version": 3
   },
   "file_extension": ".py",
   "mimetype": "text/x-python",
   "name": "python",
   "nbconvert_exporter": "python",
   "pygments_lexer": "ipython3",
   "version": "3.6.9"
  }
 },
 "nbformat": 4,
 "nbformat_minor": 4
}
