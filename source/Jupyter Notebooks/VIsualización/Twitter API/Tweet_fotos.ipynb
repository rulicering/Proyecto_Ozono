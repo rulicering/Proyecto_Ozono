{
 "cells": [
  {
   "cell_type": "markdown",
   "metadata": {},
   "source": [
    "# Tweet con fotos\n",
    "    Cuenta @proyecto_ozono"
   ]
  },
  {
   "cell_type": "code",
   "execution_count": 27,
   "metadata": {},
   "outputs": [],
   "source": [
    "import tweepy\n",
    "import json"
   ]
  },
  {
   "cell_type": "code",
   "execution_count": 28,
   "metadata": {},
   "outputs": [],
   "source": [
    "f = open(\"/home/rulicering/Datos_Proyecto_Ozono/Credenciales/Credenciales.json\")\n",
    "credenciales = json.load(f)"
   ]
  },
  {
   "cell_type": "code",
   "execution_count": 33,
   "metadata": {},
   "outputs": [],
   "source": [
    "twitter_auth_keys = { \n",
    "    \"consumer_key\"        : credenciales[\"twitter\"][\"consumer_key\"],\n",
    "    \"consumer_secret\"     : credenciales[\"twitter\"][\"consumer_secret\"],\n",
    "    \"access_token\"        : credenciales[\"twitter\"][\"access_token\"],\n",
    "    \"access_token_secret\" : credenciales[\"twitter\"][\"access_token_secret\"]\n",
    "}"
   ]
  },
  {
   "cell_type": "code",
   "execution_count": 34,
   "metadata": {},
   "outputs": [],
   "source": [
    "def tweet(mensaje,fotos = []):\n",
    "    auth = tweepy.OAuthHandler(\n",
    "            twitter_auth_keys['consumer_key'],\n",
    "            twitter_auth_keys['consumer_secret']\n",
    "            )\n",
    "    auth.set_access_token(\n",
    "            twitter_auth_keys['access_token'],\n",
    "            twitter_auth_keys['access_token_secret']\n",
    "            )\n",
    "    api = tweepy.API(auth)\n",
    "    \n",
    "    l_media_ids = []\n",
    "    for i in range(len(fotos)):\n",
    "        response = api.media_upload(fotos[i])\n",
    "        l_media_ids.append(response.media_id)\n",
    "        \n",
    "    status = api.update_status(status=mensaje, media_ids = l_media_ids)\n",
    "    return status"
   ]
  },
  {
   "cell_type": "code",
   "execution_count": 35,
   "metadata": {
    "scrolled": true
   },
   "outputs": [
    {
     "data": {
      "text/plain": [
       "Status(_api=<tweepy.api.API object at 0x7fc61530bda0>, _json={'created_at': 'Mon May 11 14:29:19 +0000 2020', 'id': 1259853097276510210, 'id_str': '1259853097276510210', 'text': 'SUBIENDO UN PAR DE FOTOS https://t.co/6b48cUFrQ6', 'truncated': False, 'entities': {'hashtags': [], 'symbols': [], 'user_mentions': [], 'urls': [], 'media': [{'id': 1259853086471917570, 'id_str': '1259853086471917570', 'indices': [25, 48], 'media_url': 'http://pbs.twimg.com/media/EXvltQhWkAIiMuu.jpg', 'media_url_https': 'https://pbs.twimg.com/media/EXvltQhWkAIiMuu.jpg', 'url': 'https://t.co/6b48cUFrQ6', 'display_url': 'pic.twitter.com/6b48cUFrQ6', 'expanded_url': 'https://twitter.com/proyecto_ozono/status/1259853097276510210/photo/1', 'type': 'photo', 'sizes': {'thumb': {'w': 150, 'h': 150, 'resize': 'crop'}, 'medium': {'w': 1200, 'h': 848, 'resize': 'fit'}, 'small': {'w': 680, 'h': 481, 'resize': 'fit'}, 'large': {'w': 2048, 'h': 1448, 'resize': 'fit'}}}]}, 'extended_entities': {'media': [{'id': 1259853086471917570, 'id_str': '1259853086471917570', 'indices': [25, 48], 'media_url': 'http://pbs.twimg.com/media/EXvltQhWkAIiMuu.jpg', 'media_url_https': 'https://pbs.twimg.com/media/EXvltQhWkAIiMuu.jpg', 'url': 'https://t.co/6b48cUFrQ6', 'display_url': 'pic.twitter.com/6b48cUFrQ6', 'expanded_url': 'https://twitter.com/proyecto_ozono/status/1259853097276510210/photo/1', 'type': 'photo', 'sizes': {'thumb': {'w': 150, 'h': 150, 'resize': 'crop'}, 'medium': {'w': 1200, 'h': 848, 'resize': 'fit'}, 'small': {'w': 680, 'h': 481, 'resize': 'fit'}, 'large': {'w': 2048, 'h': 1448, 'resize': 'fit'}}}, {'id': 1259853092830482433, 'id_str': '1259853092830482433', 'indices': [25, 48], 'media_url': 'http://pbs.twimg.com/media/EXvltoNWkAEnPu4.jpg', 'media_url_https': 'https://pbs.twimg.com/media/EXvltoNWkAEnPu4.jpg', 'url': 'https://t.co/6b48cUFrQ6', 'display_url': 'pic.twitter.com/6b48cUFrQ6', 'expanded_url': 'https://twitter.com/proyecto_ozono/status/1259853097276510210/photo/1', 'type': 'photo', 'sizes': {'thumb': {'w': 150, 'h': 150, 'resize': 'crop'}, 'large': {'w': 1920, 'h': 1080, 'resize': 'fit'}, 'medium': {'w': 1200, 'h': 675, 'resize': 'fit'}, 'small': {'w': 680, 'h': 383, 'resize': 'fit'}}}]}, 'source': '<a href=\"https://github.com/rulicering/Proyecto_Ozono\" rel=\"nofollow\">Predicciones diarias - [o3]</a>', 'in_reply_to_status_id': None, 'in_reply_to_status_id_str': None, 'in_reply_to_user_id': None, 'in_reply_to_user_id_str': None, 'in_reply_to_screen_name': None, 'user': {'id': 1248321005560516609, 'id_str': '1248321005560516609', 'name': 'o3', 'screen_name': 'proyecto_ozono', 'location': '', 'description': 'Hola', 'url': None, 'entities': {'description': {'urls': []}}, 'protected': False, 'followers_count': 1, 'friends_count': 0, 'listed_count': 0, 'created_at': 'Thu Apr 09 18:45:07 +0000 2020', 'favourites_count': 0, 'utc_offset': None, 'time_zone': None, 'geo_enabled': False, 'verified': False, 'statuses_count': 1, 'lang': None, 'contributors_enabled': False, 'is_translator': False, 'is_translation_enabled': False, 'profile_background_color': 'F5F8FA', 'profile_background_image_url': None, 'profile_background_image_url_https': None, 'profile_background_tile': False, 'profile_image_url': 'http://pbs.twimg.com/profile_images/1258113229982588929/EwxVxeA4_normal.jpg', 'profile_image_url_https': 'https://pbs.twimg.com/profile_images/1258113229982588929/EwxVxeA4_normal.jpg', 'profile_banner_url': 'https://pbs.twimg.com/profile_banners/1248321005560516609/1586459020', 'profile_link_color': '1DA1F2', 'profile_sidebar_border_color': 'C0DEED', 'profile_sidebar_fill_color': 'DDEEF6', 'profile_text_color': '333333', 'profile_use_background_image': True, 'has_extended_profile': False, 'default_profile': True, 'default_profile_image': False, 'following': False, 'follow_request_sent': False, 'notifications': False, 'translator_type': 'none'}, 'geo': None, 'coordinates': None, 'place': None, 'contributors': None, 'is_quote_status': False, 'retweet_count': 0, 'favorite_count': 0, 'favorited': False, 'retweeted': False, 'possibly_sensitive': False, 'lang': 'es'}, created_at=datetime.datetime(2020, 5, 11, 14, 29, 19), id=1259853097276510210, id_str='1259853097276510210', text='SUBIENDO UN PAR DE FOTOS https://t.co/6b48cUFrQ6', truncated=False, entities={'hashtags': [], 'symbols': [], 'user_mentions': [], 'urls': [], 'media': [{'id': 1259853086471917570, 'id_str': '1259853086471917570', 'indices': [25, 48], 'media_url': 'http://pbs.twimg.com/media/EXvltQhWkAIiMuu.jpg', 'media_url_https': 'https://pbs.twimg.com/media/EXvltQhWkAIiMuu.jpg', 'url': 'https://t.co/6b48cUFrQ6', 'display_url': 'pic.twitter.com/6b48cUFrQ6', 'expanded_url': 'https://twitter.com/proyecto_ozono/status/1259853097276510210/photo/1', 'type': 'photo', 'sizes': {'thumb': {'w': 150, 'h': 150, 'resize': 'crop'}, 'medium': {'w': 1200, 'h': 848, 'resize': 'fit'}, 'small': {'w': 680, 'h': 481, 'resize': 'fit'}, 'large': {'w': 2048, 'h': 1448, 'resize': 'fit'}}}]}, extended_entities={'media': [{'id': 1259853086471917570, 'id_str': '1259853086471917570', 'indices': [25, 48], 'media_url': 'http://pbs.twimg.com/media/EXvltQhWkAIiMuu.jpg', 'media_url_https': 'https://pbs.twimg.com/media/EXvltQhWkAIiMuu.jpg', 'url': 'https://t.co/6b48cUFrQ6', 'display_url': 'pic.twitter.com/6b48cUFrQ6', 'expanded_url': 'https://twitter.com/proyecto_ozono/status/1259853097276510210/photo/1', 'type': 'photo', 'sizes': {'thumb': {'w': 150, 'h': 150, 'resize': 'crop'}, 'medium': {'w': 1200, 'h': 848, 'resize': 'fit'}, 'small': {'w': 680, 'h': 481, 'resize': 'fit'}, 'large': {'w': 2048, 'h': 1448, 'resize': 'fit'}}}, {'id': 1259853092830482433, 'id_str': '1259853092830482433', 'indices': [25, 48], 'media_url': 'http://pbs.twimg.com/media/EXvltoNWkAEnPu4.jpg', 'media_url_https': 'https://pbs.twimg.com/media/EXvltoNWkAEnPu4.jpg', 'url': 'https://t.co/6b48cUFrQ6', 'display_url': 'pic.twitter.com/6b48cUFrQ6', 'expanded_url': 'https://twitter.com/proyecto_ozono/status/1259853097276510210/photo/1', 'type': 'photo', 'sizes': {'thumb': {'w': 150, 'h': 150, 'resize': 'crop'}, 'large': {'w': 1920, 'h': 1080, 'resize': 'fit'}, 'medium': {'w': 1200, 'h': 675, 'resize': 'fit'}, 'small': {'w': 680, 'h': 383, 'resize': 'fit'}}}]}, source='Predicciones diarias - [o3]', source_url='https://github.com/rulicering/Proyecto_Ozono', in_reply_to_status_id=None, in_reply_to_status_id_str=None, in_reply_to_user_id=None, in_reply_to_user_id_str=None, in_reply_to_screen_name=None, author=User(_api=<tweepy.api.API object at 0x7fc61530bda0>, _json={'id': 1248321005560516609, 'id_str': '1248321005560516609', 'name': 'o3', 'screen_name': 'proyecto_ozono', 'location': '', 'description': 'Hola', 'url': None, 'entities': {'description': {'urls': []}}, 'protected': False, 'followers_count': 1, 'friends_count': 0, 'listed_count': 0, 'created_at': 'Thu Apr 09 18:45:07 +0000 2020', 'favourites_count': 0, 'utc_offset': None, 'time_zone': None, 'geo_enabled': False, 'verified': False, 'statuses_count': 1, 'lang': None, 'contributors_enabled': False, 'is_translator': False, 'is_translation_enabled': False, 'profile_background_color': 'F5F8FA', 'profile_background_image_url': None, 'profile_background_image_url_https': None, 'profile_background_tile': False, 'profile_image_url': 'http://pbs.twimg.com/profile_images/1258113229982588929/EwxVxeA4_normal.jpg', 'profile_image_url_https': 'https://pbs.twimg.com/profile_images/1258113229982588929/EwxVxeA4_normal.jpg', 'profile_banner_url': 'https://pbs.twimg.com/profile_banners/1248321005560516609/1586459020', 'profile_link_color': '1DA1F2', 'profile_sidebar_border_color': 'C0DEED', 'profile_sidebar_fill_color': 'DDEEF6', 'profile_text_color': '333333', 'profile_use_background_image': True, 'has_extended_profile': False, 'default_profile': True, 'default_profile_image': False, 'following': False, 'follow_request_sent': False, 'notifications': False, 'translator_type': 'none'}, id=1248321005560516609, id_str='1248321005560516609', name='o3', screen_name='proyecto_ozono', location='', description='Hola', url=None, entities={'description': {'urls': []}}, protected=False, followers_count=1, friends_count=0, listed_count=0, created_at=datetime.datetime(2020, 4, 9, 18, 45, 7), favourites_count=0, utc_offset=None, time_zone=None, geo_enabled=False, verified=False, statuses_count=1, lang=None, contributors_enabled=False, is_translator=False, is_translation_enabled=False, profile_background_color='F5F8FA', profile_background_image_url=None, profile_background_image_url_https=None, profile_background_tile=False, profile_image_url='http://pbs.twimg.com/profile_images/1258113229982588929/EwxVxeA4_normal.jpg', profile_image_url_https='https://pbs.twimg.com/profile_images/1258113229982588929/EwxVxeA4_normal.jpg', profile_banner_url='https://pbs.twimg.com/profile_banners/1248321005560516609/1586459020', profile_link_color='1DA1F2', profile_sidebar_border_color='C0DEED', profile_sidebar_fill_color='DDEEF6', profile_text_color='333333', profile_use_background_image=True, has_extended_profile=False, default_profile=True, default_profile_image=False, following=False, follow_request_sent=False, notifications=False, translator_type='none'), user=User(_api=<tweepy.api.API object at 0x7fc61530bda0>, _json={'id': 1248321005560516609, 'id_str': '1248321005560516609', 'name': 'o3', 'screen_name': 'proyecto_ozono', 'location': '', 'description': 'Hola', 'url': None, 'entities': {'description': {'urls': []}}, 'protected': False, 'followers_count': 1, 'friends_count': 0, 'listed_count': 0, 'created_at': 'Thu Apr 09 18:45:07 +0000 2020', 'favourites_count': 0, 'utc_offset': None, 'time_zone': None, 'geo_enabled': False, 'verified': False, 'statuses_count': 1, 'lang': None, 'contributors_enabled': False, 'is_translator': False, 'is_translation_enabled': False, 'profile_background_color': 'F5F8FA', 'profile_background_image_url': None, 'profile_background_image_url_https': None, 'profile_background_tile': False, 'profile_image_url': 'http://pbs.twimg.com/profile_images/1258113229982588929/EwxVxeA4_normal.jpg', 'profile_image_url_https': 'https://pbs.twimg.com/profile_images/1258113229982588929/EwxVxeA4_normal.jpg', 'profile_banner_url': 'https://pbs.twimg.com/profile_banners/1248321005560516609/1586459020', 'profile_link_color': '1DA1F2', 'profile_sidebar_border_color': 'C0DEED', 'profile_sidebar_fill_color': 'DDEEF6', 'profile_text_color': '333333', 'profile_use_background_image': True, 'has_extended_profile': False, 'default_profile': True, 'default_profile_image': False, 'following': False, 'follow_request_sent': False, 'notifications': False, 'translator_type': 'none'}, id=1248321005560516609, id_str='1248321005560516609', name='o3', screen_name='proyecto_ozono', location='', description='Hola', url=None, entities={'description': {'urls': []}}, protected=False, followers_count=1, friends_count=0, listed_count=0, created_at=datetime.datetime(2020, 4, 9, 18, 45, 7), favourites_count=0, utc_offset=None, time_zone=None, geo_enabled=False, verified=False, statuses_count=1, lang=None, contributors_enabled=False, is_translator=False, is_translation_enabled=False, profile_background_color='F5F8FA', profile_background_image_url=None, profile_background_image_url_https=None, profile_background_tile=False, profile_image_url='http://pbs.twimg.com/profile_images/1258113229982588929/EwxVxeA4_normal.jpg', profile_image_url_https='https://pbs.twimg.com/profile_images/1258113229982588929/EwxVxeA4_normal.jpg', profile_banner_url='https://pbs.twimg.com/profile_banners/1248321005560516609/1586459020', profile_link_color='1DA1F2', profile_sidebar_border_color='C0DEED', profile_sidebar_fill_color='DDEEF6', profile_text_color='333333', profile_use_background_image=True, has_extended_profile=False, default_profile=True, default_profile_image=False, following=False, follow_request_sent=False, notifications=False, translator_type='none'), geo=None, coordinates=None, place=None, contributors=None, is_quote_status=False, retweet_count=0, favorite_count=0, favorited=False, retweeted=False, possibly_sensitive=False, lang='es')"
      ]
     },
     "execution_count": 35,
     "metadata": {},
     "output_type": "execute_result"
    }
   ],
   "source": [
    "tweet(mensaje = \"SUBIENDO UN PAR DE FOTOS\",fotos = [\"/home/rulicering/Downloads/calendario-2001.jpg\",\"/home/rulicering/Downloads/Screenshot.png\"])"
   ]
  }
 ],
 "metadata": {
  "kernelspec": {
   "display_name": "Python 3",
   "language": "python",
   "name": "python3"
  },
  "language_info": {
   "codemirror_mode": {
    "name": "ipython",
    "version": 3
   },
   "file_extension": ".py",
   "mimetype": "text/x-python",
   "name": "python",
   "nbconvert_exporter": "python",
   "pygments_lexer": "ipython3",
   "version": "3.6.9"
  }
 },
 "nbformat": 4,
 "nbformat_minor": 4
}
